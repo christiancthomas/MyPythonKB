{
 "cells": [
  {
   "metadata": {},
   "cell_type": "markdown",
   "source": [
    "# List and Tuples\n",
    "\n",
    "## Keynote:\n",
    "In Python, both lists and tuples are used to store collections of items. However, they have some key differences in terms of mutability and use cases.\n",
    "\n",
    "### Lists\n",
    "**Lists** are mutable sequences, which means that their elements can be changed, added, or removed. Lists are created using square brackets `[]`.\n",
    "\n",
    "**Key Characteristics of Lists:**\n",
    "- **Mutable:** You can change, add, or remove elements after the list is created.\n",
    "- **Dynamic:** Lists can grow and shrink as needed.\n",
    "- **Indexed:** Elements can be accessed by their index, with the first element at index 0.\n",
    "- **Ordered:** The order of elements is maintained.\n",
    "\n",
    "**Example:**\n",
    "```python\n",
    "# Creating a list\n",
    "fruits = [\"apple\", \"banana\", \"cherry\"]\n",
    "\n",
    "# Accessing elements\n",
    "print(fruits[0])  # Output: apple\n",
    "\n",
    "# Modifying elements\n",
    "fruits[1] = \"blueberry\"\n",
    "print(fruits)  # Output: ['apple', 'blueberry', 'cherry']\n",
    "\n",
    "# Adding elements\n",
    "fruits.append(\"date\")\n",
    "print(fruits)  # Output: ['apple', 'blueberry', 'cherry', 'date']\n",
    "\n",
    "# Removing elements\n",
    "fruits.remove(\"apple\")\n",
    "print(fruits)  # Output: ['blueberry', 'cherry', 'date']\n",
    "```\n",
    "\n",
    "### Tuples\n",
    "**Tuples** are immutable sequences, which means that once a tuple is created, its elements cannot be changed, added, or removed. Tuples are created using parentheses `()`.\n",
    "\n",
    "**Key Characteristics of Tuples:**\n",
    "- **Immutable:** You cannot change, add, or remove elements after the tuple is created.\n",
    "- **Fixed Size:** The size of a tuple is fixed once it is created.\n",
    "- **Indexed:** Elements can be accessed by their index, with the first element at index 0.\n",
    "- **Ordered:** The order of elements is maintained.\n",
    "\n",
    "**Example:**\n",
    "```python\n",
    "# Creating a tuple\n",
    "fruit_tuple = (\"apple\", \"banana\", \"cherry\")\n",
    "\n",
    "# Accessing elements\n",
    "print(fruit_tuple[0])  # Output: apple\n",
    "\n",
    "# Tuples are immutable, so you cannot modify elements\n",
    "# The following line would raise a TypeError\n",
    "# fruit_tuple[1] = \"blueberry\"\n",
    "\n",
    "# However, you can create a new tuple by concatenation\n",
    "new_tuple = fruit_tuple + (\"date\",)\n",
    "print(new_tuple)  # Output: ('apple', 'banana', 'cherry', 'date')\n",
    "```\n",
    "\n",
    "### When to Use Lists vs. Tuples\n",
    "- **Lists** are generally used when you need a collection of items that may need to change during the program execution. They are ideal for situations where you need to modify the collection frequently.\n",
    "- **Tuples** are used when you need a collection of items that should not change. They are useful for fixed collections of data, such as the coordinates of a point, a set of constant values, or when you need to ensure the integrity of the data.\n",
    "\n",
    "### Summary\n",
    "- **Lists**: Mutable, dynamic, and ordered collections of items. Defined using square brackets `[]`.\n",
    "- **Tuples**: Immutable, fixed-size, and ordered collections of items. Defined using parentheses `()`.\n",
    "\n",
    "Understanding the differences between lists and tuples helps you choose the appropriate data structure for your needs in Python programming."
   ],
   "id": "693453c5ab0fb851"
  },
  {
   "metadata": {
    "ExecuteTime": {
     "end_time": "2024-07-02T00:07:31.722256Z",
     "start_time": "2024-07-02T00:07:31.718875Z"
    }
   },
   "cell_type": "code",
   "source": [
    "# Creating a tuple\n",
    "fruit_tuple = (\"apple\", \"banana\", \"cherry\", \"apple\", \"banana\")\n",
    "\n",
    "# Accessing elements\n",
    "print(fruit_tuple[0])  # Output: apple\n",
    "print(fruit_tuple)\n",
    "# Tuples are immutable, so you cannot modify elements\n",
    "# The following line would raise a TypeError\n",
    "# fruit_tuple[1] = \"blueberry\"\n",
    "\n",
    "# However, you can create a new tuple by concatenation\n",
    "add_tuple = (\"date\",\"fruit\")\n",
    "new_tuple = fruit_tuple + add_tuple \n",
    "print(new_tuple)  # Output: ('apple', 'banana', 'cherry', 'date')"
   ],
   "id": "862e2f4518fca74e",
   "outputs": [
    {
     "name": "stdout",
     "output_type": "stream",
     "text": [
      "apple\n",
      "('apple', 'banana', 'cherry', 'apple', 'banana')\n",
      "('apple', 'banana', 'cherry', 'apple', 'banana', 'date', 'fruit')\n"
     ]
    }
   ],
   "execution_count": 20
  },
  {
   "metadata": {
    "ExecuteTime": {
     "end_time": "2024-07-01T23:51:53.454508Z",
     "start_time": "2024-07-01T23:51:53.451080Z"
    }
   },
   "cell_type": "code",
   "source": [
    "list1 = [1, 2, 3, 4, 5, 6, 7, 8, 9, 10]\n",
    "list2 = []\n",
    "for i in list1:\n",
    "    list2.append(i)\n",
    "\n",
    "print(list2)\n",
    "\n",
    "list3 = []\n",
    "list3 = list3 + list1\n",
    "print(list3)"
   ],
   "id": "c65f01b4baf56056",
   "outputs": [
    {
     "name": "stdout",
     "output_type": "stream",
     "text": [
      "[1, 2, 3, 4, 5, 6, 7, 8, 9, 10]\n",
      "[1, 2, 3, 4, 5, 6, 7, 8, 9, 10]\n"
     ]
    }
   ],
   "execution_count": 15
  },
  {
   "metadata": {},
   "cell_type": "markdown",
   "source": "",
   "id": "bb5f36a9bed0c9d3"
  },
  {
   "metadata": {},
   "cell_type": "markdown",
   "source": [
    "## 1.1. Introduction to Lists\n",
    "Summary: Lists are mutable sequences that can hold items of different types. They can be created using square brackets and can be displayed using the print function."
   ],
   "id": "b7013144062b8692"
  },
  {
   "metadata": {
    "ExecuteTime": {
     "end_time": "2024-07-08T23:33:24.279638Z",
     "start_time": "2024-07-08T23:33:24.272955Z"
    }
   },
   "cell_type": "code",
   "source": [
    "# Creating different types of lists\n",
    "int_list = [1, 2, 3, 4, 5]\n",
    "str_list = [\"apple\", \"banana\", \"cherry\"]\n",
    "mixed_list = [type(1), type(\"apple\"), type(3.5), type(True)]\n",
    "\n",
    "# Displaying the lists\n",
    "print(int_list)\n",
    "print(str_list)\n",
    "print(mixed_list)\n"
   ],
   "id": "56d795ae6699a604",
   "outputs": [
    {
     "name": "stdout",
     "output_type": "stream",
     "text": [
      "[1, 2, 3, 4, 5]\n",
      "['apple', 'banana', 'cherry']\n",
      "[<class 'int'>, <class 'str'>, <class 'float'>, <class 'bool'>]\n"
     ]
    }
   ],
   "execution_count": 12
  },
  {
   "metadata": {},
   "cell_type": "markdown",
   "source": [
    "## 1.2. List Slicing\n",
    "Summary: List slicing allows you to create a new list from a part of an existing list using the list[start:end] format. The start index is inclusive, and the end index is exclusive."
   ],
   "id": "8fe8e3a35291779d"
  },
  {
   "metadata": {
    "ExecuteTime": {
     "end_time": "2024-07-02T00:16:38.436021Z",
     "start_time": "2024-07-02T00:16:38.432767Z"
    }
   },
   "cell_type": "code",
   "source": [
    "# List slicing\n",
    "numbers = [10, 81, 12, 11, 17, 90, 61, 81, 8, 9]\n",
    "slice1 = numbers[2:5]  # [2, 3, 4]\n",
    "slice2 = numbers[:3]   # [0, 1, 2]\n",
    "slice3 = numbers[7:]   # [7, 8, 9]\n",
    "\n",
    "print(slice1)\n",
    "print(slice2)\n",
    "print(slice3)\n"
   ],
   "id": "f9501cd93d5d398f",
   "outputs": [
    {
     "name": "stdout",
     "output_type": "stream",
     "text": [
      "[12, 11, 17]\n",
      "[10, 81, 12]\n",
      "[81, 8, 9]\n"
     ]
    }
   ],
   "execution_count": 24
  },
  {
   "metadata": {},
   "cell_type": "markdown",
   "source": [
    "## 1.3. List Methods\n",
    "Summary: Lists have various methods for manipulating their contents, such as append(), index(), insert(), sort(), remove(), and reverse()."
   ],
   "id": "5c4377cda727c27e"
  },
  {
   "metadata": {},
   "cell_type": "markdown",
   "source": "",
   "id": "4353435bc6c3e59e"
  },
  {
   "metadata": {
    "ExecuteTime": {
     "end_time": "2024-07-02T00:27:10.231873Z",
     "start_time": "2024-07-02T00:27:10.228351Z"
    }
   },
   "cell_type": "code",
   "source": [
    "# Using list methods\n",
    "fruits = [\"apple\", \"banana\", \"cherry\"]\n",
    "\n",
    "# append\n",
    "fruits.append(\"date\")\n",
    "print(fruits)\n",
    "\n",
    "# index\n",
    "index_of_banana = fruits.index(\"banana\")\n",
    "print(index_of_banana)\n",
    "\n",
    "# insert\n",
    "fruits.insert(1, \"blueberry\")\n",
    "print(fruits)\n",
    "\n",
    "# sort\n",
    "fruits.sort()\n",
    "print(fruits)\n",
    "\n",
    "# remove\n",
    "fruits.remove(\"apple\")\n",
    "print(fruits)\n",
    "\n",
    "# reverse\n",
    "fruits.reverse()\n",
    "print(fruits)\n"
   ],
   "id": "faae03e3e97e5617",
   "outputs": [
    {
     "name": "stdout",
     "output_type": "stream",
     "text": [
      "['apple', 'banana', 'cherry', 'date']\n",
      "1\n",
      "['apple', 'blueberry', 'banana', 'cherry', 'date']\n",
      "['apple', 'banana', 'blueberry', 'cherry', 'date']\n",
      "['banana', 'blueberry', 'cherry', 'date']\n",
      "['date', 'cherry', 'blueberry', 'banana']\n"
     ]
    }
   ],
   "execution_count": 32
  },
  {
   "metadata": {},
   "cell_type": "markdown",
   "source": [
    "## 1.4. List Comprehensions\n",
    "Summary: List comprehensions provide a concise way to create lists. They can also include conditions to filter elements."
   ],
   "id": "beae8a4715f520ea"
  },
  {
   "metadata": {
    "ExecuteTime": {
     "end_time": "2024-07-08T23:42:26.716752Z",
     "start_time": "2024-07-08T23:42:26.712982Z"
    }
   },
   "cell_type": "code",
   "source": [
    "# List comprehensions\n",
    "print([x**2 for x in range(10)])\n",
    "\n",
    "# List comprehension with condition\n",
    "even_squares = [x**2 for x in range(10) if x % 2 == 0]\n",
    "\n",
    "third_squares = []\n",
    "for x in range(10):\n",
    "    if x % 2 == 0:\n",
    "        third_squares.append(x**2)\n",
    "        \n",
    "print(even_squares)\n",
    "\n",
    "print(third_squares)\n"
   ],
   "id": "2ef3ae8b3447456b",
   "outputs": [
    {
     "name": "stdout",
     "output_type": "stream",
     "text": [
      "[0, 1, 4, 9, 16, 25, 36, 49, 64, 81]\n",
      "[0, 4, 16, 36, 64]\n",
      "[0, 4, 16, 36, 64]\n"
     ]
    }
   ],
   "execution_count": 17
  },
  {
   "metadata": {},
   "cell_type": "markdown",
   "source": [
    "## 1.5. Two-Dimensional Lists\n",
    "Summary: Two-dimensional lists, or nested lists, are lists within lists. They are useful for representing data in a tabular format and can be accessed using two indices."
   ],
   "id": "490a91e5baf4981b"
  },
  {
   "metadata": {
    "ExecuteTime": {
     "end_time": "2024-07-08T23:45:04.776869Z",
     "start_time": "2024-07-08T23:45:04.773272Z"
    }
   },
   "cell_type": "code",
   "source": [
    "# Two-dimensional list\n",
    "matrix = [[1, 2, 3, 8],[4, 5, 6],[7, 8, 9]]\n",
    "\n",
    "# Accessing elements in a two-dimensional list\n",
    "print(matrix[0])\n",
    "print(matrix[0][0])  # 1\n",
    "print(matrix[1])\n",
    "print(matrix[1][2])  # 6\n",
    "print(matrix[0][3])  # Error if remove 8\n",
    "\n",
    "# Iterating through a two-dimensional list\n",
    "for row in matrix:\n",
    "    for elem in row:\n",
    "        print(elem, end=\" \")\n",
    "    print()\n",
    "\n",
    "# Display the matrix without the condition\n",
    "print (matrix)"
   ],
   "id": "53387f9271f39905",
   "outputs": [
    {
     "name": "stdout",
     "output_type": "stream",
     "text": [
      "[1, 2, 3, 8]\n",
      "1\n",
      "[4, 5, 6]\n",
      "6\n",
      "8\n",
      "1 2 3 8 \n",
      "4 5 6 \n",
      "7 8 9 \n",
      "[[1, 2, 3, 8], [4, 5, 6], [7, 8, 9]]\n"
     ]
    }
   ],
   "execution_count": 20
  },
  {
   "metadata": {},
   "cell_type": "markdown",
   "source": [
    "## 2.1. Tuples\n",
    "Summary: Tuples are immutable sequences, similar to lists, but they cannot be changed once created. They are defined using parentheses and support most list operations except for those that modify the tuple."
   ],
   "id": "d87ed070281c4e38"
  },
  {
   "metadata": {},
   "cell_type": "code",
   "outputs": [],
   "execution_count": null,
   "source": [
    "# Tuples\n",
    "my_tuple = (1, 2, 3, \"apple\", \"banana\")\n",
    "\n",
    "# Accessing elements in a tuple\n",
    "print(my_tuple[0])  # 1\n",
    "print(my_tuple[3])  # \"apple\"\n",
    "\n",
    "# Tuples are immutable\n",
    "try:\n",
    "    my_tuple[1] = 5\n",
    "except TypeError as e:\n",
    "    print(e)\n"
   ],
   "id": "bd5922edb11c2da1"
  },
  {
   "metadata": {},
   "cell_type": "markdown",
   "source": [
    "## 2.2 Tuples Operations:\n",
    "Basic Tuples Operations"
   ],
   "id": "f15ca4b91c791e4b"
  },
  {
   "metadata": {
    "ExecuteTime": {
     "end_time": "2024-07-09T00:07:54.319516Z",
     "start_time": "2024-07-09T00:07:54.309150Z"
    }
   },
   "cell_type": "code",
   "source": [
    "# tuples_operations.py\n",
    "\n",
    "# 1. Creating Tuples\n",
    "tup1 = (1, 2, 3)\n",
    "tup2 = ('apple', 'banana', 'cherry')\n",
    "tup3 = (1, 'apple', 3.5, True)\n",
    "empty_tup = ()\n",
    "tup4 = 1, 2, 3\n",
    "\n",
    "\n",
    "# Displaying the created tuples\n",
    "print(\"Tuples created:\")\n",
    "print(tup1)\n",
    "print(tup2)\n",
    "print(tup3)\n",
    "print(empty_tup)\n",
    "print(\"this is tuple 4\",tup4)\n",
    "print()\n",
    "\n",
    "# 2. Accessing Elements\n",
    "tup = (1, 2, 3, 4, 5)\n",
    "print(\"Accessing elements:\")\n",
    "print(tup[0])  # Output: 1\n",
    "print(tup[3])  # Output: 4\n",
    "print(tup[-1])  # Output: 5\n",
    "print(tup[-2])  # Output: 4\n",
    "print()\n",
    "\n",
    "# 3. Slicing\n",
    "print(\"Slicing tuples:\")\n",
    "print(tup[1:4])  # Output: (2, 3, 4)\n",
    "print(tup[:3])   # Output: (1, 2, 3)\n",
    "print(tup[2:])   # Output: (3, 4, 5)\n",
    "print(tup[:])    # Output: (1, 2, 3, 4, 5)\n",
    "print(\"without parenthesis\",tup)    # Output: (1, 2, 3, 4, 5)\n",
    "print()\n",
    "\n",
    "# 4. Concatenation and Repetition\n",
    "tup1 = (1, 2, 3)\n",
    "tup2 = (4, 5, 6)\n",
    "print(\"Concatenation and repetition:\")\n",
    "tup3 = tup1 + tup2\n",
    "print(tup3)  # Output: (1, 2, 3, 4, 5, 6)\n",
    "tup4 = tup1 * 2\n",
    "print(tup4)  # Output: (1, 2, 3, 1, 2, 3)\n",
    "print()\n",
    "\n",
    "# 5. Tuple Methods\n",
    "tup = (1, 2, 3, 1, 2, 1)\n",
    "print(\"Tuple methods:\")\n",
    "print(tup.count(1))  # Output: 3\n",
    "print(tup.index(2))  # Output: 1\n",
    "print()\n",
    "\n",
    "# 6. Unpacking Tuples\n",
    "# tup1 = (1, 2, 3) actual data \n",
    "print(\"Unpacking tuples:\")\n",
    "a, b, c = tup1\n",
    "\n",
    "# THE SAME AS ABOVE\n",
    "# a = tup1[0]\n",
    "# b = tup1[1]\n",
    "# c = tup1[2]\n",
    "\n",
    "print(a)  # Output: 1\n",
    "print(b)  # Output: 2\n",
    "print(c)  # Output: 3\n",
    "\n",
    "# Extended unpacking\n",
    "tup = (1, 2, 3, 4, 5)\n",
    "\n",
    "tup4 = 1, 2, 3\n",
    "\n",
    "a, b, *the_rest = tup\n",
    "# A = B\n",
    "\n",
    "print(a)    # Output: 1\n",
    "print(b)    # Output: 2\n",
    "print(\"The rest is here: \", the_rest, type(the_rest)) # Output: [3, 4, 5]\n",
    "print(\"This is the tuple:\", tup, type(tup)) # Output: (1, 2, 3, 4, 5)\n",
    "print()\n",
    "\n",
    "# 7. Membership Testing\n",
    "tup = (1, 2, 3, 4, 5)\n",
    "print(\"Membership testing:\")\n",
    "print(3 in tup)    # Output: True\n",
    "print(6 not in tup) # Output: True\n",
    "print()\n",
    "\n",
    "# 8. Iterating through a Tuple\n",
    "print(\"Iterating through a tuple:\")\n",
    "for item in tup:\n",
    "    print(item)\n",
    "print()\n",
    "\n",
    "# 9. Nested Tuples\n",
    "print(\"Nested tuples:\")\n",
    "nested_tup = (1, 2, (3, 4), 5)\n",
    "print(nested_tup[2])      # Output: (3, 4)\n",
    "print(nested_tup[2][0])   # Output: 3\n",
    "print()\n",
    "\n",
    "# 10. Length, Minimum, and Maximum\n",
    "print(\"Length, minimum, and maximum:\")\n",
    "print(len(tup))   # Output: 5\n",
    "print(min(tup))   # Output: 1\n",
    "print(max(tup))   # Output: 5\n",
    "print()\n"
   ],
   "id": "e446ad40c0f839ae",
   "outputs": [
    {
     "name": "stdout",
     "output_type": "stream",
     "text": [
      "Tuples created:\n",
      "(1, 2, 3)\n",
      "('apple', 'banana', 'cherry')\n",
      "(1, 'apple', 3.5, True)\n",
      "()\n",
      "this is tuple 4 (1, 2, 3)\n",
      "\n",
      "Accessing elements:\n",
      "1\n",
      "4\n",
      "5\n",
      "4\n",
      "\n",
      "Slicing tuples:\n",
      "(2, 3, 4)\n",
      "(1, 2, 3)\n",
      "(3, 4, 5)\n",
      "(1, 2, 3, 4, 5)\n",
      "without parenthesis (1, 2, 3, 4, 5)\n",
      "\n",
      "Concatenation and repetition:\n",
      "(1, 2, 3, 4, 5, 6)\n",
      "(1, 2, 3, 1, 2, 3)\n",
      "\n",
      "Tuple methods:\n",
      "3\n",
      "1\n",
      "\n",
      "Unpacking tuples:\n",
      "1\n",
      "2\n",
      "3\n",
      "1\n",
      "2\n",
      "The rest is here:  [3, 4, 5] <class 'list'>\n",
      "This is the tuple: (1, 2, 3, 4, 5) <class 'tuple'>\n",
      "\n",
      "Membership testing:\n",
      "True\n",
      "True\n",
      "\n",
      "Iterating through a tuple:\n",
      "1\n",
      "2\n",
      "3\n",
      "4\n",
      "5\n",
      "\n",
      "Nested tuples:\n",
      "(3, 4)\n",
      "3\n",
      "\n",
      "Length, minimum, and maximum:\n",
      "5\n",
      "1\n",
      "5\n",
      "\n"
     ]
    }
   ],
   "execution_count": 31
  },
  {
   "metadata": {},
   "cell_type": "markdown",
   "source": [
    "## 3. Plotting with matplotlib\n",
    "Summary: The matplotlib library is used for creating visualizations in Python. The pyplot module allows you to create various types of plots, such as line graphs, bar charts, and pie charts."
   ],
   "id": "4dee013d32bfc7be"
  },
  {
   "metadata": {
    "ExecuteTime": {
     "end_time": "2024-07-09T00:18:21.136542Z",
     "start_time": "2024-07-09T00:18:21.066361Z"
    }
   },
   "cell_type": "code",
   "source": [
    "import matplotlib.pyplot as plt\n",
    "\n",
    "# Line graph\n",
    "def plot_line_graph():\n",
    "    x_coords = [0, 1, 2, 3, 4]\n",
    "    y_coords = [0, 3, 1, 5, 2]\n",
    "\n",
    "    plt.plot(x_coords, y_coords, marker='o')\n",
    "    plt.title('Sales by Year')\n",
    "    plt.xlabel('Year')\n",
    "    plt.ylabel('Sales')\n",
    "    plt.show()\n",
    "\n",
    "plot_line_graph()\n"
   ],
   "id": "70cc91e044eec0c9",
   "outputs": [
    {
     "data": {
      "text/plain": [
       "<Figure size 640x480 with 1 Axes>"
      ],
      "image/png": "[encoded data removed]"
     },
     "metadata": {},
     "output_type": "display_data"
    }
   ],
   "execution_count": 33
  },
  {
   "metadata": {},
   "cell_type": "markdown",
   "source": [
    "## 3.2 Extension of Matplotlib, Pandas (No test)\n",
    "\n",
    "### 3.2.1 Scikit-learn\n",
    "The scikit-learn package in Python includes a wide array of tools for data mining and data analysis. It's built on NumPy, SciPy, and matplotlib, and provides efficient implementations of a variety of machine learning algorithms. Below is a summary of the main components included in scikit-learn:\n",
    "### 3.2.1 Scikit-learn Key Features:\n",
    "- Classification: Identifying which category an object belongs to (e.g., spam detection in email).\n",
    "- Regression: Predicting a continuous-valued attribute associated with an object (e.g., predicting the price of a house).\n",
    "- Clustering: Automatic grouping of similar objects into sets (e.g., customer segmentation).\n",
    "- Dimensionality Reduction: Reducing the number of random variables to consider (e.g., reducing feature sets for visualization).\n",
    "- Model Selection: Comparing, validating, and choosing parameters and models (e.g., grid search).\n",
    "- Preprocessing: Feature extraction and normalization (e.g., transforming data).\n"
   ],
   "id": "4f7b30fe2601ff3d"
  },
  {
   "metadata": {
    "ExecuteTime": {
     "end_time": "2024-07-08T18:37:39.403074Z",
     "start_time": "2024-07-08T18:37:37.994615Z"
    }
   },
   "cell_type": "code",
   "source": [
    "import pandas as pd\n",
    "import matplotlib.pyplot as plt\n",
    "\n",
    "# Read data from CSV file\n",
    "df = pd.read_csv('Fundamental/data/hiring_data.csv')\n",
    "\n",
    "# Display the first few rows of the dataset to ensure it loaded correctly\n",
    "print(df.head())\n",
    "\n",
    "# Plot the trend of employment for each department\n",
    "plt.figure(figsize=(14, 8))\n",
    "for code in df[\"Code\"].unique():\n",
    "    subset = df[df[\"Code\"] == code]\n",
    "    plt.plot(subset[\"Year\"], subset[\"Employment\"], marker='o', label=code)\n",
    "\n",
    "plt.title(\"Employment Trend by Department\")\n",
    "plt.xlabel(\"Year\")\n",
    "plt.ylabel(\"Employment\")\n",
    "plt.legend(title=\"Department Code\")\n",
    "plt.grid(True)\n",
    "plt.show()\n",
    "\n"
   ],
   "id": "6dc1df4a8310c5ca",
   "outputs": [
    {
     "name": "stdout",
     "output_type": "stream",
     "text": [
      "  Code  Year      Month  Code.1  Employment  AverageLength Average Salary\n",
      "0  AFC  2019  September    1550         672           10.8   $113,342.00 \n",
      "1  AFC  2020  September    1550         709           10.6   $115,260.00 \n",
      "2  AFC  2021  September    1550         725           10.4   $115,593.00 \n",
      "3  AFC  2022  September    1550         714           10.9   $120,922.00 \n",
      "4  AFC  2023  September    1550         731           10.8   $127,088.00 \n"
     ]
    },
    {
     "data": {
      "text/plain": [
       "<Figure size 1400x800 with 1 Axes>"
      ],
      "image/png": "[encoded data removed]"
     },
     "metadata": {},
     "output_type": "display_data"
    }
   ],
   "execution_count": 1
  },
  {
   "metadata": {},
   "cell_type": "markdown",
   "source": [
    "## 3.3 Pandas:\n",
    "Pandas is not built into scikit-learn, but it is a separate, widely-used library in the Python ecosystem for data manipulation and analysis. While scikit-learn focuses on providing tools for machine learning, pandas is designed for data manipulation and provides essential data structures like DataFrames.\n",
    "\n",
    "In-memory data manipulation and analysis tool.Works with data stored in RAM, making it suitable for operations on relatively smaller datasets that fit into memory. Provides DataFrame and Series as core data structures, allowing for complex data manipulations and analyses.\n",
    "\n",
    "Integration with Scikit-learn: While pandas is not built into scikit-learn, they are often used together in a typical data analysis workflow. For example, you might use pandas to load and preprocess data before feeding it into a machine learning model from scikit-learn.\n",
    "\n",
    "\n"
   ],
   "id": "d4630ea769461904"
  },
  {
   "metadata": {},
   "cell_type": "code",
   "outputs": [
    {
     "data": {
      "text/plain": [
       "<Figure size 1400x800 with 1 Axes>"
      ],
      "image/png": "[encoded data removed]"
     },
     "metadata": {},
     "output_type": "display_data"
    }
   ],
   "execution_count": 2,
   "source": [
    "# Plot the trend of employment for each department\n",
    "plt.figure(figsize=(14, 8))\n",
    "for code in df[\"Code\"].unique():\n",
    "    subset = df[df[\"Code\"] == code]\n",
    "    plt.plot(subset[\"Year\"], subset[\"AverageLength\"], marker='o', label=code)\n",
    "\n",
    "plt.title(\"Employment Trend by Department\")\n",
    "plt.xlabel(\"Year\")\n",
    "plt.ylabel(\"Length Average\")\n",
    "plt.legend(title=\"Department Code\")\n",
    "plt.grid(True)\n",
    "plt.show()\n"
   ],
   "id": "4628ec74ecb7d1dd"
  },
  {
   "metadata": {},
   "cell_type": "markdown",
   "source": [
    "## 4. Numpy (No Test):\n",
    "NumPy is a fundamental package for scientific computing in Python. It provides support for large, multi-dimensional arrays and matrices, along with a collection of mathematical functions to operate on these arrays. It is widely used in data analysis, machine learning, and other scientific computations due to its efficiency and convenience.\n",
    "\n",
    "Key Features of NumPy:\n",
    "N-Dimensional Arrays: Provides a powerful N-dimensional array object, ndarray, which allows for efficient storage and manipulation of large datasets.\n",
    "Mathematical Functions: Includes a large library of mathematical functions to perform operations on arrays, such as trigonometric, statistical, and algebraic routines.\n",
    "Broadcasting: Supports broadcasting, a powerful mechanism that allows NumPy to perform operations on arrays of different shapes in a way that they behave as if they had the same shape.\n",
    "Vectorization: Facilitates vectorized operations, which enable you to write efficient, readable code without the need for explicit loops.\n",
    "Integration with Other Libraries: Compatible with many other scientific Python libraries, such as SciPy, Matplotlib, and Pandas, allowing for seamless integration in scientific workflows.\n",
    "\n",
    "### Installing NumPy:\n",
    "You can install NumPy using pip:\n",
    "\n",
    "```bash\n",
    "pip install numpy\n",
    "```\n",
    "\n",
    "### Practical Applications\n",
    "NumPy is used in various fields including:\n",
    "\n",
    "- Data Analysis: Facilitates efficient data manipulation and numerical analysis.\n",
    "- Machine Learning: Often used to prepare data, and as a backend for machine learning libraries like TensorFlow and PyTorch.\n",
    "- Scientific Research: Widely used in physics, chemistry, biology, and other sciences for numerical computations.\n",
    "- Finance: Helps in performing quantitative analysis and financial modeling.\n",
    "\n",
    "### Summary\n",
    "NumPy is an essential tool for anyone working with numerical data in Python. Its efficient array operations, coupled with a vast library of mathematical functions, make it a cornerstone of the scientific Python ecosystem. Whether you are doing data analysis, machine learning, or any form of scientific computation, NumPy provides the building blocks for efficient and effective data manipulation and analysis."
   ],
   "id": "91a03b225625da86"
  },
  {
   "metadata": {},
   "cell_type": "markdown",
   "source": "## 4.1 Creating Arrays:",
   "id": "89e4a3805bc8e265"
  },
  {
   "metadata": {
    "ExecuteTime": {
     "end_time": "2024-07-09T00:34:15.345347Z",
     "start_time": "2024-07-09T00:34:15.341822Z"
    }
   },
   "cell_type": "code",
   "source": [
    "import numpy as np\n",
    "\n",
    "# Creating a 1D array\n",
    "arr = np.array([1, 2, 3, 4, 5])\n",
    "list1= [1, 2, 3, 4, 5]\n",
    "print(arr)\n",
    "print(list1)\n",
    "# Creating a 2D array\n",
    "matrix = np.array([[1, 2, 3], [4, 5, 6]])\n",
    "print(matrix)\n"
   ],
   "id": "754581772b15ab1d",
   "outputs": [
    {
     "name": "stdout",
     "output_type": "stream",
     "text": [
      "[1 2 3 4 5]\n",
      "[1, 2, 3, 4, 5]\n",
      "[[1 2 3]\n",
      " [4 5 6]]\n"
     ]
    }
   ],
   "execution_count": 35
  },
  {
   "metadata": {},
   "cell_type": "markdown",
   "source": "## 4.2 Array Operations:",
   "id": "c51b6bb6fac74541"
  },
  {
   "metadata": {
    "ExecuteTime": {
     "end_time": "2024-07-09T00:45:06.537422Z",
     "start_time": "2024-07-09T00:45:06.531526Z"
    }
   },
   "cell_type": "code",
   "source": [
    "# Element-wise operations\n",
    "arr1 = np.array([1, 2, 3])\n",
    "arr2 = np.array([4, 5, 6])\n",
    "\n",
    "print(\"numpy array\")\n",
    "print(arr1 + arr2)  # Output: [5 7 9]\n",
    "print(arr1 * arr2)  # Output: [ 4 10 18]\n",
    "\n",
    "# Regular array list\n",
    "arr4 = [1, 2, 3]\n",
    "arr5 = [4, 5, 6]\n",
    "# Overload the + operator for array list\n",
    "print(\"regular array\",arr4 + arr5)\n",
    "\n",
    "# Broadcasting\n",
    "arr3 = np.array([1, 2, 3])\n",
    "print(arr3 + 5)  # Output: [6 7 8]\n",
    "print(\"array 3\",arr3)\n",
    "arr4 = np.array([4, 5, 6])\n",
    "\n",
    "try:\n",
    "    print(arr4 * arr3)\n",
    "    print(arr4 + arr3 + arr2)\n",
    "    print(arr4 + arr3 + arr1 + arr2)\n",
    "    print(arr4 + arr3 + arr1 + arr2 + arr3)\n",
    "finally:\n",
    "    print(\"error\")"
   ],
   "id": "fc41c0016f2730d5",
   "outputs": [
    {
     "name": "stdout",
     "output_type": "stream",
     "text": [
      "numpy array\n",
      "[5 7 9]\n",
      "[ 4 10 18]\n",
      "regular array [1, 2, 3, 4, 5, 6]\n",
      "[6 7 8]\n",
      "array 3 [1 2 3]\n",
      "[ 4 10 18]\n",
      "[ 9 12 15]\n",
      "[10 14 18]\n",
      "[11 16 21]\n",
      "error\n"
     ]
    }
   ],
   "execution_count": 41
  },
  {
   "metadata": {},
   "cell_type": "markdown",
   "source": "## 4.3 Mathematical Functions: ",
   "id": "956b098695c31afd"
  },
  {
   "metadata": {
    "ExecuteTime": {
     "end_time": "2024-07-09T00:46:43.702269Z",
     "start_time": "2024-07-09T00:46:43.698667Z"
    }
   },
   "cell_type": "code",
   "source": [
    "# Using mathematical functions\n",
    "arr = np.array([1, 2, 3, 4, 5])\n",
    "\n",
    "print(np.mean(arr))  # Output: 3.0\n",
    "print(np.sum(arr))   # Output: 15\n",
    "print(np.sqrt(arr))  # Output: [1.         1.41421356 1.73205081 2.         2.23606798]\n"
   ],
   "id": "2956d1468780c9e0",
   "outputs": [
    {
     "name": "stdout",
     "output_type": "stream",
     "text": [
      "3.0\n",
      "15\n",
      "[1.         1.41421356 1.73205081 2.         2.23606798]\n"
     ]
    }
   ],
   "execution_count": 42
  },
  {
   "metadata": {},
   "cell_type": "markdown",
   "source": "## 4.4 Array Manipulation",
   "id": "b8e59d3b8438edfd"
  },
  {
   "metadata": {
    "ExecuteTime": {
     "end_time": "2024-07-09T00:47:41.110663Z",
     "start_time": "2024-07-09T00:47:41.107262Z"
    }
   },
   "cell_type": "code",
   "source": [
    "# Reshaping arrays\n",
    "matrix = np.array([[1, 2, 3], [4, 5, 6]])\n",
    "print(matrix)\n",
    "print(\"------\")\n",
    "reshaped_matrix = matrix.reshape((3, 2))\n",
    "print(reshaped_matrix)\n",
    "\n",
    "# Slicing arrays\n",
    "arr = np.array([1, 2, 3, 4, 5])\n",
    "print(arr[1:4])  # Output: [2 3 4]\n"
   ],
   "id": "fdcdf9abb6e4ee9c",
   "outputs": [
    {
     "name": "stdout",
     "output_type": "stream",
     "text": [
      "[[1 2 3]\n",
      " [4 5 6]]\n",
      "------\n",
      "[[1 2]\n",
      " [3 4]\n",
      " [5 6]]\n",
      "[2 3 4]\n"
     ]
    }
   ],
   "execution_count": 44
  }
 ],
 "metadata": {
  "kernelspec": {
   "display_name": "Python 3 (ipykernel)",
   "language": "python",
   "name": "python3"
  },
  "language_info": {
   "codemirror_mode": {
    "name": "ipython",
    "version": 3
   },
   "file_extension": ".py",
   "mimetype": "text/x-python",
   "name": "python",
   "nbconvert_exporter": "python",
   "pygments_lexer": "ipython3",
   "version": "3.12.3"
  }
 },
 "nbformat": 4,
 "nbformat_minor": 5
}
