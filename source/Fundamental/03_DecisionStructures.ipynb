{
 "cells": [
  {
   "cell_type": "markdown",
   "id": "3be7ed6b7ddbbe80",
   "metadata": {},
   "source": [
    "# Python Fundamentals - Chapter 3: \n",
    "\n",
    "## 1. **The if Statement**: \n",
    "   - Used to execute a block of code only if a specified condition is true. If the condition is false, the block is skipped."
   ]
  },
  {
   "cell_type": "code",
   "execution_count": 1,
   "id": "ae6ac71b-9ec4-4ccb-a2d0-0a6b770c94c6",
   "metadata": {
    "jupyter": {
     "is_executing": true
    }
   },
   "outputs": [
    {
     "name": "stdout",
     "output_type": "stream",
     "text": [
      "The number is positive.\n"
     ]
    }
   ],
   "source": [
    "# The if statement allows you to execute a block of code only if a condition is true.\n",
    "# Example: Checking if a number is positive\n",
    "\n",
    "number = 10\n",
    "if number > 0:\n",
    "    print(\"The number is positive.\")  # This will be printed because the condition is true"
   ]
  },
  {
   "cell_type": "markdown",
   "id": "1060312dc561f2ba",
   "metadata": {},
   "source": [
    "## 2. **The if-else Statement**: \n",
    "   - Provides two paths of execution. One path is taken if the condition is true, and the other path is taken if the condition is false.\n"
   ]
  },
  {
   "cell_type": "code",
   "execution_count": 13,
   "id": "5a0f187455f9c320",
   "metadata": {},
   "outputs": [
    {
     "name": "stdout",
     "output_type": "stream",
     "text": [
      "The number is odd.\n"
     ]
    }
   ],
   "source": [
    "# The if-else statement allows you to choose between two blocks of code to execute based on a condition.\n",
    "# Example: Checking if a number is even or odd\n",
    "# negative, positive\n",
    "number = 5\n",
    "if number % 2 == 0:\n",
    "    print(\"The number is even.\")  # This block will be executed if the number is even\n",
    "else:\n",
    "    print(\"The number is odd.\")  # This block will be executed if the number is odd\n"
   ]
  },
  {
   "cell_type": "markdown",
   "id": "f48aea99715e3900",
   "metadata": {},
   "source": [
    "## 3. **Comparing Strings**: \n",
    "   - Strings can be compared using relational operators. The comparison is case-sensitive and checks character by character based on ASCII values.\n",
    "\n"
   ]
  },
  {
   "cell_type": "code",
   "execution_count": 14,
   "id": "5eb42c90e22f2e87",
   "metadata": {},
   "outputs": [
    {
     "name": "stdout",
     "output_type": "stream",
     "text": [
      "The strings are not equal.\n"
     ]
    }
   ],
   "source": [
    "# Strings can be compared using relational operators such as == and !=.\n",
    "# Example: Comparing two strings\n",
    "\n",
    "string1 = \"world\"\n",
    "string2 = \"world\"\n",
    "if string1 == string2:\n",
    "    print(\"The strings are equal.\")  # This will not be printed because the strings are not equal\n",
    "else:\n",
    "    print(\"The strings are not equal.\")  # This will be printed because the strings are not equal\n"
   ]
  },
  {
   "cell_type": "code",
   "execution_count": 6,
   "id": "5642a296-e2f1-431f-8d06-3cca2b98d0ba",
   "metadata": {},
   "outputs": [
    {
     "name": "stdout",
     "output_type": "stream",
     "text": [
      "truc is not 12312\n"
     ]
    }
   ],
   "source": [
    "# Compare String more\n",
    "if \"truc\" != \"12312\":\n",
    "    print(\"truc is not 12312\")"
   ]
  },
  {
   "cell_type": "code",
   "execution_count": 19,
   "id": "8c0b67cb-bb08-4129-86f7-58f6c5b7401b",
   "metadata": {},
   "outputs": [
    {
     "name": "stdout",
     "output_type": "stream",
     "text": [
      "10.989\n"
     ]
    }
   ],
   "source": [
    "# nested if\n",
    "num = 10.989\n",
    "if 0 < num < 11:\n",
    "    if num > 7:\n",
    "        print(num)\n",
    "    else:\n",
    "        print(\"inner\")\n",
    "else:\n",
    "    print (\"outer\")"
   ]
  },
  {
   "cell_type": "markdown",
   "id": "d72058453c8b6aab",
   "metadata": {},
   "source": [
    "## 4. **Nested Decision Structures and the if-elif-else Statement**: (Follow)\n",
    "   - Allows you to create more complex decision structures by nesting if statements or using if-elif-else statements for multiple conditions.\n",
    "   - Decision Structure and Boolean Logic. Learning Objectives:\n",
    "        - Understand boolean logic and logical operators\n",
    "        - Understand If/Else statements and program flow\n"
   ]
  },
  {
   "cell_type": "code",
   "execution_count": 20,
   "id": "61e8b5ce8ad638d4",
   "metadata": {},
   "outputs": [
    {
     "name": "stdout",
     "output_type": "stream",
     "text": [
      "Your grade is: B\n"
     ]
    }
   ],
   "source": [
    "# You can nest decision structures within each other to handle multiple conditions.\n",
    "# The if-elif-else statement simplifies the structure by allowing multiple conditions to be checked sequentially.\n",
    "# Example: Determining grade based on score\n",
    "\n",
    "score = 85\n",
    "if score >= 90:\n",
    "    grade = 'A'\n",
    "elif score >= 80:\n",
    "    grade = 'B'  # This block will be executed because the score is between 80 and 89\n",
    "elif score >= 70:\n",
    "    grade = 'C'\n",
    "elif score >= 60:\n",
    "    grade = 'D'\n",
    "else:\n",
    "    grade = 'F'\n",
    "print(f\"Your grade is: {grade}\")\n"
   ]
  },
  {
   "cell_type": "code",
   "execution_count": 1,
   "id": "4b420975-c8bc-418e-bbc0-877ab3390406",
   "metadata": {
    "ExecuteTime": {
     "end_time": "2024-06-10T18:34:47.220520Z",
     "start_time": "2024-06-10T18:34:44.668245Z"
    }
   },
   "outputs": [
    {
     "name": "stdout",
     "output_type": "stream",
     "text": [
      "Monday\n"
     ]
    }
   ],
   "source": [
    "#Add comments below \n",
    "\n",
    "day = int(input('Enter a number (1-7) for the day of the week: '))\n",
    "\n",
    "if day == 1:\n",
    "    print('Monday')\n",
    "elif day == 2:\n",
    "    print('Tuesday')\n",
    "elif day == 3:\n",
    "    print('Wednesday')\n",
    "elif day == 4:\n",
    "    print ('Thursday')\n",
    "elif day == 5:\n",
    "    print ('Friday')\n",
    "elif day == 6:\n",
    "    print ('Saturday')\n",
    "elif day == 7:\n",
    "    print ('Sunday')\n",
    "else:\n",
    "    print ('Error: Please enter a number in the range 1-7.')"
   ]
  },
  {
   "cell_type": "markdown",
   "id": "dca99acc-061c-42a3-8403-97175c637b0d",
   "metadata": {},
   "source": [
    "Enter a number (1-7) for the day of the week: 1\n",
    "Monday\n",
    "After running this program, think about and answer these questions:\n",
    "\n",
    "- What is the program doing?\n",
    "\n",
    "- Does every line in the code execute, explain?\n",
    "\n",
    "- Could you find a way to break it?"
   ]
  },
  {
   "cell_type": "code",
   "execution_count": 30,
   "id": "4b7f1926f5883ab6",
   "metadata": {},
   "outputs": [
    {
     "name": "stdout",
     "output_type": "stream",
     "text": [
      "Tuesday\n"
     ]
    }
   ],
   "source": [
    "# My solutions:\n",
    "\n",
    "def day_of_week(number):\n",
    "    if number.isdigit() and int(number) in range(1,8):\n",
    "        week_days=['Monday', 'Tuesday', 'Wednesday', 'Thursday', 'Friday','Saturday','Sunday']\n",
    "        print(week_days[int(number)-1])\n",
    "    else:\n",
    "        print('Please enter a number from 1 to 7 only!')\n",
    "\n",
    "# Test\n",
    "# day = input('Enter a number (1-7) for the day of the week: ')\n",
    "day_of_week(\"2\") \n"
   ]
  },
  {
   "cell_type": "markdown",
   "id": "64874f16a59708b3",
   "metadata": {},
   "source": [
    "### 4.1 Homework (Self-study/Group): "
   ]
  },
  {
   "cell_type": "code",
   "execution_count": 5,
   "id": "1d82ebe191d2709b",
   "metadata": {
    "ExecuteTime": {
     "end_time": "2024-06-10T18:41:40.336197Z",
     "start_time": "2024-06-10T18:41:28.145766Z"
    }
   },
   "outputs": [
    {
     "name": "stdout",
     "output_type": "stream",
     "text": [
      "Error: The first color you entered is invalid.\n"
     ]
    }
   ],
   "source": [
    "#Add comments below \n",
    "\n",
    "RED = 'red'\n",
    "BLUE = 'blue'\n",
    "YELLOW = 'yellow'\n",
    "\n",
    "color1 = input('Enter the first primary color in lower case letters: ')\n",
    "\n",
    "color2 = input('Enter the second primary color in lower case letters: ')\n",
    "\n",
    "if color1 != RED and color1 != BLUE and color1 != YELLOW:\n",
    "    print('Error: The first color you entered is invalid.')\n",
    "\n",
    "elif color2 != RED and color2 != BLUE and color2 != YELLOW:\n",
    "    print('Error: The second color you entered is invalid.')\n",
    "\n",
    "elif color1 == color2:\n",
    "    print('Error: The two colors you entered are the same.')\n",
    "\n",
    "else:\n",
    "    if color1 == RED:\n",
    "        if color2 == BLUE:\n",
    "            print('purple')\n",
    "        else: \n",
    "            print('orange')\n",
    "\n",
    "    elif color1 == BLUE:\n",
    "        if color2 == RED:\n",
    "            print('purple')\n",
    "        else: \n",
    "            print('green')\n",
    "\n",
    "    else: \n",
    "        if color2 == RED:\n",
    "            print('orange')\n",
    "        else: \n",
    "            print('green')"
   ]
  },
  {
   "cell_type": "markdown",
   "id": "d63b0bfbfe523df1",
   "metadata": {},
   "source": [
    "After running this program, think about and answer these questions:\n",
    "\n",
    "- What is the program doing?\n",
    "- Does every line in the code execute, explain?\n",
    "- Could you find a way to break it?\n",
    "- Replace the 'ands' with 'ors' and discuss how the program executes now.\n",
    "\n",
    "#### Answer:"
   ]
  },
  {
   "cell_type": "code",
   "execution_count": 10,
   "id": "488cc66954375edf",
   "metadata": {
    "ExecuteTime": {
     "end_time": "2024-06-10T18:49:12.987681Z",
     "start_time": "2024-06-10T18:49:12.966584Z"
    }
   },
   "outputs": [
    {
     "ename": "AttributeError",
     "evalue": "'int' object has no attribute 'isdigit'",
     "output_type": "error",
     "traceback": [
      "\u001B[0;31m---------------------------------------------------------------------------\u001B[0m",
      "\u001B[0;31mAttributeError\u001B[0m                            Traceback (most recent call last)",
      "Cell \u001B[0;32mIn[10], line 13\u001B[0m\n\u001B[1;32m     10\u001B[0m \u001B[38;5;66;03m# Add get input\u001B[39;00m\n\u001B[1;32m     11\u001B[0m length1, width1, length2, width2 \u001B[38;5;241m=\u001B[39m \u001B[38;5;241m10\u001B[39m, \u001B[38;5;241m10\u001B[39m, \u001B[38;5;241m20\u001B[39m, \u001B[38;5;241m20\u001B[39m\n\u001B[0;32m---> 13\u001B[0m \u001B[43mcompare_area\u001B[49m\u001B[43m(\u001B[49m\u001B[43mlength1\u001B[49m\u001B[43m,\u001B[49m\u001B[43m \u001B[49m\u001B[43mwidth1\u001B[49m\u001B[43m,\u001B[49m\u001B[43m \u001B[49m\u001B[43mlength2\u001B[49m\u001B[43m,\u001B[49m\u001B[43m \u001B[49m\u001B[43mwidth2\u001B[49m\u001B[43m)\u001B[49m\n",
      "Cell \u001B[0;32mIn[10], line 2\u001B[0m, in \u001B[0;36mcompare_area\u001B[0;34m(length_object_1, width_object_1, length_object_2, width_object_2)\u001B[0m\n\u001B[1;32m      1\u001B[0m \u001B[38;5;28;01mdef\u001B[39;00m \u001B[38;5;21mcompare_area\u001B[39m(length_object_1, width_object_1, length_object_2, width_object_2):\n\u001B[0;32m----> 2\u001B[0m     \u001B[38;5;28;01mif\u001B[39;00m \u001B[43mlength_object_1\u001B[49m\u001B[38;5;241;43m.\u001B[39;49m\u001B[43misdigit\u001B[49m() \u001B[38;5;129;01mand\u001B[39;00m length_object_2\u001B[38;5;241m.\u001B[39misdigit() \u001B[38;5;129;01mand\u001B[39;00m width_object_1\u001B[38;5;241m.\u001B[39misdigit() \u001B[38;5;129;01mand\u001B[39;00m width_object_2\u001B[38;5;241m.\u001B[39misdigit():\n\u001B[1;32m      3\u001B[0m         area1\u001B[38;5;241m=\u001B[39m\u001B[38;5;241m0\u001B[39m\n\u001B[1;32m      4\u001B[0m         area2\u001B[38;5;241m=\u001B[39m\u001B[38;5;241m0\u001B[39m\n",
      "\u001B[0;31mAttributeError\u001B[0m: 'int' object has no attribute 'isdigit'"
     ]
    }
   ],
   "source": [
    "# Create application\n",
    "def compare_area(length_object_1, width_object_1, length_object_2, width_object_2):\n",
    "    if length_object_1.isdigit() and length_object_2.isdigit() and width_object_1.isdigit() and width_object_2.isdigit():\n",
    "        area1=0\n",
    "        area2=0\n",
    "        print(\"Rectangle 1 have bigger area than Rectangle 2\" if area1 > area2 \n",
    "              else \"Rectangle 2 have bigger area than Rectangle 1\")\n",
    "    else:\n",
    "        print(\"Exception\")\n",
    "\n",
    "# Add get input\n",
    "length1, width1, length2, width2 = 10, 10, 20, 20\n",
    "\n",
    "compare_area(length1, width1, length2, width2)"
   ]
  },
  {
   "cell_type": "markdown",
   "id": "e3ddbb273aac3b91",
   "metadata": {},
   "source": [
    "## 5. **Logical Operators**: \n",
    "   - Used to combine multiple conditions in a single if statement. The `and` operator requires all conditions to be true, while the `or` operator requires at least one condition to be true.\n"
   ]
  },
  {
   "cell_type": "code",
   "execution_count": 3,
   "id": "133927081eb5a492",
   "metadata": {
    "ExecuteTime": {
     "end_time": "2024-06-10T18:37:43.915517Z",
     "start_time": "2024-06-10T18:37:43.912375Z"
    }
   },
   "outputs": [
    {
     "name": "stdout",
     "output_type": "stream",
     "text": [
      "The number is within the range of 10 to 20.\n"
     ]
    }
   ],
   "source": [
    "# Logical operators (and, or, not) allow you to combine multiple conditions in a single if statement.\n",
    "# Example: Checking if a number is within a specific range\n",
    "\n",
    "number = 15\n",
    "if number >= 10 and number <= 20:\n",
    "    print(\"The number is within the range of 10 to 20.\")  # This will be printed because the condition is true"
   ]
  },
  {
   "cell_type": "code",
   "execution_count": 4,
   "id": "74cc3d1c71ac59cc",
   "metadata": {
    "ExecuteTime": {
     "end_time": "2024-06-10T18:38:06.008482Z",
     "start_time": "2024-06-10T18:38:06.005770Z"
    }
   },
   "outputs": [
    {
     "name": "stdout",
     "output_type": "stream",
     "text": [
      "The number is within the range of 10 to 20.\n"
     ]
    }
   ],
   "source": [
    "# Leaner\n",
    "if 10 <= number <= 20:\n",
    "    # if 10 <= number <= 20: will return true or false\n",
    "    \n",
    "    print(\"The number is within the range of 10 to 20.\")  # This will be printed because the condition is true\n"
   ]
  },
  {
   "cell_type": "code",
   "execution_count": null,
   "id": "952c57c6-e527-4334-8e75-4f4efc0fa410",
   "metadata": {},
   "outputs": [],
   "source": []
  },
  {
   "cell_type": "markdown",
   "id": "52a52d349e0a9960",
   "metadata": {},
   "source": [
    "## 6. **Boolean Variables**: \n",
    "   - Store True or False values. They are often used as flags to indicate whether certain conditions are met.\n"
   ]
  },
  {
   "cell_type": "code",
   "execution_count": 31,
   "id": "5198f4c00cc3d6c1",
   "metadata": {},
   "outputs": [
    {
     "name": "stdout",
     "output_type": "stream",
     "text": [
      "It is not sunny outside.\n"
     ]
    }
   ],
   "source": [
    "# Boolean variables can store True or False values and are often used as flags to indicate whether a condition is met.\n",
    "# Example: Using a boolean variable as a flag\n",
    "\n",
    "is_sunny = False\n",
    "if is_sunny:\n",
    "    print(\"It is sunny outside.\")  # This will be printed because is_sunny is True\n",
    "else:\n",
    "    print(\"It is not sunny outside.\")"
   ]
  },
  {
   "cell_type": "markdown",
   "id": "e4dea8428d69936a",
   "metadata": {},
   "source": [
    "## 7. **Turtle Graphics**: \n",
    "   - The Turtle module allows for drawing and moving a turtle on the screen. You can control the turtle's behavior based on its state using decision structures.\n"
   ]
  },
  {
   "cell_type": "code",
   "execution_count": null,
   "id": "d751299ca60f704c",
   "metadata": {
    "ExecuteTime": {
     "start_time": "2024-06-07T20:39:44.350742Z"
    },
    "jupyter": {
     "is_executing": true
    }
   },
   "outputs": [],
   "source": [
    "# The Turtle module in Python allows for unique graphics and visualizations. You can use decision structures to control the turtle's behavior.\n",
    "# Example: Moving the turtle based on its position\n",
    "# Import necessary libraries\n",
    "import turtle\n",
    "turtle.setup(500, 500)  # Set up the window size\n",
    "t = turtle.Turtle()  # Create a new turtle\n",
    "t.penup()  # Lift the pen so it doesn't draw\n",
    "t.goto(100, 100)  # Move the turtle to position (100, 100)\n",
    "\n",
    "# Check the turtle's position and move it if it's within a certain range\n",
    "if t.xcor() > 50 and t.ycor() > 50:\n",
    "    t.pendown()  # Lower the pen to start drawing\n",
    "    t.goto(0, 0)  # Move the turtle to the origin (0, 0)\n",
    "    \n",
    "turtle.done()  # Finish the turtle graphics\n"
   ]
  }
 ],
 "metadata": {
  "kernelspec": {
   "display_name": "Python 3 (ipykernel)",
   "language": "python",
   "name": "python3"
  },
  "language_info": {
   "codemirror_mode": {
    "name": "ipython",
    "version": 3
   },
   "file_extension": ".py",
   "mimetype": "text/x-python",
   "name": "python",
   "nbconvert_exporter": "python",
   "pygments_lexer": "ipython3",
   "version": "3.12.3"
  }
 },
 "nbformat": 4,
 "nbformat_minor": 5
}
