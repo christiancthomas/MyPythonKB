{
 "cells": [
  {
   "cell_type": "markdown",
   "id": "58d80c12",
   "metadata": {},
   "source": [
    "# Chapter 5: Functions\n",
    "\n",
    "## Introduction to Functions\n",
    "Functions are blocks of code designed to perform specific tasks.\n",
    "\n",
    "## Types of Functions\n",
    "- **Void Functions**: Execute statements without returning a value.\n",
    "- **Value-Returning Functions**: Execute statements and return a value to the caller."
   ]
  },
  {
   "cell_type": "code",
   "id": "d5f2d06c",
   "metadata": {
    "ExecuteTime": {
     "end_time": "2024-06-24T23:16:07.262053Z",
     "start_time": "2024-06-24T23:16:07.257861Z"
    }
   },
   "source": [
    "# Example of a void function\n",
    "def greet():\n",
    "    print(\"Hello, World!\")\n",
    "\n",
    "\n",
    "greet()"
   ],
   "outputs": [
    {
     "name": "stdout",
     "output_type": "stream",
     "text": [
      "Hello, World!\n"
     ]
    }
   ],
   "execution_count": 1
  },
  {
   "metadata": {
    "ExecuteTime": {
     "end_time": "2024-06-24T23:16:11.538354Z",
     "start_time": "2024-06-24T23:16:11.536228Z"
    }
   },
   "cell_type": "code",
   "source": [
    "def do_something():\n",
    "    if print(\"st\"):\n",
    "        pass\n",
    "    \n",
    "    else:\n",
    "        for i in range(10):\n",
    "            print(\"Hello, World!\")\n",
    "\n",
    "do_something()\n",
    "    "
   ],
   "id": "60d2e2e7-dfe5-4b20-be2c-5822e756df6d",
   "outputs": [
    {
     "name": "stdout",
     "output_type": "stream",
     "text": [
      "st\n",
      "Hello, World!\n",
      "Hello, World!\n",
      "Hello, World!\n",
      "Hello, World!\n",
      "Hello, World!\n",
      "Hello, World!\n",
      "Hello, World!\n",
      "Hello, World!\n",
      "Hello, World!\n",
      "Hello, World!\n"
     ]
    }
   ],
   "execution_count": 2
  },
  {
   "cell_type": "code",
   "execution_count": 14,
   "id": "f5b862f6",
   "metadata": {},
   "outputs": [
    {
     "name": "stdout",
     "output_type": "stream",
     "text": [
      "34\n"
     ]
    }
   ],
   "source": [
    "# Example of a value-returning function\n",
    "def add(number1, number2):\n",
    "    return number1 + number2\n",
    "\n",
    "\n",
    "result = add(number1=19, number2 = 15)\n",
    "print(result)"
   ]
  },
  {
   "cell_type": "markdown",
   "id": "9d4e5870",
   "metadata": {},
   "source": [
    "## Local and Global Variables\n",
    "- **Local Variables**: Defined within a function and only accessible within that function.\n",
    "- **Global Variables**: Defined outside all functions and accessible by any function in the program."
   ]
  },
  {
   "cell_type": "code",
   "execution_count": null,
   "id": "b9019ac6",
   "metadata": {},
   "outputs": [],
   "source": [
    "\"\"\"\n",
    "    Example 1\n",
    "\"\"\"\n",
    "# Example of local and global variables\n",
    "global_var = 10\n",
    "\n",
    "\n",
    "def my_function():\n",
    "    local_var = 5\n",
    "    print(\"Local variable:\", local_var)\n",
    "    print(\"Global variable:\", global_var)\n",
    "\n",
    "\n",
    "my_function()\n",
    "\n",
    "# Accessing local_var here will result in an error\n",
    "# print(local_var)  # Uncommenting this will cause an error"
   ]
  },
  {
   "cell_type": "markdown",
   "id": "a4da68c3086bbd64",
   "metadata": {},
   "source": [
    "Learning Objectives:\n",
    "\n",
    "1. Understand variable scope.\n",
    "2. Understand Gloabl variables and how to use them appropriately.\n",
    "3. Understand local variables and their scope.\n"
   ]
  },
  {
   "cell_type": "code",
   "execution_count": 1,
   "id": "23335756b8570672",
   "metadata": {
    "ExecuteTime": {
     "end_time": "2024-06-13T22:08:33.414833Z",
     "start_time": "2024-06-13T22:08:30.368057Z"
    }
   },
   "outputs": [
    {
     "name": "stdout",
     "output_type": "stream",
     "text": [
      "Kinetic Energy i.: 864.00 joules\n"
     ]
    }
   ],
   "source": [
    "# Add comments to the code\n",
    "\"\"\"\n",
    "    Example 2\n",
    "\"\"\"\n",
    "\n",
    "\n",
    "def main():\n",
    "    mass = 0.0\n",
    "    velocity = 0.0\n",
    "    KE = 0.0\n",
    "    # get user input for mass\n",
    "    mass = float(input('Enter the mass of the object in kilograms: '))\n",
    "    # get user input for velocity\n",
    "    velocity = float(input('Enter object velocity in meters per second: '))\n",
    "    # calculate the kinetic energy\n",
    "    KE = kinetic_energy(mass, velocity)\n",
    "    # print out the result\n",
    "    print(f'Kinetic Energy i.: {KE:.2f} joules')\n",
    "\n",
    "\n",
    "def kinetic_energy(mass, velocity):\n",
    "    KE = 0.0\n",
    "    KE = (mass * velocity * velocity) / 2\n",
    "    return KE\n",
    "\n",
    "\n",
    "main()"
   ]
  },
  {
   "cell_type": "code",
   "execution_count": 2,
   "id": "1f81d4db17e0cf7c",
   "metadata": {
    "ExecuteTime": {
     "end_time": "2024-06-13T22:11:07.535083Z",
     "start_time": "2024-06-13T22:11:07.531199Z"
    }
   },
   "outputs": [
    {
     "name": "stdout",
     "output_type": "stream",
     "text": [
      "Tails\n",
      "Tails\n",
      "Tails\n",
      "Heads\n",
      "Heads\n",
      "Tails\n",
      "Heads\n",
      "Heads\n",
      "Heads\n",
      "Tails\n"
     ]
    }
   ],
   "source": [
    "# add comments to the code\n",
    "\"\"\"\n",
    "    Example 3\n",
    "\"\"\"\n",
    "import random\n",
    "\n",
    "# global variable\n",
    "HEADS = 1\n",
    "TAILS = 2\n",
    "TOSSES = 10\n",
    "\n",
    "\n",
    "def main():\n",
    "    for toss in range(TOSSES):\n",
    "        if random.randint(HEADS, TAILS) == HEADS:\n",
    "            print('Heads')\n",
    "        else:\n",
    "            print('Tails')\n",
    "\n",
    "\n",
    "main()"
   ]
  },
  {
   "cell_type": "markdown",
   "id": "eb51fbe6",
   "metadata": {},
   "source": [
    "## Passing Arguments\n",
    "Functions can accept data called arguments, which can be used within the function."
   ]
  },
  {
   "cell_type": "code",
   "execution_count": null,
   "id": "ae4dfdc6",
   "metadata": {},
   "outputs": [],
   "source": [
    "# Example of passing arguments\n",
    "def multiply(x, y):\n",
    "    return x * y\n",
    "\n",
    "\n",
    "result = multiply(4, 5)\n",
    "print(result)"
   ]
  },
  {
   "cell_type": "markdown",
   "id": "471d26ca",
   "metadata": {},
   "source": [
    "## Standard Library Functions and the `import` Statement\n",
    "Python comes with a standard library of pre-written functions."
   ]
  },
  {
   "cell_type": "code",
   "execution_count": null,
   "id": "92303454",
   "metadata": {},
   "outputs": [],
   "source": [
    "# Example of using the math module\n",
    "import math\n",
    "\n",
    "print(math.sqrt(16))\n",
    "print(math.pi)"
   ]
  },
  {
   "cell_type": "markdown",
   "id": "4200a17d",
   "metadata": {},
   "source": [
    "## Generating Random Numbers\n",
    "The `random` module provides functions for generating random numbers."
   ]
  },
  {
   "cell_type": "code",
   "execution_count": null,
   "id": "7a0a57f6",
   "metadata": {},
   "outputs": [],
   "source": [
    "# Example of generating random numbers\n",
    "import random\n",
    "\n",
    "print(random.randint(1, 10))\n",
    "print(random.uniform(1.0, 10.0))"
   ]
  },
  {
   "cell_type": "markdown",
   "id": "a5a4ea42",
   "metadata": {},
   "source": [
    "## Writing Your Own Value-Returning Functions\n",
    "Functions can be written to return values using the `return` statement."
   ]
  },
  {
   "cell_type": "code",
   "execution_count": null,
   "id": "b289a20a",
   "metadata": {},
   "outputs": [],
   "source": [
    "# Example of a value-returning function\n",
    "def subtract(a, b):\n",
    "    return a - b\n",
    "\n",
    "\n",
    "result = subtract(10, 3)\n",
    "print(result)"
   ]
  },
  {
   "cell_type": "markdown",
   "id": "d2e4c697",
   "metadata": {},
   "source": [
    "## Storing Functions in Modules\n",
    "Functions can be grouped into modules to organize code better."
   ]
  },
  {
   "cell_type": "code",
   "execution_count": null,
   "id": "1921f6b4f5b8ec03",
   "metadata": {
    "ExecuteTime": {
     "end_time": "2024-06-13T22:18:13.878499Z",
     "start_time": "2024-06-13T22:18:11.836339Z"
    }
   },
   "outputs": [
    {
     "name": "stdout",
     "output_type": "stream",
     "text": [
      "  199\n",
      "+ 339\n"
     ]
    }
   ],
   "source": [
    "# add comments to the code\n",
    "\n",
    "import random\n",
    "\n",
    "def main():\n",
    "    # create and assign some value to 0\n",
    "    num1 = 0\n",
    "    num2 = 0\n",
    "    correctAnswer = 0\n",
    "    userAnswer = 0\n",
    "    \n",
    "    num1 = random.randint(0, 999) # create an random integer between 0 and 999\n",
    "    num2 = random.randint(0, 999) # create an random integer between 0 and 999\n",
    "    \n",
    "    displayProblem(num1,num2) # call display proble to display 2 number, return nothing\n",
    "\n",
    "    userAnswer = getAnswer() # call get Answer and assign the return value to userAnswer\n",
    "\n",
    "    correctAnswer = num1 + num2\n",
    "\n",
    "    showResult(correctAnswer, userAnswer) # show if user get it right or not\n",
    "\n",
    "\n",
    "def displayProblem(num1,num2):\n",
    "    print (f'{num1:5}')\n",
    "    print (f'+{num2:4}')\n",
    "    \n",
    "\n",
    "def getAnswer():\n",
    "    inputAnswer = int(input('Enter sum of numbers: '))\n",
    "    return inputAnswer\n",
    "    \n",
    "\n",
    "def showResult (correctAnswer, answer):\n",
    "    if correctAnswer == answer:\n",
    "        print ('Correct answer – Good Work!')\n",
    "    else:\n",
    "        print (f'Incorrect... The correct answer is: {correctAnswer}')\n",
    "\n",
    "\n",
    "main()"
   ]
  },
  {
   "cell_type": "code",
   "id": "27ee1bf9478ae874",
   "metadata": {
    "ExecuteTime": {
     "end_time": "2024-06-18T00:47:09.657945Z",
     "start_time": "2024-06-18T00:47:09.651807Z"
    }
   },
   "source": [
    "# add comments to the code\n",
    "\n",
    "def main():\n",
    "    distance = 0.0\n",
    "    # return 2 numbrt\n",
    "    time_list, distance_list = build_fall_chart(distance)\n",
    "    \n",
    "    print ('Time\\tFalling Distance')\n",
    "    print ('-----------------------------')\n",
    "    \n",
    "    for index in range(len(time_list)):\n",
    "        print(f'{time_list[index]}\\t{distance_list[index]:.2f}')\n",
    "\n",
    "        \n",
    "def build_fall_chart(distance):\n",
    "    time_list = []\n",
    "    distance_list = []\n",
    "    \n",
    "    for time in range(1, 11):\n",
    "        distance_list.append(falling_distance(time))\n",
    "        time_list.append(time)\n",
    "        print(f'{time}\\t{distance_list[time-1]}')\n",
    "\n",
    "    return time_list, distance_list\n",
    "    \n",
    "    \n",
    "def falling_distance(time):\n",
    "    fallDistance = (9.8 * time * time) / 2\n",
    "    return fallDistance\n",
    "\n",
    "\n",
    "main()"
   ],
   "outputs": [
    {
     "name": "stdout",
     "output_type": "stream",
     "text": [
      "1\t4.9\n",
      "2\t19.6\n",
      "3\t44.1\n",
      "4\t78.4\n",
      "5\t122.5\n",
      "6\t176.4\n",
      "7\t240.10000000000002\n",
      "8\t313.6\n",
      "9\t396.90000000000003\n",
      "10\t490.0\n",
      "Time\tFalling Distance\n",
      "-----------------------------\n",
      "1\t4.90\n",
      "2\t19.60\n",
      "3\t44.10\n",
      "4\t78.40\n",
      "5\t122.50\n",
      "6\t176.40\n",
      "7\t240.10\n",
      "8\t313.60\n",
      "9\t396.90\n",
      "10\t490.00\n"
     ]
    }
   ],
   "execution_count": 92
  },
  {
   "cell_type": "markdown",
   "id": "4953c6a1774145e5",
   "metadata": {},
   "source": [
    "### As the above code executes, think about the following questions:\n",
    "1. Trace the execution of the code by placing print statements throughout.\n",
    "2. Look at the first two programs and discuss how the same program is created but executed differently.\n",
    "3. Look at the third program and discuss how the return statement can be used to return multiple things at the same time."
   ]
  },
  {
   "cell_type": "markdown",
   "id": "4d8ed3b90617376",
   "metadata": {},
   "source": [
    "### Functions that return nothing and functions that return something (Group):\n",
    "Write a program that will do the following:\n",
    "\n",
    "- Compute the kinetic energy for five different individuals.\n",
    "- You may input the values for the individuals or hard-code them.\n",
    "- Store the results for the individuals in some fashion, think list or dictionary.\n",
    "- Print the results that have been stored.\n",
    "- Implement each of the above items in different functions, think modularly.\n",
    "- Formula: KE = 1/2 m v^2 where: KE = kinetic energy(J), m = mass(Kg), v = velocity(m/s)"
   ]
  },
  {
   "cell_type": "code",
   "id": "db29d732b754c65e",
   "metadata": {
    "ExecuteTime": {
     "end_time": "2024-06-18T01:02:11.086618Z",
     "start_time": "2024-06-18T01:02:11.078602Z"
    }
   },
   "source": [
    "# add code here\n",
    "roster = {\n",
    "    \"person_1\":{\n",
    "        \"mass\":45,\n",
    "        \"velocity\":1.2,\n",
    "    },\n",
    "    \"person_2\":{\n",
    "        \"mass\":55,\n",
    "        \"velocity\":1.5,\n",
    "    },\n",
    "    \"person_3\":{\n",
    "        \"mass\":59,\n",
    "        \"velocity\":1.9,\n",
    "    },\n",
    "    \"person_4\":{\n",
    "        \"mass\":56,\n",
    "        \"velocity\":1.1,\n",
    "    },\n",
    "    \"person_5\":{\n",
    "        \"mass\":67,\n",
    "        \"velocity\":0.7,\n",
    "    },\n",
    "}\n",
    "\n",
    "def ke(mass, velocity):\n",
    "    return  round(mass * velocity, 2)\n",
    "\n",
    "\n",
    "def print_dict(dictionary):\n",
    "\n",
    "    print(dictionary.values())\n",
    "        \n",
    "\n",
    "def main():\n",
    "    # add kinetic energy to person\n",
    "    for person in roster:\n",
    "        roster[person][\"ke\"] = ke(roster[person][\"mass\"], roster[person][\"velocity\"])\n",
    "    # call pretty print to print out the data\n",
    "    print_dict(roster)\n",
    "\n",
    "main()\n"
   ],
   "outputs": [
    {
     "name": "stdout",
     "output_type": "stream",
     "text": [
      "dict_values([{'mass': 45, 'velocity': 1.2, 'ke': 54.0}, {'mass': 55, 'velocity': 1.5, 'ke': 82.5}, {'mass': 59, 'velocity': 1.9, 'ke': 112.1}, {'mass': 56, 'velocity': 1.1, 'ke': 61.6}, {'mass': 67, 'velocity': 0.7, 'ke': 46.9}])\n"
     ]
    }
   ],
   "execution_count": 101
  },
  {
   "metadata": {},
   "cell_type": "markdown",
   "source": [
    "\n",
    "## 5.2 Advance Function & Model app\n",
    "\n",
    "### 5.2.1\n",
    "\n",
    "#### Function return function:\n",
    "\n",
    "Reference: https://www.geeksforgeeks.org/returning-a-function-from-a-function-python/\n",
    "\n",
    "Example 1: Functions without arguments\n",
    "\n",
    "In this example, the first method is A() and the second method is B(). A() method returns the B() method that is kept as an object with name returned_function and will be used for calling the second method."
   ],
   "id": "642b6fd30e3c87ba"
  },
  {
   "metadata": {
    "ExecuteTime": {
     "end_time": "2024-06-24T23:51:50.471321Z",
     "start_time": "2024-06-24T23:51:50.467792Z"
    }
   },
   "cell_type": "code",
   "source": [
    "# define two methods \n",
    "\n",
    "# second method that will be returned\n",
    "# by first method\n",
    "def inner_func():\n",
    "\tprint(\"Inside the method inner_func().\")\n",
    "\t\n",
    "# first method that return second method\n",
    "def A():\n",
    "\tprint(\"Inside the method A.\")\n",
    "\treturn inner_func # return second method\n",
    "\n",
    "# form a object of first method \n",
    "# i.e; second method\n",
    "returned_function = A()\n",
    "\n",
    "# call second method by first method\n",
    "returned_function()\n"
   ],
   "id": "c508e742a6b42cc2",
   "outputs": [
    {
     "name": "stdout",
     "output_type": "stream",
     "text": [
      "Inside the method A.\n",
      "Inside the method inner_func().\n"
     ]
    }
   ],
   "execution_count": 16
  },
  {
   "metadata": {
    "ExecuteTime": {
     "end_time": "2024-06-24T23:51:45.134385Z",
     "start_time": "2024-06-24T23:51:45.129082Z"
    }
   },
   "cell_type": "code",
   "source": [
    "# define two methods \n",
    "\n",
    "# second method that will be returned\n",
    "def inner_func():\n",
    "\tprint(\"Inside the method inner_func().\")\n",
    "\t\n",
    "# first method that return second method\n",
    "def A():\n",
    "\tinner_func() # return second method\n",
    "\tprint(\"Inside the method AA.\")\n",
    "\n",
    "A()\n",
    "\n",
    "inner_func()"
   ],
   "id": "9193d7e50e4ad780",
   "outputs": [
    {
     "name": "stdout",
     "output_type": "stream",
     "text": [
      "Inside the method inner_func().\n",
      "Inside the method AA.\n",
      "Inside the method inner_func().\n"
     ]
    }
   ],
   "execution_count": 15
  },
  {
   "metadata": {},
   "cell_type": "markdown",
   "source": [
    "Reference: https://www.geeksforgeeks.org/returning-a-function-from-a-function-python/\n",
    "\n",
    "Example 2: Functions with arguments\n",
    "\n",
    "In this example, the first method is A() and the second method is B(). Here A() method is called which returns the B() method i.e; executes both the functions."
   ],
   "id": "90ef27545eb6d7f7"
  },
  {
   "metadata": {
    "ExecuteTime": {
     "end_time": "2024-06-24T23:56:19.995419Z",
     "start_time": "2024-06-24T23:56:19.991643Z"
    }
   },
   "cell_type": "code",
   "source": [
    "\n",
    "\n",
    "# define two methods \n",
    " \n",
    "# second method that will be returned\n",
    "# by first method\n",
    "def B(some2):\n",
    "    print(\"Good \" + some2 + \".\")\n",
    "     \n",
    "# first method that return second method\n",
    "def A(st1, st2):\n",
    "    print(st1 + \" and \", end = \"+\\n\")\n",
    "     \n",
    "    # return second method\n",
    "    return B(st2)\n",
    " \n",
    "# call first method that do two work:\n",
    "# 1. execute the body of first method, and\n",
    "# 2. execute the body of second method as \n",
    "#    first method return the second method\n",
    "A(\"Hello\", \"Morning\")"
   ],
   "id": "bb96993c6bcb0aae",
   "outputs": [
    {
     "name": "stdout",
     "output_type": "stream",
     "text": [
      "Hello and +\n",
      "Good Morning.\n"
     ]
    }
   ],
   "execution_count": 22
  },
  {
   "metadata": {},
   "cell_type": "markdown",
   "source": "Function return lambda",
   "id": "8fbed2d5813a38af"
  },
  {
   "metadata": {
    "ExecuteTime": {
     "end_time": "2024-06-24T23:58:04.907204Z",
     "start_time": "2024-06-24T23:58:04.904235Z"
    }
   },
   "cell_type": "code",
   "source": [
    "# first method that return second method\n",
    "def A(u, v):\n",
    "    w = u + v\n",
    "    z = u - v\n",
    "     \n",
    "    # return second method without name\n",
    "    return lambda: print(w * z)\n",
    " \n",
    "# form a object of first method \n",
    "# i.e; second method\n",
    "returned_function = A(5, 2)\n",
    " \n",
    "# check object\n",
    "print(returned_function)\n",
    " \n",
    "# call second method by first method\n",
    "returned_function()"
   ],
   "id": "f3300cc4286bcccf",
   "outputs": [
    {
     "name": "stdout",
     "output_type": "stream",
     "text": [
      "<function A.<locals>.<lambda> at 0x108fabdc0>\n",
      "21\n"
     ]
    }
   ],
   "execution_count": 23
  },
  {
   "metadata": {},
   "cell_type": "markdown",
   "source": [
    "### 5.2.2\n",
    "\n",
    "#### Story:\n",
    "- App will be able to calculate user KE. Then we also can edit, update, search, delete user information \n",
    "#### Spec: \n",
    "- Using a database to store the roster of students with their information\n",
    "- [PYTHON DATA STRUCTURES](https://docs.python.org/3/tutorial/datastructures.html)  \n",
    "\n",
    "1. **ke(mass, velocity)**: Calculates the kinetic energy using the formula \\( KE = 0.5 \\times \\text{mass} \\times \\text{velocity}^2 \\) and rounds it to two decimal places.\n",
    "2. **print_dict(dictionary)**: Prints the dictionary in a readable format.\n",
    "3. **update_person(dictionary, person, attribute, value)**: Updates a specific attribute (like mass or velocity) of a person in the dictionary.\n",
    "4. **add_person(dictionary, person, mass, velocity)**: Adds a new person to the dictionary with specified mass and velocity.\n",
    "5. **remove_person(dictionary, person)**: Removes a person from the dictionary.\n",
    "6. **get_total_mass(dictionary)**: Calculates the total mass of all persons in the dictionary.\n",
    "7. **main()**: Demonstrates the usage of all the above functions by updating, adding, and removing persons in the roster, and calculating the total mass.\n",
    "\n",
    "This code showcases various ways to modify a dictionary and some commonly used functionalities, providing a comprehensive understanding of dictionary operations."
   ],
   "id": "cfa2e7bf88768903"
  },
  {
   "metadata": {},
   "cell_type": "markdown",
   "source": "",
   "id": "3942847b81104870"
  },
  {
   "metadata": {
    "ExecuteTime": {
     "end_time": "2024-06-25T00:46:50.744881Z",
     "start_time": "2024-06-25T00:46:50.734202Z"
    }
   },
   "cell_type": "code",
   "source": [
    "# Initial roster dictionary with mass and velocity for each person\n",
    "# This can be used as a database that save to hard drive for further consideration  \n",
    "roster = {\n",
    "    \"person_1\": {\n",
    "        \"mass\": 45,\n",
    "        \"velocity\": 1.2,\n",
    "        \"name\":{\"first\":\"John\",\"last\":\"Doe\"},\n",
    "    },\n",
    "    \"person_2\": {\n",
    "        \"mass\": 55,\n",
    "        \"velocity\": 1.5,\n",
    "    },\n",
    "    \"person_3\": {\n",
    "        \"mass\": 59,\n",
    "        \"velocity\": 1.9,\n",
    "    },\n",
    "    \"person_4\": {\n",
    "        \"mass\": 56,\n",
    "        \"velocity\": 1.1,\n",
    "    },\n",
    "    \"person_5\": {\n",
    "        \"mass\": 67,\n",
    "        \"velocity\": 0.7,\n",
    "    },\n",
    "}\n",
    "\n",
    "def ke(mass, velocity):\n",
    "    \"\"\"Calculate the kinetic energy with given mass and velocity.\"\"\"\n",
    "    return round(0.5 * mass * (velocity ** 2), 2)\n",
    "\n",
    "def print_dict(dictionary):\n",
    "    \"\"\"Print the dictionary in a readable format.\"\"\"\n",
    "    for key, value in dictionary.items():\n",
    "        print(f\"{key}: {value}\")\n",
    "\n",
    "def update_person(dictionary, person, attribute, value):\n",
    "    \"\"\"Update a specific attribute of a person in the dictionary.\"\"\"\n",
    "    if person in dictionary: # Built in\n",
    "        dictionary[person][attribute] = value\n",
    "    else:\n",
    "        print(f\"{person} not found in the roster.\")\n",
    "\n",
    "def add_person(dictionary, person, mass, velocity):\n",
    "    \"\"\"Add a new person to the dictionary.\"\"\"\n",
    "    if person not in dictionary:\n",
    "        dictionary[person] = {\"mass\": mass, \"velocity\": velocity}\n",
    "    else:\n",
    "        print(f\"{person} already exists in the roster.\")\n",
    "\n",
    "def remove_person(dictionary, person):\n",
    "    \"\"\"Remove a person from the dictionary.\"\"\"\n",
    "    if person in dictionary:\n",
    "        del dictionary[person] # Built in\n",
    "    else:\n",
    "        print(f\"{person} not found in the roster.\")\n",
    "\n",
    "def search_person(dictionary, person):\n",
    "    if person in dictionary:\n",
    "        return dictionary[person]\n",
    "    else:\n",
    "        print(f\"{person} not found in the roster.\")\n",
    "        return None\n",
    "    \n",
    "def get_total_mass(dic):\n",
    "    \"\"\"Calculate the total mass of all persons in the dictionary.\"\"\"\n",
    "    total_mass = sum(person[\"mass\"] for person in dic.values()) # built in \n",
    "    return total_mass\n",
    "\n",
    "def main():\n",
    "    # Add kinetic energy to each person\n",
    "    for person in roster:\n",
    "        roster[person][\"ke\"] = ke(roster[person][\"mass\"], roster[person][\"velocity\"])\n",
    "    \n",
    "    # Call pretty print to print out the data\n",
    "    print(\"Initial roster with kinetic energy:\")\n",
    "    print_dict(roster)\n",
    "    \n",
    "    # Update a person's velocity\n",
    "    update_person(roster, \"person_1\", \"velocity\", 1.8)\n",
    "    print(\"\\nUpdated person_1's velocity:\")\n",
    "    print_dict(roster)\n",
    "    \n",
    "    # Add a new person to the roster\n",
    "    add_person(roster, \"person_6\", 72, 1.3)\n",
    "    print(\"\\nAdded person_6 to the roster:\")\n",
    "    print_dict(roster)\n",
    "    \n",
    "    # Remove a person from the roster\n",
    "    remove_person(roster, \"person_4\")\n",
    "    print(\"\\nRemoved person_4 from the roster:\")\n",
    "    print_dict(roster)\n",
    "    \n",
    "    remove_person(roster, \"person_3\")\n",
    "    print(\"\\nRemoved person_3 from the roster:\")\n",
    "    print_dict(roster)\n",
    "    \n",
    "    # Calculate the total mass of all persons in the roster\n",
    "    total_mass = get_total_mass(roster)\n",
    "    print(f\"\\nTotal mass of all persons in the roster: {total_mass} kg\")\n",
    "    \n",
    "    # Search person 1:\n",
    "    print(\"\\nSearching for person_1 in the roster...\")\n",
    "    person1 = search_person(roster, \"person_1\")\n",
    "    if person1 is None:\n",
    "        print(\"Person 1 not found in the roster.\")\n",
    "    else:\n",
    "        print_dict(person1)\n",
    "    \n",
    "    # Search person 4\n",
    "    print(\"\\nSearching for person_4 in the roster...\")\n",
    "    person4 = search_person(roster, \"person_4\")\n",
    "    if person4 is None:\n",
    "        pass\n",
    "        # Or you can print something here     \n",
    "    else:\n",
    "        print_dict(person4)\n",
    "        \n",
    "    # print_dict(person4)\n",
    "\n",
    "# Run the main function\n",
    "main()\n"
   ],
   "id": "f4fc0838b7652ad1",
   "outputs": [
    {
     "name": "stdout",
     "output_type": "stream",
     "text": [
      "Initial roster with kinetic energy:\n",
      "person_1: {'mass': 45, 'velocity': 1.2, 'name': {'first': 'John', 'last': 'Doe'}, 'ke': 32.4}\n",
      "person_2: {'mass': 55, 'velocity': 1.5, 'ke': 61.88}\n",
      "person_3: {'mass': 59, 'velocity': 1.9, 'ke': 106.49}\n",
      "person_4: {'mass': 56, 'velocity': 1.1, 'ke': 33.88}\n",
      "person_5: {'mass': 67, 'velocity': 0.7, 'ke': 16.41}\n",
      "\n",
      "Updated person_1's velocity:\n",
      "person_1: {'mass': 45, 'velocity': 1.8, 'name': {'first': 'John', 'last': 'Doe'}, 'ke': 32.4}\n",
      "person_2: {'mass': 55, 'velocity': 1.5, 'ke': 61.88}\n",
      "person_3: {'mass': 59, 'velocity': 1.9, 'ke': 106.49}\n",
      "person_4: {'mass': 56, 'velocity': 1.1, 'ke': 33.88}\n",
      "person_5: {'mass': 67, 'velocity': 0.7, 'ke': 16.41}\n",
      "\n",
      "Added person_6 to the roster:\n",
      "person_1: {'mass': 45, 'velocity': 1.8, 'name': {'first': 'John', 'last': 'Doe'}, 'ke': 32.4}\n",
      "person_2: {'mass': 55, 'velocity': 1.5, 'ke': 61.88}\n",
      "person_3: {'mass': 59, 'velocity': 1.9, 'ke': 106.49}\n",
      "person_4: {'mass': 56, 'velocity': 1.1, 'ke': 33.88}\n",
      "person_5: {'mass': 67, 'velocity': 0.7, 'ke': 16.41}\n",
      "person_6: {'mass': 72, 'velocity': 1.3}\n",
      "\n",
      "Removed person_4 from the roster:\n",
      "person_1: {'mass': 45, 'velocity': 1.8, 'name': {'first': 'John', 'last': 'Doe'}, 'ke': 32.4}\n",
      "person_2: {'mass': 55, 'velocity': 1.5, 'ke': 61.88}\n",
      "person_3: {'mass': 59, 'velocity': 1.9, 'ke': 106.49}\n",
      "person_5: {'mass': 67, 'velocity': 0.7, 'ke': 16.41}\n",
      "person_6: {'mass': 72, 'velocity': 1.3}\n",
      "\n",
      "Removed person_3 from the roster:\n",
      "person_1: {'mass': 45, 'velocity': 1.8, 'name': {'first': 'John', 'last': 'Doe'}, 'ke': 32.4}\n",
      "person_2: {'mass': 55, 'velocity': 1.5, 'ke': 61.88}\n",
      "person_5: {'mass': 67, 'velocity': 0.7, 'ke': 16.41}\n",
      "person_6: {'mass': 72, 'velocity': 1.3}\n",
      "\n",
      "Total mass of all persons in the roster: 239 kg\n",
      "\n",
      "Searching for person_1 in the roster...\n",
      "mass: 45\n",
      "velocity: 1.8\n",
      "name: {'first': 'John', 'last': 'Doe'}\n",
      "ke: 32.4\n",
      "\n",
      "Searching for person_4 in the roster...\n",
      "person_4 not found in the roster.\n",
      "Person 4 not found in the roster.\n"
     ]
    }
   ],
   "execution_count": 28
  },
  {
   "cell_type": "markdown",
   "id": "14f32eb342367d8f",
   "metadata": {},
   "source": []
  },
  {
   "cell_type": "markdown",
   "id": "71bf8f01",
   "metadata": {},
   "source": [
    "## Using the `pass` Keyword\n",
    "The `pass` keyword can be used to create empty functions for design purposes."
   ]
  },
  {
   "cell_type": "code",
   "execution_count": null,
   "id": "8c8cfbf5",
   "metadata": {},
   "outputs": [],
   "source": [
    "# Example of using the pass keyword\n",
    "def step1():\n",
    "    pass\n",
    "\n",
    "\n",
    "def step2():\n",
    "    pass"
   ]
  },
  {
   "cell_type": "markdown",
   "id": "d57edaa5",
   "metadata": {},
   "source": [
    "## Returning Multiple Values\n",
    "In Python, a function can return multiple values separated by commas."
   ]
  },
  {
   "cell_type": "code",
   "id": "3aec1118",
   "metadata": {
    "ExecuteTime": {
     "end_time": "2024-06-18T00:56:32.549952Z",
     "start_time": "2024-06-18T00:56:32.546579Z"
    }
   },
   "source": [
    "# Example of returning multiple values\n",
    "def divide(num1, num2):\n",
    "    if num2 == 0:\n",
    "        return None, \"Error: Division by zero\"\n",
    "    else:\n",
    "        return num1 / num2, \"Success\"\n",
    "\n",
    "\n",
    "result, message = divide(10, 2)\n",
    "print(result, message)"
   ],
   "outputs": [
    {
     "name": "stdout",
     "output_type": "stream",
     "text": [
      "5.0 Success\n"
     ]
    }
   ],
   "execution_count": 97
  },
  {
   "cell_type": "markdown",
   "id": "cb8c36df",
   "metadata": {},
   "source": [
    "## Turtle Graphics\n",
    "Functions can be used to modularize turtle graphics code, making it reusable and easier to manage."
   ]
  },
  {
   "cell_type": "code",
   "execution_count": null,
   "id": "bd477f50",
   "metadata": {},
   "outputs": [],
   "source": [
    "# Example of turtle graphics\n",
    "import turtle\n",
    "\n",
    "\n",
    "def draw_square(size):\n",
    "    for _ in range(4):\n",
    "        turtle.forward(size)\n",
    "        turtle.right(90)\n",
    "\n",
    "\n",
    "draw_square(100)\n",
    "turtle.done()"
   ]
  }
 ],
 "metadata": {
  "kernelspec": {
   "display_name": "Python 3 (ipykernel)",
   "language": "python",
   "name": "python3"
  },
  "language_info": {
   "codemirror_mode": {
    "name": "ipython",
    "version": 3
   },
   "file_extension": ".py",
   "mimetype": "text/x-python",
   "name": "python",
   "nbconvert_exporter": "python",
   "pygments_lexer": "ipython3",
   "version": "3.12.3"
  }
 },
 "nbformat": 4,
 "nbformat_minor": 5
}
