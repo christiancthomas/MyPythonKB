{
 "cells": [
  {
   "metadata": {},
   "cell_type": "markdown",
   "source": [
    "# Chapter 8: More About Strings\n",
    "\n",
    "## A. String Topics Covered:\n",
    "1. Basic String Operations\n",
    "2. String Slicing\n",
    "3. Testing, Searching, and Manipulating Strings\n",
    "\n",
    "### 1. Basic String Operations:\n",
    "- **Accessing Individual Characters:**\n",
    "  - Use a for loop to iterate over each character.\n",
    "  - Use indexing to access characters (e.g., `character = my_string[i]`).\n",
    "  - Handle IndexError exceptions by using the `len()` function to check string length.\n",
    "\n",
    "- **String Concatenation:**\n",
    "  - Use the `+` operator to concatenate strings.\n",
    "  - Use the `+=` operator for appending strings to existing variables.\n",
    "\n",
    "- **Immutability of Strings:**\n",
    "  - Strings cannot be modified after creation.\n",
    "  - Concatenation creates new strings rather than modifying existing ones.\n",
    "\n",
    "### 2. String Slicing:\n",
    "- Slicing format: `string[start:end]`.\n",
    "- mission of `start` defaults to 0; mission of `end` defaults to `len(string)`.\n",
    "- Slicing can include a step value and negative indices.\n",
    "\n",
    "### 3. Testing, Searching, and Manipulating Strings:\n",
    "- **Membership Operators:**\n",
    "  - Use `in` and `not in` to check for substrings within strings.\n",
    "\n",
    "- **String Methods:**\n",
    "  - **Testing Methods:**\n",
    "    - `isalnum()`, `isalpha()`, `isdigit()`, `islower()`, `isspace()`, `isupper()`.\n",
    "\n",
    "  - **Modification Methods:**\n",
    "    - `lower()`, `lstrip()`, `rstrip()`, `strip()`, `upper()`.\n",
    "\n",
    "  - **Search and Replace Methods:**\n",
    "    - `endswith()`, `find()`, `replace()`, `startswith()`.\n",
    "\n",
    "- **Repetition Operator:**\n",
    "  - Use the `*` symbol to repeat strings (e.g., `string_to_copy * n`).\n",
    "\n",
    "- **Splitting Strings:**\n",
    "  - `split()` method to convert a string into a list of words.\n",
    "  - Specify different delimiters for splitting.\n",
    "\n"
   ],
   "id": "ebffb4537a643b62"
  },
  {
   "metadata": {},
   "cell_type": "markdown",
   "source": [
    "### 1. BASIC STRING OPERATIONS:\n",
    "\n",
    "#### 1.1. Accessing Individual Characters:"
   ],
   "id": "d89073fb9684efe"
  },
  {
   "metadata": {
    "ExecuteTime": {
     "end_time": "2024-07-10T23:49:17.363617Z",
     "start_time": "2024-07-10T23:49:17.358939Z"
    }
   },
   "cell_type": "code",
   "source": [
    "my_string = \"Hello, World!\"\n",
    "\n",
    "# Using a for loop\n",
    "for any_character in my_string:\n",
    "    print(any_character)\n",
    "    \n",
    "# Using indexing\n",
    "first_char = my_string[0]\n",
    "print(\"First character:\", first_char)\n",
    "\n",
    "last_char = my_string[-1]\n",
    "print(\"Last character:\", last_char)\n"
   ],
   "id": "2b7766a1f7f63868",
   "outputs": [
    {
     "name": "stdout",
     "output_type": "stream",
     "text": [
      "H\n",
      "e\n",
      "l\n",
      "l\n",
      "o\n",
      ",\n",
      " \n",
      "W\n",
      "o\n",
      "r\n",
      "l\n",
      "d\n",
      "!\n",
      "First character: H\n",
      "Last character: !\n"
     ]
    }
   ],
   "execution_count": 2
  },
  {
   "metadata": {},
   "cell_type": "markdown",
   "source": "#### 1.2. Concatenation",
   "id": "d16d91b63ee23f2e"
  },
  {
   "metadata": {
    "ExecuteTime": {
     "end_time": "2024-07-10T23:53:21.190161Z",
     "start_time": "2024-07-10T23:53:21.187202Z"
    }
   },
   "cell_type": "code",
   "source": [
    "# String Concatenation\n",
    "greeting = \"Hello\"\n",
    "name = \"Alice\"\n",
    "message = greeting + \", \" + name + \"!\"\n",
    "print(message)\n",
    "\n",
    "# Using += operator\n",
    "greeting += \" everyone!\"\n",
    "print(\"Updated greeting:\", greeting)\n",
    "\n"
   ],
   "id": "33fe0e1df8fdc220",
   "outputs": [
    {
     "name": "stdout",
     "output_type": "stream",
     "text": [
      "Hello, Alice!\n",
      "Updated greeting: Hello everyone!\n"
     ]
    }
   ],
   "execution_count": 3
  },
  {
   "metadata": {},
   "cell_type": "markdown",
   "source": "#### 1.3. Immutability",
   "id": "92b896b27a046b40"
  },
  {
   "metadata": {
    "ExecuteTime": {
     "end_time": "2024-07-10T23:54:01.218695Z",
     "start_time": "2024-07-10T23:54:01.077916Z"
    }
   },
   "cell_type": "code",
   "source": [
    "# Demonstrating immutability\n",
    "immutable_string = \"Hello\"\n",
    "# immutable_string[0] = 'h'  # Uncommenting this line will raise an error\n",
    "print(\"Immutable string:\", immutable_string)\n",
    "\n",
    "# Concatenation creates a new string\n",
    "new_string = immutable_string + \" World\"\n",
    "print(\"New string:\", new_string)\n"
   ],
   "id": "40c377f5f6feeb5c",
   "outputs": [
    {
     "ename": "TypeError",
     "evalue": "'str' object does not support item assignment",
     "output_type": "error",
     "traceback": [
      "\u001B[0;31m---------------------------------------------------------------------------\u001B[0m",
      "\u001B[0;31mTypeError\u001B[0m                                 Traceback (most recent call last)",
      "Cell \u001B[0;32mIn[4], line 3\u001B[0m\n\u001B[1;32m      1\u001B[0m \u001B[38;5;66;03m# Demonstrating immutability\u001B[39;00m\n\u001B[1;32m      2\u001B[0m immutable_string \u001B[38;5;241m=\u001B[39m \u001B[38;5;124m\"\u001B[39m\u001B[38;5;124mHello\u001B[39m\u001B[38;5;124m\"\u001B[39m\n\u001B[0;32m----> 3\u001B[0m \u001B[43mimmutable_string\u001B[49m\u001B[43m[\u001B[49m\u001B[38;5;241;43m0\u001B[39;49m\u001B[43m]\u001B[49m \u001B[38;5;241m=\u001B[39m \u001B[38;5;124m'\u001B[39m\u001B[38;5;124mh\u001B[39m\u001B[38;5;124m'\u001B[39m  \u001B[38;5;66;03m# Uncommenting this line will raise an error\u001B[39;00m\n\u001B[1;32m      4\u001B[0m \u001B[38;5;28mprint\u001B[39m(\u001B[38;5;124m\"\u001B[39m\u001B[38;5;124mImmutable string:\u001B[39m\u001B[38;5;124m\"\u001B[39m, immutable_string)\n\u001B[1;32m      6\u001B[0m \u001B[38;5;66;03m# Concatenation creates a new string\u001B[39;00m\n",
      "\u001B[0;31mTypeError\u001B[0m: 'str' object does not support item assignment"
     ]
    }
   ],
   "execution_count": 4
  },
  {
   "metadata": {},
   "cell_type": "markdown",
   "source": "### 2. String Slicing",
   "id": "d20115eec9fb8e9c"
  },
  {
   "metadata": {
    "ExecuteTime": {
     "end_time": "2024-07-11T00:01:36.423553Z",
     "start_time": "2024-07-10T23:57:32.550941Z"
    }
   },
   "cell_type": "code",
   "source": [
    "my_string = \"Hello, World!\"\n",
    "\n",
    "# Basic slicing\n",
    "substring = my_string[0:5]\n",
    "print(\"Substring (0:5):\", substring)\n",
    "\n",
    "# Omitting start index\n",
    "substring_start = my_string[:5]\n",
    "print(\"Substring (:5):\", substring_start)\n",
    "\n",
    "# Omitting end index\n",
    "substring_end = my_string[7:]\n",
    "print(\"Substring (7:):\", substring_end)\n",
    "\n",
    "# Using negative indices\n",
    "substring_negative = my_string[-6:]\n",
    "print(\"Substring (-6:):\", substring_negative)\n",
    "\n",
    "# Including step value\n",
    "substring_step = my_string[::2]\n",
    "print(\"Substring with step (0::2):\", substring_step)\n"
   ],
   "id": "8d559f026499de98",
   "outputs": [
    {
     "name": "stdout",
     "output_type": "stream",
     "text": [
      "Substring (0:5): Hello\n",
      "Substring (:5): Hello\n",
      "Substring (7:): World!\n",
      "Substring (-6:): World!\n"
     ]
    },
    {
     "ename": "KeyboardInterrupt",
     "evalue": "",
     "output_type": "error",
     "traceback": [
      "\u001B[0;31m---------------------------------------------------------------------------\u001B[0m",
      "\u001B[0;31mKeyboardInterrupt\u001B[0m                         Traceback (most recent call last)",
      "Cell \u001B[0;32mIn[7], line 20\u001B[0m\n\u001B[1;32m     17\u001B[0m \u001B[38;5;28mprint\u001B[39m(\u001B[38;5;124m\"\u001B[39m\u001B[38;5;124mSubstring (-6:):\u001B[39m\u001B[38;5;124m\"\u001B[39m, substring_negative)\n\u001B[1;32m     19\u001B[0m \u001B[38;5;66;03m# Including step value\u001B[39;00m\n\u001B[0;32m---> 20\u001B[0m substring_step \u001B[38;5;241m=\u001B[39m \u001B[43mmy_string\u001B[49m[::\u001B[38;5;241m2\u001B[39m]\n\u001B[1;32m     21\u001B[0m \u001B[38;5;28mprint\u001B[39m(\u001B[38;5;124m\"\u001B[39m\u001B[38;5;124mSubstring with step (0::2):\u001B[39m\u001B[38;5;124m\"\u001B[39m, substring_step)\n",
      "Cell \u001B[0;32mIn[7], line 20\u001B[0m\n\u001B[1;32m     17\u001B[0m \u001B[38;5;28mprint\u001B[39m(\u001B[38;5;124m\"\u001B[39m\u001B[38;5;124mSubstring (-6:):\u001B[39m\u001B[38;5;124m\"\u001B[39m, substring_negative)\n\u001B[1;32m     19\u001B[0m \u001B[38;5;66;03m# Including step value\u001B[39;00m\n\u001B[0;32m---> 20\u001B[0m substring_step \u001B[38;5;241m=\u001B[39m \u001B[43mmy_string\u001B[49m[::\u001B[38;5;241m2\u001B[39m]\n\u001B[1;32m     21\u001B[0m \u001B[38;5;28mprint\u001B[39m(\u001B[38;5;124m\"\u001B[39m\u001B[38;5;124mSubstring with step (0::2):\u001B[39m\u001B[38;5;124m\"\u001B[39m, substring_step)\n",
      "File \u001B[0;32m_pydevd_bundle/pydevd_cython_darwin_39_64.pyx:1187\u001B[0m, in \u001B[0;36m_pydevd_bundle.pydevd_cython_darwin_39_64.SafeCallWrapper.__call__\u001B[0;34m()\u001B[0m\n",
      "File \u001B[0;32m_pydevd_bundle/pydevd_cython_darwin_39_64.pyx:627\u001B[0m, in \u001B[0;36m_pydevd_bundle.pydevd_cython_darwin_39_64.PyDBFrame.trace_dispatch\u001B[0;34m()\u001B[0m\n",
      "File \u001B[0;32m_pydevd_bundle/pydevd_cython_darwin_39_64.pyx:937\u001B[0m, in \u001B[0;36m_pydevd_bundle.pydevd_cython_darwin_39_64.PyDBFrame.trace_dispatch\u001B[0;34m()\u001B[0m\n",
      "File \u001B[0;32m_pydevd_bundle/pydevd_cython_darwin_39_64.pyx:928\u001B[0m, in \u001B[0;36m_pydevd_bundle.pydevd_cython_darwin_39_64.PyDBFrame.trace_dispatch\u001B[0;34m()\u001B[0m\n",
      "File \u001B[0;32m_pydevd_bundle/pydevd_cython_darwin_39_64.pyx:585\u001B[0m, in \u001B[0;36m_pydevd_bundle.pydevd_cython_darwin_39_64.PyDBFrame.do_wait_suspend\u001B[0;34m()\u001B[0m\n",
      "File \u001B[0;32m~/Applications/PyCharm Professional Edition.app/Contents/plugins/python/helpers/pydev/pydevd.py:1187\u001B[0m, in \u001B[0;36mPyDB.do_wait_suspend\u001B[0;34m(self, thread, frame, event, arg, send_suspend_message, is_unhandled_exception)\u001B[0m\n\u001B[1;32m   1184\u001B[0m         from_this_thread\u001B[38;5;241m.\u001B[39mappend(frame_id)\n\u001B[1;32m   1186\u001B[0m \u001B[38;5;28;01mwith\u001B[39;00m \u001B[38;5;28mself\u001B[39m\u001B[38;5;241m.\u001B[39m_threads_suspended_single_notification\u001B[38;5;241m.\u001B[39mnotify_thread_suspended(thread_id, stop_reason):\n\u001B[0;32m-> 1187\u001B[0m     \u001B[38;5;28;43mself\u001B[39;49m\u001B[38;5;241;43m.\u001B[39;49m\u001B[43m_do_wait_suspend\u001B[49m\u001B[43m(\u001B[49m\u001B[43mthread\u001B[49m\u001B[43m,\u001B[49m\u001B[43m \u001B[49m\u001B[43mframe\u001B[49m\u001B[43m,\u001B[49m\u001B[43m \u001B[49m\u001B[43mevent\u001B[49m\u001B[43m,\u001B[49m\u001B[43m \u001B[49m\u001B[43marg\u001B[49m\u001B[43m,\u001B[49m\u001B[43m \u001B[49m\u001B[43msuspend_type\u001B[49m\u001B[43m,\u001B[49m\u001B[43m \u001B[49m\u001B[43mfrom_this_thread\u001B[49m\u001B[43m)\u001B[49m\n",
      "File \u001B[0;32m~/Applications/PyCharm Professional Edition.app/Contents/plugins/python/helpers/pydev/pydevd.py:1202\u001B[0m, in \u001B[0;36mPyDB._do_wait_suspend\u001B[0;34m(self, thread, frame, event, arg, suspend_type, from_this_thread)\u001B[0m\n\u001B[1;32m   1199\u001B[0m             \u001B[38;5;28mself\u001B[39m\u001B[38;5;241m.\u001B[39m_call_mpl_hook()\n\u001B[1;32m   1201\u001B[0m         \u001B[38;5;28mself\u001B[39m\u001B[38;5;241m.\u001B[39mprocess_internal_commands()\n\u001B[0;32m-> 1202\u001B[0m         \u001B[43mtime\u001B[49m\u001B[38;5;241;43m.\u001B[39;49m\u001B[43msleep\u001B[49m\u001B[43m(\u001B[49m\u001B[38;5;241;43m0.01\u001B[39;49m\u001B[43m)\u001B[49m\n\u001B[1;32m   1204\u001B[0m \u001B[38;5;28mself\u001B[39m\u001B[38;5;241m.\u001B[39mcancel_async_evaluation(get_current_thread_id(thread), \u001B[38;5;28mstr\u001B[39m(\u001B[38;5;28mid\u001B[39m(frame)))\n\u001B[1;32m   1206\u001B[0m \u001B[38;5;66;03m# process any stepping instructions\u001B[39;00m\n",
      "\u001B[0;31mKeyboardInterrupt\u001B[0m: "
     ]
    }
   ],
   "execution_count": 7
  },
  {
   "metadata": {},
   "cell_type": "markdown",
   "source": [
    "### 3.  Testing, Searching, and Manipulating Strings\n",
    "\n",
    "#### 3.1. Membership Operators:\n"
   ],
   "id": "422f5bd2493925c4"
  },
  {
   "metadata": {
    "ExecuteTime": {
     "end_time": "2024-07-11T00:02:26.076547Z",
     "start_time": "2024-07-11T00:02:26.072759Z"
    }
   },
   "cell_type": "code",
   "source": [
    "my_string = \"Hello, World!\"\n",
    "contains_hello = \"Hello\" in my_string\n",
    "print(\"Contains 'Hello':\", contains_hello)\n",
    "\n",
    "contains_python = \"Python\" not in my_string\n",
    "print(\"Does not contain 'Python':\", contains_python)\n"
   ],
   "id": "2544bdaa37fa5331",
   "outputs": [
    {
     "name": "stdout",
     "output_type": "stream",
     "text": [
      "Contains 'Hello': True\n",
      "Does not contain 'Python': True\n"
     ]
    }
   ],
   "execution_count": 9
  },
  {
   "metadata": {},
   "cell_type": "markdown",
   "source": "#### 3.2. String Methods:",
   "id": "f8a0d600bd9633ff"
  },
  {
   "metadata": {
    "ExecuteTime": {
     "end_time": "2024-07-10T23:42:08.419682Z",
     "start_time": "2024-07-10T23:42:08.414471Z"
    }
   },
   "cell_type": "code",
   "source": [
    "# Testing methods\n",
    "alphanumeric = \"abc123\".isalnum()\n",
    "print(\"Is alphanumeric:\", alphanumeric) # Output: True\n",
    "\n",
    "alpha = \"abc\".isalpha()\n",
    "print(\"Is alphabetic:\", alpha) # Output: True\n",
    "\n",
    "digit = \"123\".isdigit()\n",
    "print(\"Is digit:\", digit) # Output: True\n",
    "\n",
    "lowercase = \"abc\".islower()\n",
    "print(\"Is lowercase:\", lowercase) # Output: True\n",
    "\n",
    "uppercase = \"ABC\".isupper()\n",
    "print(\"Is uppercase:\", uppercase)  # Output: True\n",
    "\n",
    "# Modification methods\n",
    "original_string = \"   Hello, World!   \"\n",
    "print(\"Original string:\", original_string)\n",
    "\n",
    "lower_string = original_string.lower()\n",
    "print(\"Lowercase string:\", lower_string)\n",
    "\n",
    "stripped_string = original_string.strip()\n",
    "print(\"Stripped string:\", stripped_string)\n",
    "\n",
    "# Search and replace methods\n",
    "found_index = original_string.find(\"World\")\n",
    "print(\"Index of 'World':\", found_index)\n",
    "\n",
    "replaced_string = original_string.replace(\"World\", \"Universe\")\n",
    "print(\"Replaced string:\", replaced_string)\n"
   ],
   "id": "b7be872447215c6f",
   "outputs": [
    {
     "name": "stdout",
     "output_type": "stream",
     "text": [
      "Is alphanumeric: True\n",
      "Is alphabetic: True\n",
      "Is digit: True\n",
      "Is lowercase: True\n",
      "Is uppercase: True\n",
      "Original string:    Hello, World!   \n",
      "Lowercase string:    hello, world!   \n",
      "Stripped string: Hello, World!\n",
      "Index of 'World': 10\n",
      "Replaced string:    Hello, Universe!   \n"
     ]
    }
   ],
   "execution_count": 1
  },
  {
   "metadata": {},
   "cell_type": "markdown",
   "source": "### 4. Repetition Operator:\n",
   "id": "1056f64fce3ca88f"
  },
  {
   "metadata": {
    "ExecuteTime": {
     "end_time": "2024-07-11T00:09:27.989588Z",
     "start_time": "2024-07-11T00:09:27.986012Z"
    }
   },
   "cell_type": "code",
   "source": [
    "repeated_string = \"abc\" * 4\n",
    "print(\"Repeated string:\", repeated_string)\n"
   ],
   "id": "e1594cb1c1969494",
   "outputs": [
    {
     "name": "stdout",
     "output_type": "stream",
     "text": [
      "Repeated string: abcabcabcabc\n"
     ]
    }
   ],
   "execution_count": 13
  },
  {
   "metadata": {},
   "cell_type": "markdown",
   "source": "### 5. Splitting Strings:",
   "id": "7e853040a68e2e14"
  },
  {
   "metadata": {
    "ExecuteTime": {
     "end_time": "2024-07-11T00:14:18.841127Z",
     "start_time": "2024-07-11T00:14:18.837397Z"
    }
   },
   "cell_type": "code",
   "source": [
    "# Splitting with default separator (space)\n",
    "my_string = \"One two , three , four\"\n",
    "word_list = my_string.split()\n",
    "print(\"Split by spaces:\", word_list)\n",
    "\n",
    "# Splitting with a specific separator\n",
    "my_string_with_slashes = \"1/2/3/4/5\"\n",
    "number_list = my_string_with_slashes.split('/')\n",
    "print(\"Split by '/':\", number_list)\n"
   ],
   "id": "6cc4bb7251e60b33",
   "outputs": [
    {
     "name": "stdout",
     "output_type": "stream",
     "text": [
      "Split by spaces: ['One', 'two', ',', 'three', ',', 'four']\n",
      "Split by '/': ['1', '2', '3', '4', '5']\n"
     ]
    }
   ],
   "execution_count": 16
  },
  {
   "metadata": {},
   "cell_type": "markdown",
   "source": "### 6. String Tokens:",
   "id": "5cdfc6583527b2f6"
  },
  {
   "metadata": {},
   "cell_type": "code",
   "outputs": [
    {
     "name": "stdout",
     "output_type": "stream",
     "text": [
      "Tokens: ['peach', 'raspberry', 'strawberry', 'vanilla']\n",
      "Custom tokens: ['www', 'example', 'com']\n"
     ]
    }
   ],
   "execution_count": 17,
   "source": [
    "# Example with space as delimiter\n",
    "str = 'peach raspberry strawberry vanilla'\n",
    "tokens = str.split()\n",
    "print(\"Tokens:\", tokens)\n",
    "\n",
    "# Example with custom delimiter\n",
    "my_address = 'www.example.com'\n",
    "tokens_custom = my_address.split('.')\n",
    "print(\"Custom tokens:\", tokens_custom)\n"
   ],
   "id": "e3e074da81a9198f"
  },
  {
   "metadata": {},
   "cell_type": "code",
   "outputs": [
    {
     "name": "stdout",
     "output_type": "stream",
     "text": [
      "Original string: Hello, World!\n",
      "Modified string: Hello, Porld!\n"
     ]
    }
   ],
   "execution_count": 24,
   "source": [
    "def replace_char_at_index(input_string, index, new_char):\n",
    "    if index < 0 or index >= len(input_string):\n",
    "        raise ValueError(\"Index is out of range\")\n",
    "    \n",
    "    # Convert the string to a list to allow modification\n",
    "    string_list = list(input_string)\n",
    "    string_list[index] = new_char\n",
    "    \n",
    "    # Join the list back into a string, String Methods\n",
    "    modified_string = ''.join(string_list)\n",
    "    return modified_string\n",
    "\n",
    "# Example usage\n",
    "original_string = \"Hello, World!\"\n",
    "index_to_replace = 7\n",
    "new_character = 'P'\n",
    "\n",
    "try:\n",
    "    print(\"Original string:\", original_string)\n",
    "    original_string = replace_char_at_index(original_string, index_to_replace, new_character)\n",
    "    print(\"Modified string:\", original_string)\n",
    "except ValueError as e:\n",
    "    print(e)\n"
   ],
   "id": "37e86eed43570658"
  },
  {
   "metadata": {},
   "cell_type": "markdown",
   "source": [
    "## B. Regular Expressions in Python (NO TEST)\n",
    "\n",
    "Regular expressions (regex) are powerful tools for working with text, enabling complex pattern matching, searching, and text manipulation. Python's `re` module provides support for regex operations. Here's an overview and some examples:\n",
    "\n",
    "#### 1. Importing the `re` Module\n",
    "\n",
    "```python\n",
    "import re\n",
    "```\n",
    "\n",
    "#### 2. Basic Functions\n",
    "\n",
    "1. `re.search(pattern, string)`: Searches for the first location where the regex pattern produces a match.\n",
    "2. `re.match(pattern, string)`: Checks for a match only at the beginning of the string.\n",
    "3. `re.findall(pattern, string)`: Returns a list of all matches in the string.\n",
    "4. `re.finditer(pattern, string)`: Returns an iterator yielding match objects for all matches.\n",
    "5. `re.sub(pattern, repl, string)`: Replaces matches with a specified replacement.\n",
    "\n",
    "### 3. Examples\n",
    "\n",
    "**Basic Pattern Matching**\n",
    "\n",
    "```python\n",
    "import re\n",
    "\n",
    "text = \"The rain in Spain\"\n",
    "\n",
    "# Search for \"rain\" in the text\n",
    "match = re.search(r\"rain\", text)\n",
    "if match:\n",
    "    print(\"Found 'rain':\", match.group())\n",
    "```\n",
    "\n",
    "**Matching at the Beginning of a String**\n",
    "\n",
    "```python\n",
    "# Check if the string starts with \"The\"\n",
    "match = re.match(r\"The\", text)\n",
    "if match:\n",
    "    print(\"String starts with 'The'\")\n",
    "```\n",
    "\n",
    "**Finding All Matches**\n",
    "\n",
    "```python\n",
    "# Find all occurrences of the letter 'a'\n",
    "matches = re.findall(r\"a\", text)\n",
    "print(\"All matches for 'a':\", matches)\n",
    "```\n",
    "\n",
    "**Using Metacharacters**\n",
    "\n",
    "```python\n",
    "# Find words starting with 'S' followed by any characters\n",
    "matches = re.findall(r\"\\bS\\w+\", text)\n",
    "print(\"Words starting with 'S':\", matches)\n",
    "```\n",
    "\n",
    "**Using Quantifiers**\n",
    "\n",
    "```python\n",
    "# Find sequences of digits\n",
    "text_with_numbers = \"My phone number is 123-456-7890\"\n",
    "matches = re.findall(r\"\\d+\", text_with_numbers)\n",
    "print(\"Sequences of digits:\", matches)\n",
    "```\n",
    "\n",
    "**Using Groups**\n",
    "\n",
    "```python\n",
    "# Extract area code from a phone number\n",
    "phone = \"123-456-7890\"\n",
    "match = re.search(r\"(\\d{3})-(\\d{3})-(\\d{4})\", phone)\n",
    "if match:\n",
    "    print(\"Area code:\", match.group(1))\n",
    "    print(\"First part:\", match.group(2))\n",
    "    print(\"Second part:\", match.group(3))\n",
    "```\n",
    "\n",
    "**Replacing Patterns**\n",
    "\n",
    "```python\n",
    "# Replace digits with 'X'\n",
    "replaced = re.sub(r\"\\d\", \"X\", text_with_numbers)\n",
    "print(\"Replaced text:\", replaced)\n",
    "```\n",
    "\n",
    "**Using `re.finditer`**\n",
    "\n",
    "```python\n",
    "# Find all matches and their positions\n",
    "iterator = re.finditer(r\"\\d\", text_with_numbers)\n",
    "for match in iterator:\n",
    "    print(\"Match at position:\", match.start())\n",
    "```\n",
    "\n",
    "### 4. Example: Email Validation"
   ],
   "id": "526db75f45f87bc6"
  },
  {
   "metadata": {},
   "cell_type": "code",
   "outputs": [
    {
     "name": "stdout",
     "output_type": "stream",
     "text": [
      "Valid email address user@example.com\n"
     ]
    }
   ],
   "execution_count": 19,
   "source": [
    "import re\n",
    "\n",
    "email = \"user@example.com\"\n",
    "\n",
    "# Simple email validation pattern\n",
    "pattern = r\"^[a-zA-Z0-9_.+-]+@[a-zA-Z0-9-]+\\.[a-zA-Z0-9-.]+$\"\n",
    "if re.match(pattern, email):\n",
    "    print(\"Valid email address\")\n",
    "else:\n",
    "    print(\"Invalid email address\")\n",
    "    "
   ],
   "id": "4dbde5de44c26fe6"
  },
  {
   "metadata": {},
   "cell_type": "markdown",
   "source": "### 5. Comprehensive Example",
   "id": "ab5451044a47f2c7"
  },
  {
   "metadata": {},
   "cell_type": "code",
   "outputs": [
    {
     "name": "stdout",
     "output_type": "stream",
     "text": [
      "Email addresses found: ['support@example.com', 'sales@example.com']\n",
      "Masked text: Contact us at [email] or [email]\n",
      "Domain: example.com\n",
      "Domain: example.com\n"
     ]
    }
   ],
   "execution_count": 23,
   "source": [
    "import re\n",
    "\n",
    "text = \"Contact us at support@example.com or sales@example.com\"\n",
    "\n",
    "# Find all email addresses\n",
    "emails = re.findall(r\"[a-zA-Z0-9_.+-]+@[a-zA-Z0-9-]+\\.[a-zA-Z0-9-.]+\", text)\n",
    "print(\"Email addresses found:\", emails)\n",
    "\n",
    "# Replace email addresses with a placeholder\n",
    "masked_text = re.sub(r\"[a-zA-Z0-9_.+-]+@[a-zA-Z0-9-]+\\.[a-zA-Z0-9-.]+\", \"[email]\", text)\n",
    "print(\"Masked text:\", masked_text)\n",
    "\n",
    "# Extract domain names from the email addresses\n",
    "for email in emails:\n",
    "    domain = re.search(r\"@([a-zA-Z0-9-]+\\.[a-zA-Z0-9-.]+)$\", email)\n",
    "    if domain:\n",
    "        print(\"Domain:\", domain.group(1))"
   ],
   "id": "e72f5c4bb96452dd"
  },
  {
   "metadata": {},
   "cell_type": "markdown",
   "source": [
    "\n",
    "## C. Natural Language Processing (NLP) (NO TEST) \n",
    "\n",
    "### 1. NLP\n",
    "NLP is a field of artificial intelligence that focuses on the interaction between computers and humans through natural language. It involves various techniques and tools to enable machines to read, understand, and derive meaning from human languages.\n",
    "\n",
    "### 2. Key NLP Tasks and Techniques\n",
    "- Tokenization: Splitting text into individual words or tokens.\n",
    "- Part-of-Speech Tagging (POS): Identifying the grammatical parts of speech in a sentence.\n",
    "- Named Entity Recognition (NER): Detecting and classifying named entities (e.g., people, places, organizations) in text.\n",
    "- Sentiment Analysis: Determining the sentiment expressed in a piece of text (e.g., positive, negative, neutral).\n",
    "- Text Classification: Categorizing text into predefined categories.\n",
    "- Machine Translation: Translating text from one language to another.\n",
    "- Text Summarization: Producing a shorter version of a text that captures the main points.\n",
    "- Question Answering: Providing answers to questions posed in natural language.\n",
    "- Text Generation: Generating coherent and contextually relevant text.\n",
    "- Example NLP Workflow in Python is NLTK and SpaCy\n",
    "\n",
    "### Example:\n",
    "- https://colab.research.google.com/drive/1xGSFxrjEtipL1TQvWOgKfGZIZZHluc48?usp=sharing\n",
    "- https://www.loom.com/share/c6697fd242464c0ab93923885ab4a6dd?sid=0579e9c3-9ee8-4948-9234-fbe98843c1fd"
   ],
   "id": "531ee8611ae4278d"
  }
 ],
 "metadata": {
  "kernelspec": {
   "display_name": "Python 3 (ipykernel)",
   "language": "python",
   "name": "python3"
  },
  "language_info": {
   "codemirror_mode": {
    "name": "ipython",
    "version": 3
   },
   "file_extension": ".py",
   "mimetype": "text/x-python",
   "name": "python",
   "nbconvert_exporter": "python",
   "pygments_lexer": "ipython3",
   "version": "3.12.3"
  }
 },
 "nbformat": 4,
 "nbformat_minor": 5
}
