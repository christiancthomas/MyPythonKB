{
 "cells": [
  {
   "cell_type": "markdown",
   "id": "da9aad8d38bffd76",
   "metadata": {},
   "source": [
    "# Python Fundamentals - Chapter 4: Repetition Structures\n"
   ]
  },
  {
   "cell_type": "markdown",
   "id": "c27c1fe3e9fb3539",
   "metadata": {},
   "source": [
    "## 1.Introduction to Repetition Structures:\n",
    "Repetition structures allow repeating a block of code multiple times to avoid duplication and make programs easier to manage.\n",
    "1. Understanding repetative structures\n",
    "2. Understanding while loops\n",
    "3. Understanding for loops\n",
    "4. Nested loops and order N run time\n"
   ]
  },
  {
   "cell_type": "markdown",
   "id": "ae31bd2b6e599650",
   "metadata": {},
   "source": [
    "## 2.The while Loop:\n",
    "A condition-controlled loop that repeats as long as a specified condition is true. Ensure to include a way to make the condition false to avoid infinite loops."
   ]
  },
  {
   "cell_type": "code",
   "execution_count": 7,
   "id": "cee7e48078412fa3",
   "metadata": {},
   "outputs": [
    {
     "name": "stdout",
     "output_type": "stream",
     "text": [
      "1\n",
      "2\n",
      "3\n",
      "4\n",
      "5\n"
     ]
    }
   ],
   "source": [
    "\n",
    "# The while Loop: a Condition-Controlled Loop\n",
    "# The while loop repeats a block of code as long as a condition is true.\n",
    "\n",
    "# Example: Counting from 1 to 5 using a while loop\n",
    "count = 1\n",
    "while count <= 5:\n",
    "    print(count)\n",
    "    count += 1  # Increment count to eventually make the condition false\n"
   ]
  },
  {
   "cell_type": "code",
   "execution_count": 10,
   "id": "68e0f358bdec6f9e",
   "metadata": {},
   "outputs": [
    {
     "name": "stdout",
     "output_type": "stream",
     "text": [
      "1\n",
      "25\n",
      "2\n",
      "27\n",
      "[12, 232, 23]\n"
     ]
    }
   ],
   "source": [
    "a,b = 10,12\n",
    "value = a+b\n",
    "value = a+b+1\n",
    "value = a+b+2\n",
    "array_of_str=[12,232,23]\n",
    "for i in range(1,3):\n",
    "    print (i)\n",
    "    value = value+i\n",
    "    print(value)\n",
    "\n",
    "print (array_of_str)"
   ]
  },
  {
   "cell_type": "code",
   "execution_count": 11,
   "id": "ba208c34bad70705",
   "metadata": {
    "ExecuteTime": {
     "end_time": "2024-06-12T20:24:02.388164Z",
     "start_time": "2024-06-12T20:23:59.357599Z"
    }
   },
   "outputs": [
    {
     "name": "stdin",
     "output_type": "stream",
     "text": [
      "Enter a positive number (negative to quit):  10\n",
      "Enter a positive number (negative to quit):  -6\n"
     ]
    },
    {
     "name": "stdout",
     "output_type": "stream",
     "text": [
      "Total = 10.00\n"
     ]
    }
   ],
   "source": [
    "# While loop and get input from user\n",
    "number = 1.0    \n",
    "total = 0.0\n",
    "\n",
    "# If number smaller than 0 app will stop working\n",
    "while number > 0:\n",
    "    number = float(input('Enter a positive number (negative to quit): '))\n",
    "    if number > 0:\n",
    "        total = total + number\n",
    "\n",
    "print (f'Total = {total:.2f}') "
   ]
  },
  {
   "cell_type": "markdown",
   "id": "a01af00fd7a222b5",
   "metadata": {},
   "source": [
    "After running this program, think about and answer these questions:\n",
    "\n",
    "1. What is the program doing?\n",
    "2. How many time does each line in the code execute, explain?\n",
    "3. Could you find a way to break it?\n",
    "4. Try to rewrite the program using a for loop.\n"
   ]
  },
  {
   "cell_type": "code",
   "id": "fe8d27c58ea2176b",
   "metadata": {
    "ExecuteTime": {
     "end_time": "2024-06-13T00:09:17.929963Z",
     "start_time": "2024-06-13T00:09:17.928314Z"
    }
   },
   "source": [
    "# Infinite Loop Example (Avoid running this as it will never stop)\n",
    "\n",
    "# count = 1\n",
    "# while count <= 5:\n",
    "#     print(count)\n",
    "# This loop will run indefinitely because the condition will always be true.\n",
    "# This will crash"
   ],
   "outputs": [],
   "execution_count": 2
  },
  {
   "cell_type": "markdown",
   "id": "927b4d5c7d5c4fef",
   "metadata": {},
   "source": [
    "## 3.The for Loop:\n",
    "- A count-controlled loop that repeats a specific number of times. The range function is often used to specify the number of iterations.\n",
    "- Using the range Function with the for Loop. The range function generates a sequence of numbers."
   ]
  },
  {
   "cell_type": "code",
   "execution_count": 3,
   "id": "6733af31c3d98eb0",
   "metadata": {
    "ExecuteTime": {
     "end_time": "2024-06-07T21:48:59.118817Z",
     "start_time": "2024-06-07T21:48:59.115469Z"
    }
   },
   "outputs": [
    {
     "name": "stdout",
     "output_type": "stream",
     "text": [
      "1\n",
      "2\n",
      "3\n",
      "4\n",
      "5\n"
     ]
    }
   ],
   "source": [
    "# The for Loop: a Count-Controlled Loop\n",
    "# The for loop repeats a block of code a specific number of times.\n",
    "\n",
    "# Example: Counting from 1 to 5 using a for loop\n",
    "for count in range(1, 6):\n",
    "    print(count)\n",
    "    "
   ]
  },
  {
   "cell_type": "code",
   "execution_count": 4,
   "id": "ff48fe6fd16c8460",
   "metadata": {
    "ExecuteTime": {
     "end_time": "2024-06-07T21:49:01.716426Z",
     "start_time": "2024-06-07T21:49:01.713478Z"
    }
   },
   "outputs": [
    {
     "name": "stdout",
     "output_type": "stream",
     "text": [
      "0\n",
      "1\n",
      "2\n",
      "3\n",
      "4\n"
     ]
    }
   ],
   "source": [
    "# Example: Using range with one argument\n",
    "for count in range(5):  # Generates numbers 0 to 4\n",
    "    print(count)\n"
   ]
  },
  {
   "cell_type": "code",
   "execution_count": 5,
   "id": "a8f2f305c394c1c5",
   "metadata": {
    "ExecuteTime": {
     "end_time": "2024-06-07T21:49:03.319058Z",
     "start_time": "2024-06-07T21:49:03.315716Z"
    }
   },
   "outputs": [
    {
     "name": "stdout",
     "output_type": "stream",
     "text": [
      "1\n",
      "2\n",
      "3\n",
      "4\n",
      "5\n"
     ]
    }
   ],
   "source": [
    "\n",
    "# Example: Using range with two arguments\n",
    "for count in range(1, 6):  # Generates numbers 1 to 5\n",
    "    print(count)"
   ]
  },
  {
   "cell_type": "code",
   "id": "e4ea8ab0f4e91659",
   "metadata": {
    "ExecuteTime": {
     "end_time": "2024-06-13T00:12:18.357870Z",
     "start_time": "2024-06-13T00:12:18.353045Z"
    }
   },
   "source": [
    "\n",
    "# Example: Using range with three arguments\n",
    "    \n",
    "for count in range(1, 10, 2):  # Generates numbers 1, 3, 5, 7, 9\n",
    "    print(count)\n",
    "    "
   ],
   "outputs": [
    {
     "name": "stdout",
     "output_type": "stream",
     "text": [
      "1\n",
      "3\n",
      "5\n",
      "7\n",
      "9\n"
     ]
    }
   ],
   "execution_count": 6
  },
  {
   "metadata": {
    "ExecuteTime": {
     "end_time": "2024-06-13T00:12:16.115714Z",
     "start_time": "2024-06-13T00:12:16.113381Z"
    }
   },
   "cell_type": "code",
   "source": [
    "# Example: Using range with three arguments\n",
    "for count in range(100, 10, -5):  # Generates numbers 1, 3, 5, 7, 9\n",
    "    print(count)\n"
   ],
   "id": "c3109e4758a8c9f4",
   "outputs": [
    {
     "name": "stdout",
     "output_type": "stream",
     "text": [
      "100\n",
      "95\n",
      "90\n",
      "85\n",
      "80\n",
      "75\n",
      "70\n",
      "65\n",
      "60\n",
      "55\n",
      "50\n",
      "45\n",
      "40\n",
      "35\n",
      "30\n",
      "25\n",
      "20\n",
      "15\n"
     ]
    }
   ],
   "execution_count": 5
  },
  {
   "cell_type": "code",
   "id": "eaf2ecf15d9c4304",
   "metadata": {
    "ExecuteTime": {
     "end_time": "2024-06-13T00:20:20.148619Z",
     "start_time": "2024-06-13T00:20:20.144724Z"
    }
   },
   "source": [
    "# Add comments to the program\n",
    "\n",
    "caloriesPerMinute = 4.2\n",
    "caloriesBurned = 0.0\n",
    "\n",
    "print ('Minutes\\t\\tCalories Burned')\n",
    "print ('-------------------------------')\n",
    "\n",
    "# for minute in range 10 to 30, increase by 5\n",
    "for minutes in range(10, 31, 5):\n",
    "    caloriesBurned = caloriesBurned + caloriesPerMinute * minutes\n",
    "    print (minutes, \"\\t\\t\", caloriesBurned)\n",
    "    "
   ],
   "outputs": [
    {
     "name": "stdout",
     "output_type": "stream",
     "text": [
      "Minutes\t\tCalories Burned\n",
      "-------------------------------\n",
      "10 \t\t 42.0\n",
      "15 \t\t 105.0\n",
      "20 \t\t 189.0\n",
      "25 \t\t 294.0\n",
      "30 \t\t 420.0\n"
     ]
    }
   ],
   "execution_count": 17
  },
  {
   "metadata": {
    "ExecuteTime": {
     "end_time": "2024-06-13T00:21:49.470250Z",
     "start_time": "2024-06-13T00:21:49.465972Z"
    }
   },
   "cell_type": "code",
   "source": [
    "# Add comments to the program\n",
    "\n",
    "caloriesPerMinute = 4.2\n",
    "caloriesBurned = 0.0\n",
    "\n",
    "print ('Minutes\\t\\tCalories Burned')\n",
    "print ('-------------------------------')\n",
    "\n",
    "# for minute in range 10 to 30, increase by 5\n",
    "for minutes in range(10, 31, 5):\n",
    "    caloriesBurned = 0.0\n",
    "    caloriesBurned = caloriesBurned + caloriesPerMinute * minutes\n",
    "    print (minutes, \"\\t\\t\", caloriesBurned)\n",
    "    "
   ],
   "id": "66d4b2241db89000",
   "outputs": [
    {
     "name": "stdout",
     "output_type": "stream",
     "text": [
      "Minutes\t\tCalories Burned\n",
      "-------------------------------\n",
      "10 \t\t 42.0\n",
      "15 \t\t 63.0\n",
      "20 \t\t 84.0\n",
      "25 \t\t 105.0\n",
      "30 \t\t 126.0\n"
     ]
    }
   ],
   "execution_count": 18
  },
  {
   "cell_type": "markdown",
   "id": "16ad2d312b6aeba0",
   "metadata": {},
   "source": [
    "After running this program, think about and answer these questions:\n",
    "\n",
    "1. What is the program doing?\n",
    "2. How many time does each line in the code execute, explain?\n",
    "3. Could you find a way to break it?\n",
    "4. Try to rewrite the program using a for loop.\n"
   ]
  },
  {
   "cell_type": "markdown",
   "id": "1111cf5de1eadb9c",
   "metadata": {},
   "source": [
    "## 4.Calculating a Running Total:\n",
    "Accumulates a total as new numbers are added. Useful for summing a series of numbers."
   ]
  },
  {
   "cell_type": "code",
   "execution_count": 7,
   "id": "c7e1104b840cda33",
   "metadata": {
    "ExecuteTime": {
     "end_time": "2024-06-07T21:50:02.233334Z",
     "start_time": "2024-06-07T21:50:02.229653Z"
    }
   },
   "outputs": [
    {
     "name": "stdout",
     "output_type": "stream",
     "text": [
      "Running total: 15\n"
     ]
    }
   ],
   "source": [
    "# Calculating a Running Total\n",
    "# A running total is a sum that accumulates as new numbers are added to it.\n",
    "\n",
    "# Example: Calculating the sum of numbers from 1 to 5\n",
    "total = 0\n",
    "for number in range(1, 6):\n",
    "    total += number\n",
    "print(\"Running total:\", total)\n",
    "\n"
   ]
  },
  {
   "cell_type": "markdown",
   "id": "37809ff8517d5354",
   "metadata": {},
   "source": [
    "\n",
    "## 5.Sentinels:\n",
    "Special values that indicate the end of a sequence. Often used to terminate input when a specific value is encountered.\n"
   ]
  },
  {
   "cell_type": "code",
   "id": "9b3d7efc7a4e2ae4",
   "metadata": {
    "ExecuteTime": {
     "end_time": "2024-06-13T00:25:01.322874Z",
     "start_time": "2024-06-13T00:24:51.067221Z"
    }
   },
   "source": [
    "#  Sentinels\n",
    "# A sentinel is a special value that indicates the end of a sequence of items.\n",
    "\n",
    "# Example: Using a sentinel value to end input\n",
    "total = 0\n",
    "count = 0\n",
    "while True:\n",
    "    number = int(input(\"Enter a number (-1 to stop): \"))\n",
    "    if number == -1:  # Sentinel value\n",
    "        break\n",
    "    total += number\n",
    "    count += 1\n",
    "    \n",
    "print(\"Total:\", total)\n"
   ],
   "outputs": [
    {
     "name": "stdout",
     "output_type": "stream",
     "text": [
      "Total: 18\n"
     ]
    }
   ],
   "execution_count": 19
  },
  {
   "cell_type": "code",
   "id": "f4aef2c97cc9b892",
   "metadata": {
    "ExecuteTime": {
     "end_time": "2024-06-13T00:26:08.947856Z",
     "start_time": "2024-06-13T00:25:46.184930Z"
    }
   },
   "source": [
    "###### Add comments to the program \n",
    "\n",
    "totalRainfall = 0.0\n",
    "monthRainfall = 0.0\n",
    "averageRainfall = 0.0\n",
    "years = 0\n",
    "totalMonths = 0\n",
    "\n",
    "years = int(input('Enter the number of years: '))\n",
    "\n",
    "for year in range(years):\n",
    "    print (f'For year {year + 1}:')\n",
    "    for month in range(12):\n",
    "        monthRainfall = float(input('Enter the rainfall amount for the month: '))\n",
    "        totalMonths += 1\n",
    "        totalRainfall += monthRainfall\n",
    "        \n",
    "averageRainfall = totalRainfall / totalMonths\n",
    "\n",
    "print(f'For {totalMonths} months')\n",
    "print(f'Total rainfall: {totalRainfall:,.2f} inches')\n",
    "print(f'Average monthly rainfall: {averageRainfall:,.2f} inches')"
   ],
   "outputs": [
    {
     "name": "stdout",
     "output_type": "stream",
     "text": [
      "For year 1:\n"
     ]
    },
    {
     "ename": "ValueError",
     "evalue": "could not convert string to float: ''",
     "output_type": "error",
     "traceback": [
      "\u001B[0;31m---------------------------------------------------------------------------\u001B[0m",
      "\u001B[0;31mValueError\u001B[0m                                Traceback (most recent call last)",
      "Cell \u001B[0;32mIn[20], line 14\u001B[0m\n\u001B[1;32m     12\u001B[0m \u001B[38;5;28mprint\u001B[39m (\u001B[38;5;124mf\u001B[39m\u001B[38;5;124m'\u001B[39m\u001B[38;5;124mFor year \u001B[39m\u001B[38;5;132;01m{\u001B[39;00myear\u001B[38;5;250m \u001B[39m\u001B[38;5;241m+\u001B[39m\u001B[38;5;250m \u001B[39m\u001B[38;5;241m1\u001B[39m\u001B[38;5;132;01m}\u001B[39;00m\u001B[38;5;124m:\u001B[39m\u001B[38;5;124m'\u001B[39m)\n\u001B[1;32m     13\u001B[0m \u001B[38;5;28;01mfor\u001B[39;00m month \u001B[38;5;129;01min\u001B[39;00m \u001B[38;5;28mrange\u001B[39m(\u001B[38;5;241m12\u001B[39m):\n\u001B[0;32m---> 14\u001B[0m     monthRainfall \u001B[38;5;241m=\u001B[39m \u001B[38;5;28;43mfloat\u001B[39;49m\u001B[43m(\u001B[49m\u001B[38;5;28;43minput\u001B[39;49m\u001B[43m(\u001B[49m\u001B[38;5;124;43m'\u001B[39;49m\u001B[38;5;124;43mEnter the rainfall amount for the month: \u001B[39;49m\u001B[38;5;124;43m'\u001B[39;49m\u001B[43m)\u001B[49m\u001B[43m)\u001B[49m\n\u001B[1;32m     15\u001B[0m     totalMonths \u001B[38;5;241m+\u001B[39m\u001B[38;5;241m=\u001B[39m \u001B[38;5;241m1\u001B[39m\n\u001B[1;32m     16\u001B[0m     totalRainfall \u001B[38;5;241m+\u001B[39m\u001B[38;5;241m=\u001B[39m monthRainfall\n",
      "\u001B[0;31mValueError\u001B[0m: could not convert string to float: ''"
     ]
    }
   ],
   "execution_count": 20
  },
  {
   "cell_type": "markdown",
   "id": "81af855ff4d75c8f",
   "metadata": {},
   "source": [
    "After running this program, think about and answer these questions:\n",
    "\n",
    "1. What is the program doing?\n",
    "2. How many time does each line in the code execute, explain?\n",
    "3. Could you find a way to break it?\n",
    "4. Compare the number of executuions for the inner for loop to the outer for loop.\n",
    "5. What order of magnitude larger are the inner instructions executing?"
   ]
  },
  {
   "cell_type": "markdown",
   "id": "3465c9d4ee6bceb0",
   "metadata": {},
   "source": [
    "\n",
    "## 6.Input Validation Loops:\n",
    "Ensures that user input meets certain criteria before being processed. Repeats input requests until valid data is provided.\n"
   ]
  },
  {
   "cell_type": "code",
   "id": "a4e65bbdf51edeb5",
   "metadata": {
    "ExecuteTime": {
     "end_time": "2024-06-13T00:28:45.968053Z",
     "start_time": "2024-06-13T00:27:43.358971Z"
    }
   },
   "source": [
    "# Input Validation Loops\n",
    "# Input validation loops ensure that the user provides valid input.\n",
    "\n",
    "# Example: Validating user input\n",
    "number = int(input(\"Enter a number between 1 and 10: \"))\n",
    "while number < 1 or number > 10:\n",
    "    print(\"Invalid input. Try again.\")\n",
    "    number = int(input(\"Enter a number between 1 and 10: \"))\n",
    "print(\"You entered:\", number)"
   ],
   "outputs": [
    {
     "name": "stdout",
     "output_type": "stream",
     "text": [
      "Invalid input. Try again.\n",
      "Invalid input. Try again.\n",
      "Invalid input. Try again.\n",
      "Invalid input. Try again.\n",
      "Invalid input. Try again.\n",
      "Invalid input. Try again.\n",
      "Invalid input. Try again.\n"
     ]
    },
    {
     "ename": "ValueError",
     "evalue": "invalid literal for int() with base 10: ''",
     "output_type": "error",
     "traceback": [
      "\u001B[0;31m---------------------------------------------------------------------------\u001B[0m",
      "\u001B[0;31mValueError\u001B[0m                                Traceback (most recent call last)",
      "Cell \u001B[0;32mIn[22], line 8\u001B[0m\n\u001B[1;32m      6\u001B[0m \u001B[38;5;28;01mwhile\u001B[39;00m number \u001B[38;5;241m<\u001B[39m \u001B[38;5;241m1\u001B[39m \u001B[38;5;129;01mor\u001B[39;00m number \u001B[38;5;241m>\u001B[39m \u001B[38;5;241m10\u001B[39m:\n\u001B[1;32m      7\u001B[0m     \u001B[38;5;28mprint\u001B[39m(\u001B[38;5;124m\"\u001B[39m\u001B[38;5;124mInvalid input. Try again.\u001B[39m\u001B[38;5;124m\"\u001B[39m)\n\u001B[0;32m----> 8\u001B[0m     number \u001B[38;5;241m=\u001B[39m \u001B[38;5;28;43mint\u001B[39;49m\u001B[43m(\u001B[49m\u001B[38;5;28;43minput\u001B[39;49m\u001B[43m(\u001B[49m\u001B[38;5;124;43m\"\u001B[39;49m\u001B[38;5;124;43mEnter a number between 1 and 10: \u001B[39;49m\u001B[38;5;124;43m\"\u001B[39;49m\u001B[43m)\u001B[49m\u001B[43m)\u001B[49m\n\u001B[1;32m      9\u001B[0m \u001B[38;5;28mprint\u001B[39m(\u001B[38;5;124m\"\u001B[39m\u001B[38;5;124mYou entered:\u001B[39m\u001B[38;5;124m\"\u001B[39m, number)\n",
      "\u001B[0;31mValueError\u001B[0m: invalid literal for int() with base 10: ''"
     ]
    }
   ],
   "execution_count": 22
  },
  {
   "cell_type": "markdown",
   "id": "cf90748220d0e2f8",
   "metadata": {},
   "source": [
    "\n",
    "## 7.Nested Loops:\n",
    "Loops within loops. Commonly used for tasks that require multiple levels of iteration, such as generating a multiplication table.\n"
   ]
  },
  {
   "cell_type": "code",
   "id": "23bf52d86e5cae24",
   "metadata": {
    "ExecuteTime": {
     "end_time": "2024-06-13T00:29:15.156065Z",
     "start_time": "2024-06-13T00:29:15.152812Z"
    }
   },
   "source": [
    "# Nested Loops\n",
    "# Nested loops are loops within loops.\n",
    "\n",
    "# Example: Printing a multiplication table\n",
    "for i in range(1, 6):\n",
    "    for j in range(1, 6):\n",
    "        print(i * j, end=\"\\t\")\n",
    "    print()"
   ],
   "outputs": [
    {
     "name": "stdout",
     "output_type": "stream",
     "text": [
      "1\t2\t3\t4\t5\t\n",
      "2\t4\t6\t8\t10\t\n",
      "3\t6\t9\t12\t15\t\n",
      "4\t8\t12\t16\t20\t\n",
      "5\t10\t15\t20\t25\t\n"
     ]
    }
   ],
   "execution_count": 23
  },
  {
   "cell_type": "markdown",
   "id": "9e6f898ab8b78f92",
   "metadata": {},
   "source": [
    "## 7.2 Basic loop structures (Group Work):\n",
    "Develop a program that will:\n",
    "\n",
    "1. Take input from the user asking how many organisms to start with.\n",
    "2. Take input from the user asking the average daily increase for the organisms.\n",
    "3. Take input from the user asking the number of days to multiply.\n",
    "4. Make sure the daily increase was entered as a percentage, if not correct it.\n",
    "5. Print each day and the increase in organsisms for each day.\n",
    "6. Make sure to format the printing so that it is readable."
   ]
  },
  {
   "metadata": {
    "ExecuteTime": {
     "end_time": "2024-06-13T00:50:45.833353Z",
     "start_time": "2024-06-13T00:50:33.214564Z"
    }
   },
   "cell_type": "code",
   "source": [
    "organism_size = int(input('please enter your organisms to start with here: '))\n",
    "percentage  = float(input('please enter your percentage here (format: 00.00): '))\n",
    "day_count = int(input('please enter your number of days to multiply: '))\n",
    "\n",
    "for i in range (day_count):\n",
    "    organism_size +=  organism_size*percentage\n",
    "    print(f\"On day {i+1}, the {organism_size}\" )\n",
    "    "
   ],
   "id": "d59f55a5764d153f",
   "outputs": [
    {
     "name": "stdout",
     "output_type": "stream",
     "text": [
      "On day 1, the 137.76\n",
      "On day 2, the 154.2912\n",
      "On day 3, the 172.80614400000002\n",
      "On day 4, the 193.54288128000002\n",
      "On day 5, the 216.76802703360002\n",
      "On day 6, the 242.78019027763202\n",
      "On day 7, the 271.91381311094784\n",
      "On day 8, the 304.5434706842616\n",
      "On day 9, the 341.088687166373\n",
      "On day 10, the 382.01932962633776\n",
      "On day 11, the 427.8616491814983\n",
      "On day 12, the 479.2050470832781\n"
     ]
    }
   ],
   "execution_count": 25
  },
  {
   "cell_type": "markdown",
   "id": "e6c7f28d2cb9990b",
   "metadata": {},
   "source": [
    "\n",
    "## 8.Turtle Graphics:\n",
    "Uses loops to create graphics. Examples include drawing shapes and creating patterns."
   ]
  },
  {
   "cell_type": "code",
   "execution_count": 1,
   "id": "ea8925ac2c85a02e",
   "metadata": {
    "ExecuteTime": {
     "end_time": "2024-06-07T21:52:30.380616Z",
     "start_time": "2024-06-07T21:52:17.486196Z"
    }
   },
   "outputs": [
    {
     "ename": "Terminator",
     "evalue": "",
     "output_type": "error",
     "traceback": [
      "\u001B[0;31m---------------------------------------------------------------------------\u001B[0m",
      "\u001B[0;31mTerminator\u001B[0m                                Traceback (most recent call last)",
      "Cell \u001B[0;32mIn[1], line 15\u001B[0m\n\u001B[1;32m     12\u001B[0m turtle\u001B[38;5;241m.\u001B[39mdone()\n\u001B[1;32m     14\u001B[0m \u001B[38;5;66;03m# Example: Drawing an octagon using a loop\u001B[39;00m\n\u001B[0;32m---> 15\u001B[0m \u001B[43mturtle\u001B[49m\u001B[38;5;241;43m.\u001B[39;49m\u001B[43msetup\u001B[49m\u001B[43m(\u001B[49m\u001B[38;5;241;43m500\u001B[39;49m\u001B[43m,\u001B[49m\u001B[43m \u001B[49m\u001B[38;5;241;43m500\u001B[39;49m\u001B[43m)\u001B[49m\n\u001B[1;32m     16\u001B[0m t \u001B[38;5;241m=\u001B[39m turtle\u001B[38;5;241m.\u001B[39mTurtle()\n\u001B[1;32m     17\u001B[0m \u001B[38;5;28;01mfor\u001B[39;00m _ \u001B[38;5;129;01min\u001B[39;00m \u001B[38;5;28mrange\u001B[39m(\u001B[38;5;241m8\u001B[39m):\n",
      "File \u001B[0;32m<string>:5\u001B[0m, in \u001B[0;36msetup\u001B[0;34m(width, height, startx, starty)\u001B[0m\n",
      "\u001B[0;31mTerminator\u001B[0m: "
     ]
    }
   ],
   "source": [
    "# Turtle Graphics: Using Loops to Draw Designs\n",
    "# The Turtle module allows us to create graphics using loops.\n",
    "# Import necessary libraries\n",
    "import turtle\n",
    "\n",
    "# Example: Drawing a square using a loop\n",
    "turtle.setup(500, 500)\n",
    "t = turtle.Turtle()\n",
    "for _ in range(4):\n",
    "    t.forward(100)\n",
    "    t.right(90)\n",
    "turtle.done()\n",
    "\n",
    "# Example: Drawing an octagon using a loop\n",
    "turtle.setup(500, 500)\n",
    "t = turtle.Turtle()\n",
    "for _ in range(8):\n",
    "    t.forward(100)\n",
    "    t.right(45)\n",
    "turtle.done()\n",
    "\n",
    "# Example: Drawing a circular pattern using loops\n",
    "turtle.setup(500, 500)\n",
    "t = turtle.Turtle()\n",
    "NUM_CIRCLES = 36\n",
    "RADIUS = 100\n",
    "ANGLE = 10\n",
    "\n",
    "for _ in range(NUM_CIRCLES):\n",
    "    t.circle(RADIUS)\n",
    "    t.left(ANGLE)\n",
    "turtle.done()\n",
    "\n",
    "# Example: Drawing a starburst design using loops\n",
    "turtle.setup(500, 500)\n",
    "t = turtle.Turtle()\n",
    "START_X = -200\n",
    "START_Y = 0\n",
    "NUM_LINES = 36\n",
    "LINE_LENGTH = 400\n",
    "ANGLE = 170\n",
    "\n",
    "t.hideturtle()\n",
    "t.penup()\n",
    "t.goto(START_X, START_Y)\n",
    "t.pendown()\n",
    "\n",
    "for _ in range(NUM_LINES):\n",
    "    t.forward(LINE_LENGTH)\n",
    "    t.left(ANGLE)\n",
    "turtle.done()\n",
    "\n"
   ]
  }
 ],
 "metadata": {
  "kernelspec": {
   "display_name": "Python 3 (ipykernel)",
   "language": "python",
   "name": "python3"
  },
  "language_info": {
   "codemirror_mode": {
    "name": "ipython",
    "version": 3
   },
   "file_extension": ".py",
   "mimetype": "text/x-python",
   "name": "python",
   "nbconvert_exporter": "python",
   "pygments_lexer": "ipython3",
   "version": "3.12.3"
  }
 },
 "nbformat": 4,
 "nbformat_minor": 5
}
