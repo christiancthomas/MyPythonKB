{
 "cells": [
  {
   "cell_type": "markdown",
   "id": "b85256b4-a8cc-4219-83f5-9f4fce9c8bc8",
   "metadata": {},
   "source": [
    "# Python Fundamentals - Chapter 2: Input, Processing, and Output\n",
    "\n",
    "## Topics:\n",
    "\n",
    "1. Designing a Program\n",
    "2. Input, Processing, and Output\n",
    "3. Displaying Output with the print Function\n",
    "4. Comments\n",
    "5. Variables\n",
    "6. Reading Input from the Keyboard\n",
    "7. Performing Calculations\n",
    "8. String Concatenation\n",
    "9. More About the print Function\n",
    "10. Displaying Formatted Output\n",
    "11. Named Constants\n",
    "12. Introduction to Turtle Graphics\n"
   ]
  },
  {
   "cell_type": "markdown",
   "id": "fa4f10a3-3fbf-48c4-95e2-c25736ec588f",
   "metadata": {},
   "source": [
    "\n",
    "\n",
    "\n",
    "## 1. Designing a Program\n",
    "Programs must be designed before they are written. The program development cycle involves:\n",
    "- Designing the program\n",
    "- Writing the code\n",
    "- Correcting syntax errors\n",
    "- Testing the program\n",
    "- Correcting logic errors\n",
    "\n",
    "## 2. Input, Processing, and Output\n",
    "A typical computer program performs the following steps:\n",
    "- **Input**: Receive data from the user\n",
    "- **Processing**: Perform operations on the data\n",
    "- **Output**: Display the results\n",
    "\n",
    "## 3. Displaying Output with the `print` Function\n",
    "The `print` function displays output on the screen. Example:\n",
    "\n",
    "```python\n",
    "print(\"Hello, world!\")\n"
   ]
  },
  {
   "cell_type": "code",
   "id": "9633f6b8-fc6a-4866-9eef-c808bfae684f",
   "metadata": {
    "jupyter": {
     "is_executing": true
    }
   },
   "source": [
    "# Add comments below \n",
    "\n",
    "# This is a normal string print\n",
    "print (\"This is a print statement\")\n",
    "\n",
    "# This is an f string print with number\n",
    "print (f\"Try printing some different things including number {5}\")\n",
    "\n",
    "# Get the input from user and store the input \n",
    "input_string = input(\"Enter a short string here:\")\n",
    "\n",
    "# Display the input\n",
    "print (\"The string you input is: \", input_string)\n",
    "\n",
    "# assign a number\n",
    "float_number = 2\n",
    "\n",
    "# This will print a float number with 2 decimal places\n",
    "print(\"This will print a float number with 2 decimal places: \", format(float_number, '.2f'))\n",
    "\n",
    "num1 = 5\n",
    "num2 = 10\n",
    "print(f\"This will multiply {num1} times {num2} and display the result: \", num1*num2)"
   ],
   "outputs": [],
   "execution_count": null
  },
  {
   "cell_type": "code",
   "id": "ae6ac71b-9ec4-4ccb-a2d0-0a6b770c94c6",
   "metadata": {
    "ExecuteTime": {
     "end_time": "2024-07-11T16:45:24.285526Z",
     "start_time": "2024-07-11T16:45:24.281030Z"
    }
   },
   "source": [
    "# Please feel free to add your code here and change it\n",
    "print(\"Hello, Truc\")\n"
   ],
   "outputs": [
    {
     "name": "stdout",
     "output_type": "stream",
     "text": [
      "Hello, Truc\n"
     ]
    }
   ],
   "execution_count": 1
  },
  {
   "cell_type": "code",
   "id": "cc1d7b2c-4079-42a3-8750-416b932060d6",
   "metadata": {
    "ExecuteTime": {
     "end_time": "2024-07-11T16:45:26.239923Z",
     "start_time": "2024-07-11T16:45:26.235096Z"
    }
   },
   "source": [
    "# This will work\n",
    "\n",
    "\"a\" + \"b\""
   ],
   "outputs": [
    {
     "data": {
      "text/plain": [
       "'ab'"
      ]
     },
     "execution_count": 2,
     "metadata": {},
     "output_type": "execute_result"
    }
   ],
   "execution_count": 2
  },
  {
   "cell_type": "code",
   "execution_count": 2,
   "id": "069a685b-202e-4061-bfbe-f896bb433d6b",
   "metadata": {
    "jupyter": {
     "is_executing": true
    }
   },
   "outputs": [
    {
     "ename": "NameError",
     "evalue": "name 'a' is not defined",
     "output_type": "error",
     "traceback": [
      "\u001B[0;31m---------------------------------------------------------------------------\u001B[0m",
      "\u001B[0;31mNameError\u001B[0m                                 Traceback (most recent call last)",
      "Cell \u001B[0;32mIn[2], line 2\u001B[0m\n\u001B[1;32m      1\u001B[0m \u001B[38;5;66;03m# This will crash\u001B[39;00m\n\u001B[0;32m----> 2\u001B[0m \u001B[43ma\u001B[49m\u001B[38;5;241m+\u001B[39mb\n",
      "\u001B[0;31mNameError\u001B[0m: name 'a' is not defined"
     ]
    }
   ],
   "source": [
    "# This will crash\n",
    "# a+b\n"
   ]
  },
  {
   "cell_type": "code",
   "execution_count": 3,
   "id": "9070bb8c-03c5-4e5c-8694-f15802b95770",
   "metadata": {
    "jupyter": {
     "is_executing": true
    }
   },
   "outputs": [
    {
     "data": {
      "text/plain": [
       "3"
      ]
     },
     "execution_count": 3,
     "metadata": {},
     "output_type": "execute_result"
    }
   ],
   "source": [
    "# This will work\n",
    "a,b = 1,2\n",
    "a+b"
   ]
  },
  {
   "cell_type": "markdown",
   "id": "6edda933-5998-481b-8079-6bfc232dc68d",
   "metadata": {},
   "source": [
    "# Math Section\n",
    "\n",
    "Do st with math"
   ]
  },
  {
   "cell_type": "code",
   "execution_count": 26,
   "id": "5df3e286-9f94-467e-ac6e-8646973fcf27",
   "metadata": {},
   "outputs": [
    {
     "name": "stdout",
     "output_type": "stream",
     "text": [
      "This will multiply 5 times 10 and display the result: 50\n"
     ]
    }
   ],
   "source": [
    "num1 = 5\n",
    "num2 = 10\n",
    "print(f\"This will multiply {num1} times {num2} and display the result: {num1*num2}\")"
   ]
  },
  {
   "cell_type": "code",
   "execution_count": 17,
   "id": "7e9ac147-ab35-4707-9ab9-cf7debc5428b",
   "metadata": {},
   "outputs": [
    {
     "name": "stdout",
     "output_type": "stream",
     "text": [
      "1.0\n",
      "1\n"
     ]
    }
   ],
   "source": [
    "tom = 1\n",
    "# Temporary\n",
    "print(float(tom))\n",
    "\n",
    "# Permanent\n",
    "print (tom)"
   ]
  },
  {
   "cell_type": "code",
   "execution_count": 14,
   "id": "c5c422ec-3e42-45fe-beea-c98d197a0f78",
   "metadata": {},
   "outputs": [
    {
     "name": "stdout",
     "output_type": "stream",
     "text": [
      "\n",
      "\tTom go to class today\n",
      "\n"
     ]
    }
   ],
   "source": [
    "# <!-- Special characters appearing in string literal \n",
    "# Preceded by backslash (\\)\n",
    "# Examples: newline (\\n), horizontal tab (\\t)\n",
    "# Treated as commands embedded in string -->\n",
    "\n",
    "Tom = \"\\n\\tTom go to class today\\n\"\n",
    "print(Tom)"
   ]
  },
  {
   "cell_type": "markdown",
   "id": "88e67900-d460-4216-886f-d8b18476bd78",
   "metadata": {},
   "source": [
    "### 3.1 Basic Input/Output and formatting (Group/IN CLASS):\n",
    "Create a small program that will take a celcius temperature from the user and convert it to fahrenheit\n",
    "- Print the output result to 3 decimal places\n",
    "- Print a degree sign after the output\n",
    "- Try to figure out how to create the program in the fewest lines possible\n",
    "- Formula: Fahrenheit = (9/5)(Degrees Celcius) + 32"
   ]
  },
  {
   "cell_type": "code",
   "execution_count": 7,
   "id": "05798332-2f57-4f01-a8ff-a640a14cecdf",
   "metadata": {
    "jupyter": {
     "is_executing": true
    }
   },
   "outputs": [],
   "source": [
    "\n",
    "# You can use this as a template and fill in the blank\n",
    "# def calculate_fahrenheit(celcius_degree):\n",
    "#     return (f\"The degree in Fahrenheit is {format(( \"FILL Your code here\",'.3f')} \\N{DEGREE SIGN}F\")\n",
    "# cel_input = input('Please enter a degree in celius: ')\n",
    "# print(calculate_fahrenheit(cel_input))\n",
    "\n",
    "\n",
    "# OR YOU CAN CREATE YOUR OWN LOGIC"
   ]
  },
  {
   "cell_type": "markdown",
   "id": "bfea02a1-7e64-4f49-b2a0-2f2a110f9e5b",
   "metadata": {},
   "source": [
    "## 4. Comments\n",
    "Comments are notes in the code that explain what the code does. They are ignored by Python. Example:"
   ]
  },
  {
   "cell_type": "code",
   "execution_count": 8,
   "id": "ef36ee22-57a6-4df5-b66e-5c9070dcdf1c",
   "metadata": {
    "jupyter": {
     "is_executing": true
    }
   },
   "outputs": [
    {
     "name": "stdout",
     "output_type": "stream",
     "text": [
      "This will be printed.\n"
     ]
    }
   ],
   "source": [
    "# This is a comment\n",
    "print(\"This will be printed.\")  # This is an end-of-line comment\n"
   ]
  },
  {
   "cell_type": "markdown",
   "id": "f46e00c8-9bb5-4050-9c25-3b01b522f794",
   "metadata": {},
   "source": [
    "## 5. Variables\n",
    "Variables are used to store data in a program. Example:"
   ]
  },
  {
   "cell_type": "code",
   "execution_count": null,
   "id": "ee5716ea-0652-4e10-98ea-718a282e9274",
   "metadata": {
    "jupyter": {
     "is_executing": true
    }
   },
   "outputs": [],
   "source": [
    "# traditional Python\n",
    "age = 29\n",
    "print(age)\n"
   ]
  },
  {
   "cell_type": "markdown",
   "id": "af4d8d28-a20f-48b0-88a8-9fce4a00ae68",
   "metadata": {},
   "source": [
    "## 6 Reading Input from the Keyboard\n",
    "The input function reads input from the user. Example:"
   ]
  },
  {
   "cell_type": "code",
   "execution_count": null,
   "id": "7109d16e-55c1-4cc2-ae02-9a0907c1e571",
   "metadata": {
    "jupyter": {
     "is_executing": true
    }
   },
   "outputs": [],
   "source": [
    "name = input(\"Enter your name: \")\n",
    "print(\"Hello, \" + name + \"!\")\n"
   ]
  },
  {
   "cell_type": "markdown",
   "id": "ab6913be-8a4c-4966-adee-f2f029552194",
   "metadata": {},
   "source": [
    "## 7. Performing Calculations\n",
    "You can perform calculations using math operators. Example:"
   ]
  },
  {
   "cell_type": "code",
   "execution_count": null,
   "id": "12ddbde5-5952-43f2-9112-e0e2dc9b8f8f",
   "metadata": {
    "jupyter": {
     "is_executing": true
    }
   },
   "outputs": [],
   "source": [
    "num1 = 10\n",
    "num2 = 20\n",
    "result = num1 + num2\n",
    "print(\"The result is\", result)\n"
   ]
  },
  {
   "cell_type": "markdown",
   "id": "cfd1c54d-e0eb-437d-a47e-229e43cc1362",
   "metadata": {},
   "source": [
    "## 8. String Concatenation\n",
    "You can concatenate strings using the `+` operator. Example:\n"
   ]
  },
  {
   "cell_type": "code",
   "execution_count": 28,
   "id": "12dde2fc-21cc-437b-b48a-01a7c9cab183",
   "metadata": {
    "jupyter": {
     "is_executing": true
    }
   },
   "outputs": [
    {
     "name": "stdout",
     "output_type": "stream",
     "text": [
      "Hello, Alice!\n"
     ]
    }
   ],
   "source": [
    "greeting = \"Hello\"\n",
    "name = \"Alice\"\n",
    "message = greeting + \", \" + name + \"!\"\n",
    "print(message)\n"
   ]
  },
  {
   "cell_type": "markdown",
   "id": "2dfff323-e938-4442-b278-cd803fc27f22",
   "metadata": {},
   "source": [
    "## 9. More About the `print` Function\n",
    "You can customize the output of the `print` function. Example:\n"
   ]
  },
  {
   "cell_type": "code",
   "execution_count": 29,
   "id": "2812b57e-13fb-40d5-89f7-0c5d9df8934e",
   "metadata": {
    "jupyter": {
     "is_executing": true
    }
   },
   "outputs": [
    {
     "name": "stdout",
     "output_type": "stream",
     "text": [
      "Hello, world!\n"
     ]
    }
   ],
   "source": [
    "print(\"Hello\", \"world\", sep=\", \", end=\"!\\n\")"
   ]
  },
  {
   "cell_type": "markdown",
   "id": "8ffae63b-e136-472b-8638-a16cbd4a2eae",
   "metadata": {},
   "source": [
    "## 10. Displaying Formatted Output\n",
    "Use f-strings to format output. Example:\n"
   ]
  },
  {
   "cell_type": "code",
   "execution_count": 30,
   "id": "6da6b10e-e8be-471e-82e0-009cd013bd73",
   "metadata": {
    "jupyter": {
     "is_executing": true
    }
   },
   "outputs": [
    {
     "name": "stdout",
     "output_type": "stream",
     "text": [
      "Name: Alice, Age: 30\n"
     ]
    }
   ],
   "source": [
    "name = \"Alice\"\n",
    "age = 30\n",
    "print(f\"Name: {name}, Age: {age}\")"
   ]
  },
  {
   "cell_type": "markdown",
   "id": "634fd679-2674-46a9-b0c8-6d93ebb15233",
   "metadata": {},
   "source": [
    "## 11. Named Constants\n",
    "Use named constants to make your code more readable and maintainable. Example:"
   ]
  },
  {
   "cell_type": "code",
   "execution_count": 31,
   "id": "84a825d6-0b31-4361-8a1f-a2f81b977322",
   "metadata": {
    "jupyter": {
     "is_executing": true
    }
   },
   "outputs": [
    {
     "name": "stdout",
     "output_type": "stream",
     "text": [
      "Interest: 50.0\n"
     ]
    }
   ],
   "source": [
    "INTEREST_RATE = 0.05\n",
    "balance = 1000\n",
    "interest = balance * INTEREST_RATE\n",
    "print(\"Interest:\", interest)"
   ]
  },
  {
   "cell_type": "markdown",
   "id": "b99bd925-52fb-405e-9349-2d3a0d662c5e",
   "metadata": {},
   "source": [
    "## 12. Introduction to Turtle Graphics\n",
    "Turtle graphics is a popular way for introducing programming to kids. Example:\n"
   ]
  },
  {
   "cell_type": "code",
   "execution_count": null,
   "id": "fcf1c03f-92e4-40a6-bb63-23c54e2b7227",
   "metadata": {
    "jupyter": {
     "is_executing": true
    }
   },
   "outputs": [],
   "source": [
    "import turtle\n",
    "\n",
    "# Create a turtle object\n",
    "t = turtle.Turtle()\n",
    "\n",
    "# Move the turtle forward\n",
    "t.forward(100)\n",
    "\n",
    "# Turn the turtle right\n",
    "t.right(90)\n",
    "\n",
    "# Move the turtle forward\n",
    "t.forward(100)\n",
    "\n",
    "\n",
    "# End the turtle graphics session\n",
    "turtle.done()\n",
    "\n"
   ]
  },
  {
   "cell_type": "markdown",
   "id": "d7fd3234-ad56-46c3-b0a0-c1144b8d4777",
   "metadata": {},
   "source": [
    "---\n",
    "\n",
    "## Exercises\n",
    "\n",
    "1. **Design a Program**: Write a program that asks the user for their name and age, then prints a message saying how old they will be next year.\n",
    "2. **Input, Processing, Output**: Write a program that calculates the area of a rectangle. The program should ask the user for the width and height of the rectangle, then display the area.\n",
    "3. **String Concatenation**: Write a program that asks the user for their first and last name separately, then prints a message saying their full name.\n",
    "4. **Formatted Output**: Write a program that asks the user for the price of an item and the sales tax rate. The program should display the total price with tax included, formatted to two decimal places.\n",
    "5. **Turtle Graphics**: Write a program that uses turtle graphics to draw a square.\n",
    "\n",
    "---"
   ]
  }
 ],
 "metadata": {
  "kernelspec": {
   "display_name": "Python 3 (ipykernel)",
   "language": "python",
   "name": "python3"
  },
  "language_info": {
   "codemirror_mode": {
    "name": "ipython",
    "version": 3
   },
   "file_extension": ".py",
   "mimetype": "text/x-python",
   "name": "python",
   "nbconvert_exporter": "python",
   "pygments_lexer": "ipython3",
   "version": "3.12.3"
  }
 },
 "nbformat": 4,
 "nbformat_minor": 5
}
