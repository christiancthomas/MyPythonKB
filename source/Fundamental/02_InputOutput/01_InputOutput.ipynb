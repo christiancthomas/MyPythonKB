{
 "cells": [
  {
   "cell_type": "markdown",
   "id": "b85256b4-a8cc-4219-83f5-9f4fce9c8bc8",
   "metadata": {},
   "source": [
    "# Python Fundamentals - Chapter 2: Input, Processing, and Output\n",
    "\n",
    "## Topics:\n",
    "\n",
    "1. Designing a Program\n",
    "2. Input, Processing, and Output\n",
    "3. Displaying Output with the print Function\n",
    "4. Comments\n",
    "5. Variables\n",
    "6. Reading Input from the Keyboard\n",
    "7. Performing Calculations\n",
    "8. String Concatenation\n",
    "9. More About the print Function\n",
    "10. Displaying Formatted Output\n",
    "11. Named Constants\n",
    "12. Introduction to Turtle Graphics\n"
   ]
  },
  {
   "cell_type": "markdown",
   "id": "fa4f10a3-3fbf-48c4-95e2-c25736ec588f",
   "metadata": {},
   "source": [
    "\n",
    "\n",
    "\n",
    "## 1. Designing a Program\n",
    "Programs must be designed before they are written. The program development cycle involves:\n",
    "- Designing the program\n",
    "- Writing the code\n",
    "- Correcting syntax errors\n",
    "- Testing the program\n",
    "- Correcting logic errors\n",
    "\n",
    "## 2. Input, Processing, and Output\n",
    "A typical computer program performs the following steps:\n",
    "- **Input**: Receive data from the user\n",
    "- **Processing**: Perform operations on the data\n",
    "- **Output**: Display the results\n",
    "\n",
    "## 3. Displaying Output with the `print` Function\n",
    "The `print` function displays output on the screen. Example:\n",
    "\n",
    "```python\n",
    "print(\"Hello, world!\")\n"
   ]
  },
  {
   "cell_type": "code",
   "execution_count": 4,
   "id": "9633f6b8-fc6a-4866-9eef-c808bfae684f",
   "metadata": {
    "jupyter": {
     "is_executing": true
    }
   },
   "outputs": [
    {
     "name": "stdout",
     "output_type": "stream",
     "text": [
      "This is a print statement\n",
      "Try printing some different things including number 8\n"
     ]
    },
    {
     "name": "stdin",
     "output_type": "stream",
     "text": [
      "Enter a short string here: zcz\n"
     ]
    },
    {
     "name": "stdout",
     "output_type": "stream",
     "text": [
      "The string you input is:  Zcz\n",
      "This will print a float number with 2 decimal places:  2.00\n",
      "This will print a float number with 2 decimal places: 2.00\n",
      "This will multiply 5 times 10 and display the result:  50\n"
     ]
    }
   ],
   "source": [
    "# Add comments below \n",
    "# Thsi si Truc\n",
    "\n",
    "# This is a normal string print\n",
    "print (\"This is a print statement\")\n",
    "\n",
    "# This is an f string print with number\n",
    "print (f\"Try printing some different things including number {5+3}\")\n",
    "\n",
    "# Get the input from user and store the input \n",
    "input_string = input(\"Enter a short string here:\")\n",
    "\n",
    "# processing\n",
    "input_string = input_string.capitalize()\n",
    "\n",
    "# Display the input\n",
    "print (\"The string you input is: \", input_string)\n",
    "\n",
    "# assign a number\n",
    "float_number = 2\n",
    "\n",
    "# This will print a float number with 2 decimal places\n",
    "print(\"This will print a float number with 2 decimal places: \", format(float_number, '.2f'))\n",
    "print(f\"This will print a float number with 2 decimal places: {format(float_number, '.2f')}\")\n",
    "\n",
    "num1 = 5\n",
    "num2 = 10\n",
    "print(f\"This will multiply {num1} times {num2} and display the result: \", num1*num2)"
   ]
  },
  {
   "cell_type": "code",
   "execution_count": 2,
   "id": "ae6ac71b-9ec4-4ccb-a2d0-0a6b770c94c6",
   "metadata": {
    "ExecuteTime": {
     "end_time": "2024-07-11T16:45:24.285526Z",
     "start_time": "2024-07-11T16:45:24.281030Z"
    }
   },
   "outputs": [
    {
     "name": "stdout",
     "output_type": "stream",
     "text": [
      "Hello, Truc\n"
     ]
    }
   ],
   "source": [
    "# Please feel free to add your code here and change it\n",
    "print(\"Hello, Truc\")\n"
   ]
  },
  {
   "cell_type": "code",
   "execution_count": 3,
   "id": "cc1d7b2c-4079-42a3-8750-416b932060d6",
   "metadata": {
    "ExecuteTime": {
     "end_time": "2024-07-11T16:45:26.239923Z",
     "start_time": "2024-07-11T16:45:26.235096Z"
    }
   },
   "outputs": [
    {
     "data": {
      "text/plain": [
       "'ab'"
      ]
     },
     "execution_count": 3,
     "metadata": {},
     "output_type": "execute_result"
    }
   ],
   "source": [
    "# This will work\n",
    "\n",
    "\"a\" + \"b\""
   ]
  },
  {
   "cell_type": "code",
   "execution_count": 5,
   "id": "069a685b-202e-4061-bfbe-f896bb433d6b",
   "metadata": {
    "jupyter": {
     "is_executing": true
    }
   },
   "outputs": [
    {
     "ename": "NameError",
     "evalue": "name 'a' is not defined",
     "output_type": "error",
     "traceback": [
      "\u001b[0;31m---------------------------------------------------------------------------\u001b[0m",
      "\u001b[0;31mNameError\u001b[0m                                 Traceback (most recent call last)",
      "Cell \u001b[0;32mIn[5], line 2\u001b[0m\n\u001b[1;32m      1\u001b[0m \u001b[38;5;66;03m# This will crash\u001b[39;00m\n\u001b[0;32m----> 2\u001b[0m \u001b[43ma\u001b[49m\u001b[38;5;241m+\u001b[39mb\n",
      "\u001b[0;31mNameError\u001b[0m: name 'a' is not defined"
     ]
    }
   ],
   "source": [
    "# This will crash\n",
    "a+b\n"
   ]
  },
  {
   "cell_type": "code",
   "execution_count": 6,
   "id": "9070bb8c-03c5-4e5c-8694-f15802b95770",
   "metadata": {
    "jupyter": {
     "is_executing": true
    }
   },
   "outputs": [
    {
     "data": {
      "text/plain": [
       "3"
      ]
     },
     "execution_count": 6,
     "metadata": {},
     "output_type": "execute_result"
    }
   ],
   "source": [
    "# This will work\n",
    "a,b = 1,2\n",
    "a+b"
   ]
  },
  {
   "cell_type": "markdown",
   "id": "6edda933-5998-481b-8079-6bfc232dc68d",
   "metadata": {},
   "source": [
    "# Math Section\n",
    "\n",
    "Do st with math"
   ]
  },
  {
   "cell_type": "code",
   "execution_count": 6,
   "id": "5df3e286-9f94-467e-ac6e-8646973fcf27",
   "metadata": {},
   "outputs": [
    {
     "name": "stdout",
     "output_type": "stream",
     "text": [
      "This will multiply 5 times 10 and display the result: 50\n",
      "This will multiply 5 times 10 and display the result: 50\n"
     ]
    }
   ],
   "source": [
    "num1 = 5\n",
    "num2 = 10\n",
    "print(f\"This will multiply {num1} times {num2} and display the result: {num1*num2}\")\n",
    "print(f\"This will multiply {num1} times {num2} and display the result:\", num1*num2)"
   ]
  },
  {
   "cell_type": "code",
   "execution_count": 7,
   "id": "7e9ac147-ab35-4707-9ab9-cf7debc5428b",
   "metadata": {},
   "outputs": [
    {
     "name": "stdout",
     "output_type": "stream",
     "text": [
      "1.0\n",
      "1\n",
      "1.0\n"
     ]
    }
   ],
   "source": [
    "tom = 1\n",
    "# Temporary\n",
    "print(float(tom))\n",
    "\n",
    "# Permanent\n",
    "print (tom)\n",
    "\n",
    "# Permanent float\n",
    "tom = float(tom)\n",
    "print (tom)"
   ]
  },
  {
   "cell_type": "code",
   "execution_count": 10,
   "id": "c5c422ec-3e42-45fe-beea-c98d197a0f78",
   "metadata": {},
   "outputs": [
    {
     "name": "stdout",
     "output_type": "stream",
     "text": [
      "\n",
      "\tTom  go to class today\n",
      "no tab no line\n",
      "\ttab only\n"
     ]
    }
   ],
   "source": [
    "# <!-- Special characters appearing in string literal \n",
    "# Preceded by backslash (\\)\n",
    "# Examples: newline (\\n), horizontal tab (\\t)\n",
    "# Treated as commands embedded in string -->\n",
    "\n",
    "Tom = \"\\n\\tTom  go to class today\\n\" +\"no tab no line\"+\"\\n\\ttab only\"\n",
    "print(Tom)"
   ]
  },
  {
   "cell_type": "markdown",
   "id": "88e67900-d460-4216-886f-d8b18476bd78",
   "metadata": {},
   "source": [
    "### 3.1 Basic Input/Output and formatting (Group/IN CLASS):\n",
    "Create a small program that will take a celcius temperature from the user and convert it to fahrenheit\n",
    "- Print the output result to 3 decimal places\n",
    "- Print a degree sign after the output\n",
    "- Try to figure out how to create the program in the fewest lines possible\n",
    "- Formula: Fahrenheit = (9/5)(Degrees Celcius) + 32"
   ]
  },
  {
   "cell_type": "code",
   "execution_count": 10,
   "id": "05798332-2f57-4f01-a8ff-a640a14cecdf",
   "metadata": {
    "jupyter": {
     "is_executing": true
    }
   },
   "outputs": [],
   "source": [
    "\n",
    "# You can use this as a template and fill in the blank\n",
    "# def calculate_fahrenheit(celcius_degree):\n",
    "#     return (f\"The degree in Fahrenheit is {format(( \"FILL Your code here\",'.3f')} \\N{DEGREE SIGN}F\")\n",
    "# cel_input = input('Please enter a degree in celius: ')\n",
    "# print(calculate_fahrenheit(cel_input))\n",
    "\n",
    "\n",
    "# OR YOU CAN CREATE YOUR OWN LOGIC"
   ]
  },
  {
   "cell_type": "markdown",
   "id": "bfea02a1-7e64-4f49-b2a0-2f2a110f9e5b",
   "metadata": {},
   "source": [
    "## 4. Comments\n",
    "Comments are notes in the code that explain what the code does. They are ignored by Python. Example:"
   ]
  },
  {
   "cell_type": "code",
   "execution_count": 11,
   "id": "ef36ee22-57a6-4df5-b66e-5c9070dcdf1c",
   "metadata": {
    "jupyter": {
     "is_executing": true
    }
   },
   "outputs": [
    {
     "name": "stdout",
     "output_type": "stream",
     "text": [
      "This will be printed.\n"
     ]
    }
   ],
   "source": [
    "# This is a comment\n",
    "print(\"This will be printed.\")  # This is an end-of-line comment\n"
   ]
  },
  {
   "cell_type": "markdown",
   "id": "f46e00c8-9bb5-4050-9c25-3b01b522f794",
   "metadata": {},
   "source": [
    "## 5. Variables\n",
    "Variables are used to store data in a program. Example:"
   ]
  },
  {
   "cell_type": "code",
   "execution_count": 12,
   "id": "ee5716ea-0652-4e10-98ea-718a282e9274",
   "metadata": {
    "jupyter": {
     "is_executing": true
    }
   },
   "outputs": [
    {
     "name": "stdout",
     "output_type": "stream",
     "text": [
      "29\n"
     ]
    }
   ],
   "source": [
    "# traditional Python\n",
    "age = 29\n",
    "print(age)\n"
   ]
  },
  {
   "cell_type": "markdown",
   "id": "af4d8d28-a20f-48b0-88a8-9fce4a00ae68",
   "metadata": {},
   "source": [
    "## 6 Reading Input from the Keyboard\n",
    "The input function reads input from the user. Example:"
   ]
  },
  {
   "cell_type": "code",
   "execution_count": 13,
   "id": "7109d16e-55c1-4cc2-ae02-9a0907c1e571",
   "metadata": {
    "jupyter": {
     "is_executing": true
    }
   },
   "outputs": [
    {
     "name": "stdin",
     "output_type": "stream",
     "text": [
      "Enter your name:  Truc\n"
     ]
    },
    {
     "name": "stdout",
     "output_type": "stream",
     "text": [
      "Hello, Truc!\n"
     ]
    }
   ],
   "source": [
    "name = input(\"Enter your name: \")\n",
    "print(\"Hello, \" + name + \"!\")\n"
   ]
  },
  {
   "cell_type": "markdown",
   "id": "ab6913be-8a4c-4966-adee-f2f029552194",
   "metadata": {},
   "source": [
    "## 7. Performing Calculations\n",
    "You can perform calculations using math operators. Example:"
   ]
  },
  {
   "cell_type": "code",
   "execution_count": 14,
   "id": "12ddbde5-5952-43f2-9112-e0e2dc9b8f8f",
   "metadata": {
    "jupyter": {
     "is_executing": true
    }
   },
   "outputs": [
    {
     "name": "stdout",
     "output_type": "stream",
     "text": [
      "The result is 30\n"
     ]
    }
   ],
   "source": [
    "num1 = 10\n",
    "num2 = 20\n",
    "result = num1 + num2\n",
    "print(\"The result is\", result)\n"
   ]
  },
  {
   "cell_type": "markdown",
   "id": "cfd1c54d-e0eb-437d-a47e-229e43cc1362",
   "metadata": {},
   "source": [
    "## 8. String Concatenation\n",
    "You can concatenate strings using the `+` operator. Example:\n"
   ]
  },
  {
   "cell_type": "code",
   "execution_count": 15,
   "id": "12dde2fc-21cc-437b-b48a-01a7c9cab183",
   "metadata": {
    "jupyter": {
     "is_executing": true
    }
   },
   "outputs": [
    {
     "name": "stdout",
     "output_type": "stream",
     "text": [
      "Hello, Alice!\n"
     ]
    }
   ],
   "source": [
    "greeting = \"Hello\"\n",
    "name = \"Alice\"\n",
    "message = greeting + \", \" + name + \"!\"\n",
    "print(message)\n"
   ]
  },
  {
   "cell_type": "markdown",
   "id": "2dfff323-e938-4442-b278-cd803fc27f22",
   "metadata": {},
   "source": [
    "## 9. More About the `print` Function\n",
    "You can customize the output of the `print` function. Example:\n"
   ]
  },
  {
   "cell_type": "code",
   "execution_count": 11,
   "id": "2812b57e-13fb-40d5-89f7-0c5d9df8934e",
   "metadata": {
    "jupyter": {
     "is_executing": true
    }
   },
   "outputs": [
    {
     "name": "stdout",
     "output_type": "stream",
     "text": [
      "Hello, world, truc!\n"
     ]
    }
   ],
   "source": [
    "print(\"Hello\", \"world\",\"truc\", sep=\", \", end=\"!\\n\")"
   ]
  },
  {
   "cell_type": "markdown",
   "id": "8ffae63b-e136-472b-8638-a16cbd4a2eae",
   "metadata": {},
   "source": [
    "## 10. Displaying Formatted Output\n",
    "Use f-strings to format output. Example:\n"
   ]
  },
  {
   "cell_type": "code",
   "execution_count": 17,
   "id": "6da6b10e-e8be-471e-82e0-009cd013bd73",
   "metadata": {
    "jupyter": {
     "is_executing": true
    }
   },
   "outputs": [
    {
     "name": "stdout",
     "output_type": "stream",
     "text": [
      "Name: Alice, Age: 30\n"
     ]
    }
   ],
   "source": [
    "name = \"Alice\"\n",
    "age = 30\n",
    "print(f\"Name: {name}, Age: {age}\")"
   ]
  },
  {
   "cell_type": "markdown",
   "id": "634fd679-2674-46a9-b0c8-6d93ebb15233",
   "metadata": {},
   "source": [
    "## 11. Named Constants\n",
    "Use named constants to make your code more readable and maintainable. Example:"
   ]
  },
  {
   "cell_type": "code",
   "execution_count": 18,
   "id": "84a825d6-0b31-4361-8a1f-a2f81b977322",
   "metadata": {
    "jupyter": {
     "is_executing": true
    }
   },
   "outputs": [
    {
     "name": "stdout",
     "output_type": "stream",
     "text": [
      "Interest: 50.0\n"
     ]
    }
   ],
   "source": [
    "INTEREST_RATE = 0.05\n",
    "balance = 1000\n",
    "interest = balance * INTEREST_RATE\n",
    "print(\"Interest:\", interest)"
   ]
  },
  {
   "cell_type": "markdown",
   "id": "b99bd925-52fb-405e-9349-2d3a0d662c5e",
   "metadata": {},
   "source": [
    "## 12. Introduction to Turtle Graphics\n",
    "Turtle graphics is a popular way for introducing programming to kids. Example:\n"
   ]
  },
  {
   "cell_type": "code",
   "execution_count": 19,
   "id": "fcf1c03f-92e4-40a6-bb63-23c54e2b7227",
   "metadata": {
    "jupyter": {
     "is_executing": true
    }
   },
   "outputs": [
    {
     "ename": "TclError",
     "evalue": "can't invoke \"bind\" command:  application has been destroyed",
     "output_type": "error",
     "traceback": [
      "\u001b[0;31m---------------------------------------------------------------------------\u001b[0m",
      "\u001b[0;31mTclError\u001b[0m                                  Traceback (most recent call last)",
      "Cell \u001b[0;32mIn[19], line 4\u001b[0m\n\u001b[1;32m      1\u001b[0m \u001b[38;5;28;01mimport\u001b[39;00m\u001b[38;5;250m \u001b[39m\u001b[38;5;21;01mturtle\u001b[39;00m\n\u001b[1;32m      3\u001b[0m \u001b[38;5;66;03m# Create a turtle object\u001b[39;00m\n\u001b[0;32m----> 4\u001b[0m t \u001b[38;5;241m=\u001b[39m \u001b[43mturtle\u001b[49m\u001b[38;5;241;43m.\u001b[39;49m\u001b[43mTurtle\u001b[49m\u001b[43m(\u001b[49m\u001b[43m)\u001b[49m\n\u001b[1;32m      6\u001b[0m \u001b[38;5;66;03m# Move the turtle forward\u001b[39;00m\n\u001b[1;32m      7\u001b[0m t\u001b[38;5;241m.\u001b[39mforward(\u001b[38;5;241m100\u001b[39m)\n",
      "File \u001b[0;32m/Library/Developer/CommandLineTools/Library/Frameworks/Python3.framework/Versions/3.9/lib/python3.9/turtle.py:3813\u001b[0m, in \u001b[0;36mTurtle.__init__\u001b[0;34m(self, shape, undobuffersize, visible)\u001b[0m\n\u001b[1;32m   3808\u001b[0m \u001b[38;5;28;01mdef\u001b[39;00m\u001b[38;5;250m \u001b[39m\u001b[38;5;21m__init__\u001b[39m(\u001b[38;5;28mself\u001b[39m,\n\u001b[1;32m   3809\u001b[0m              shape\u001b[38;5;241m=\u001b[39m_CFG[\u001b[38;5;124m\"\u001b[39m\u001b[38;5;124mshape\u001b[39m\u001b[38;5;124m\"\u001b[39m],\n\u001b[1;32m   3810\u001b[0m              undobuffersize\u001b[38;5;241m=\u001b[39m_CFG[\u001b[38;5;124m\"\u001b[39m\u001b[38;5;124mundobuffersize\u001b[39m\u001b[38;5;124m\"\u001b[39m],\n\u001b[1;32m   3811\u001b[0m              visible\u001b[38;5;241m=\u001b[39m_CFG[\u001b[38;5;124m\"\u001b[39m\u001b[38;5;124mvisible\u001b[39m\u001b[38;5;124m\"\u001b[39m]):\n\u001b[1;32m   3812\u001b[0m     \u001b[38;5;28;01mif\u001b[39;00m Turtle\u001b[38;5;241m.\u001b[39m_screen \u001b[38;5;129;01mis\u001b[39;00m \u001b[38;5;28;01mNone\u001b[39;00m:\n\u001b[0;32m-> 3813\u001b[0m         Turtle\u001b[38;5;241m.\u001b[39m_screen \u001b[38;5;241m=\u001b[39m \u001b[43mScreen\u001b[49m\u001b[43m(\u001b[49m\u001b[43m)\u001b[49m\n\u001b[1;32m   3814\u001b[0m     RawTurtle\u001b[38;5;241m.\u001b[39m\u001b[38;5;21m__init__\u001b[39m(\u001b[38;5;28mself\u001b[39m, Turtle\u001b[38;5;241m.\u001b[39m_screen,\n\u001b[1;32m   3815\u001b[0m                        shape\u001b[38;5;241m=\u001b[39mshape,\n\u001b[1;32m   3816\u001b[0m                        undobuffersize\u001b[38;5;241m=\u001b[39mundobuffersize,\n\u001b[1;32m   3817\u001b[0m                        visible\u001b[38;5;241m=\u001b[39mvisible)\n",
      "File \u001b[0;32m/Library/Developer/CommandLineTools/Library/Frameworks/Python3.framework/Versions/3.9/lib/python3.9/turtle.py:3663\u001b[0m, in \u001b[0;36mScreen\u001b[0;34m()\u001b[0m\n\u001b[1;32m   3659\u001b[0m \u001b[38;5;250m\u001b[39m\u001b[38;5;124;03m\"\"\"Return the singleton screen object.\u001b[39;00m\n\u001b[1;32m   3660\u001b[0m \u001b[38;5;124;03mIf none exists at the moment, create a new one and return it,\u001b[39;00m\n\u001b[1;32m   3661\u001b[0m \u001b[38;5;124;03melse return the existing one.\"\"\"\u001b[39;00m\n\u001b[1;32m   3662\u001b[0m \u001b[38;5;28;01mif\u001b[39;00m Turtle\u001b[38;5;241m.\u001b[39m_screen \u001b[38;5;129;01mis\u001b[39;00m \u001b[38;5;28;01mNone\u001b[39;00m:\n\u001b[0;32m-> 3663\u001b[0m     Turtle\u001b[38;5;241m.\u001b[39m_screen \u001b[38;5;241m=\u001b[39m \u001b[43m_Screen\u001b[49m\u001b[43m(\u001b[49m\u001b[43m)\u001b[49m\n\u001b[1;32m   3664\u001b[0m \u001b[38;5;28;01mreturn\u001b[39;00m Turtle\u001b[38;5;241m.\u001b[39m_screen\n",
      "File \u001b[0;32m/Library/Developer/CommandLineTools/Library/Frameworks/Python3.framework/Versions/3.9/lib/python3.9/turtle.py:3691\u001b[0m, in \u001b[0;36m_Screen.__init__\u001b[0;34m(self)\u001b[0m\n\u001b[1;32m   3689\u001b[0m \u001b[38;5;28mself\u001b[39m\u001b[38;5;241m.\u001b[39m_root\u001b[38;5;241m.\u001b[39msetupcanvas(width, height, canvwidth, canvheight)\n\u001b[1;32m   3690\u001b[0m _Screen\u001b[38;5;241m.\u001b[39m_canvas \u001b[38;5;241m=\u001b[39m \u001b[38;5;28mself\u001b[39m\u001b[38;5;241m.\u001b[39m_root\u001b[38;5;241m.\u001b[39m_getcanvas()\n\u001b[0;32m-> 3691\u001b[0m \u001b[43mTurtleScreen\u001b[49m\u001b[38;5;241;43m.\u001b[39;49m\u001b[38;5;21;43m__init__\u001b[39;49m\u001b[43m(\u001b[49m\u001b[38;5;28;43mself\u001b[39;49m\u001b[43m,\u001b[49m\u001b[43m \u001b[49m\u001b[43m_Screen\u001b[49m\u001b[38;5;241;43m.\u001b[39;49m\u001b[43m_canvas\u001b[49m\u001b[43m)\u001b[49m\n\u001b[1;32m   3692\u001b[0m \u001b[38;5;28mself\u001b[39m\u001b[38;5;241m.\u001b[39msetup(width, height, leftright, topbottom)\n",
      "File \u001b[0;32m/Library/Developer/CommandLineTools/Library/Frameworks/Python3.framework/Versions/3.9/lib/python3.9/turtle.py:996\u001b[0m, in \u001b[0;36mTurtleScreen.__init__\u001b[0;34m(self, cv, mode, colormode, delay)\u001b[0m\n\u001b[1;32m    994\u001b[0m \u001b[38;5;28mself\u001b[39m\u001b[38;5;241m.\u001b[39m_colormode \u001b[38;5;241m=\u001b[39m _CFG[\u001b[38;5;124m\"\u001b[39m\u001b[38;5;124mcolormode\u001b[39m\u001b[38;5;124m\"\u001b[39m]\n\u001b[1;32m    995\u001b[0m \u001b[38;5;28mself\u001b[39m\u001b[38;5;241m.\u001b[39m_keys \u001b[38;5;241m=\u001b[39m []\n\u001b[0;32m--> 996\u001b[0m \u001b[38;5;28;43mself\u001b[39;49m\u001b[38;5;241;43m.\u001b[39;49m\u001b[43mclear\u001b[49m\u001b[43m(\u001b[49m\u001b[43m)\u001b[49m\n\u001b[1;32m    997\u001b[0m \u001b[38;5;28;01mif\u001b[39;00m sys\u001b[38;5;241m.\u001b[39mplatform \u001b[38;5;241m==\u001b[39m \u001b[38;5;124m'\u001b[39m\u001b[38;5;124mdarwin\u001b[39m\u001b[38;5;124m'\u001b[39m:\n\u001b[1;32m    998\u001b[0m     \u001b[38;5;66;03m# Force Turtle window to the front on OS X. This is needed because\u001b[39;00m\n\u001b[1;32m    999\u001b[0m     \u001b[38;5;66;03m# the Turtle window will show behind the Terminal window when you\u001b[39;00m\n\u001b[1;32m   1000\u001b[0m     \u001b[38;5;66;03m# start the demo from the command line.\u001b[39;00m\n\u001b[1;32m   1001\u001b[0m     rootwindow \u001b[38;5;241m=\u001b[39m cv\u001b[38;5;241m.\u001b[39mwinfo_toplevel()\n",
      "File \u001b[0;32m/Library/Developer/CommandLineTools/Library/Frameworks/Python3.framework/Versions/3.9/lib/python3.9/turtle.py:1028\u001b[0m, in \u001b[0;36mTurtleScreen.clear\u001b[0;34m(self)\u001b[0m\n\u001b[1;32m   1026\u001b[0m \u001b[38;5;28mself\u001b[39m\u001b[38;5;241m.\u001b[39mbgcolor(\u001b[38;5;124m\"\u001b[39m\u001b[38;5;124mwhite\u001b[39m\u001b[38;5;124m\"\u001b[39m)\n\u001b[1;32m   1027\u001b[0m \u001b[38;5;28;01mfor\u001b[39;00m btn \u001b[38;5;129;01min\u001b[39;00m \u001b[38;5;241m1\u001b[39m, \u001b[38;5;241m2\u001b[39m, \u001b[38;5;241m3\u001b[39m:\n\u001b[0;32m-> 1028\u001b[0m     \u001b[38;5;28;43mself\u001b[39;49m\u001b[38;5;241;43m.\u001b[39;49m\u001b[43monclick\u001b[49m\u001b[43m(\u001b[49m\u001b[38;5;28;43;01mNone\u001b[39;49;00m\u001b[43m,\u001b[49m\u001b[43m \u001b[49m\u001b[43mbtn\u001b[49m\u001b[43m)\u001b[49m\n\u001b[1;32m   1029\u001b[0m \u001b[38;5;28mself\u001b[39m\u001b[38;5;241m.\u001b[39monkeypress(\u001b[38;5;28;01mNone\u001b[39;00m)\n\u001b[1;32m   1030\u001b[0m \u001b[38;5;28;01mfor\u001b[39;00m key \u001b[38;5;129;01min\u001b[39;00m \u001b[38;5;28mself\u001b[39m\u001b[38;5;241m.\u001b[39m_keys[:]:\n",
      "File \u001b[0;32m/Library/Developer/CommandLineTools/Library/Frameworks/Python3.framework/Versions/3.9/lib/python3.9/turtle.py:1365\u001b[0m, in \u001b[0;36mTurtleScreen.onclick\u001b[0;34m(self, fun, btn, add)\u001b[0m\n\u001b[1;32m   1350\u001b[0m \u001b[38;5;28;01mdef\u001b[39;00m\u001b[38;5;250m \u001b[39m\u001b[38;5;21monclick\u001b[39m(\u001b[38;5;28mself\u001b[39m, fun, btn\u001b[38;5;241m=\u001b[39m\u001b[38;5;241m1\u001b[39m, add\u001b[38;5;241m=\u001b[39m\u001b[38;5;28;01mNone\u001b[39;00m):\n\u001b[1;32m   1351\u001b[0m \u001b[38;5;250m    \u001b[39m\u001b[38;5;124;03m\"\"\"Bind fun to mouse-click event on canvas.\u001b[39;00m\n\u001b[1;32m   1352\u001b[0m \n\u001b[1;32m   1353\u001b[0m \u001b[38;5;124;03m    Arguments:\u001b[39;00m\n\u001b[0;32m   (...)\u001b[0m\n\u001b[1;32m   1363\u001b[0m \u001b[38;5;124;03m    >>> screen.onclick(None)\u001b[39;00m\n\u001b[1;32m   1364\u001b[0m \u001b[38;5;124;03m    \"\"\"\u001b[39;00m\n\u001b[0;32m-> 1365\u001b[0m     \u001b[38;5;28;43mself\u001b[39;49m\u001b[38;5;241;43m.\u001b[39;49m\u001b[43m_onscreenclick\u001b[49m\u001b[43m(\u001b[49m\u001b[43mfun\u001b[49m\u001b[43m,\u001b[49m\u001b[43m \u001b[49m\u001b[43mbtn\u001b[49m\u001b[43m,\u001b[49m\u001b[43m \u001b[49m\u001b[43madd\u001b[49m\u001b[43m)\u001b[49m\n",
      "File \u001b[0;32m/Library/Developer/CommandLineTools/Library/Frameworks/Python3.framework/Versions/3.9/lib/python3.9/turtle.py:669\u001b[0m, in \u001b[0;36mTurtleScreenBase._onscreenclick\u001b[0;34m(self, fun, num, add)\u001b[0m\n\u001b[1;32m    660\u001b[0m \u001b[38;5;250m\u001b[39m\u001b[38;5;124;03m\"\"\"Bind fun to mouse-click event on canvas.\u001b[39;00m\n\u001b[1;32m    661\u001b[0m \u001b[38;5;124;03mfun must be a function with two arguments, the coordinates\u001b[39;00m\n\u001b[1;32m    662\u001b[0m \u001b[38;5;124;03mof the clicked point on the canvas.\u001b[39;00m\n\u001b[0;32m   (...)\u001b[0m\n\u001b[1;32m    666\u001b[0m \u001b[38;5;124;03mthen _onscreensclick-event.\u001b[39;00m\n\u001b[1;32m    667\u001b[0m \u001b[38;5;124;03m\"\"\"\u001b[39;00m\n\u001b[1;32m    668\u001b[0m \u001b[38;5;28;01mif\u001b[39;00m fun \u001b[38;5;129;01mis\u001b[39;00m \u001b[38;5;28;01mNone\u001b[39;00m:\n\u001b[0;32m--> 669\u001b[0m     \u001b[38;5;28;43mself\u001b[39;49m\u001b[38;5;241;43m.\u001b[39;49m\u001b[43mcv\u001b[49m\u001b[38;5;241;43m.\u001b[39;49m\u001b[43munbind\u001b[49m\u001b[43m(\u001b[49m\u001b[38;5;124;43m\"\u001b[39;49m\u001b[38;5;124;43m<Button-\u001b[39;49m\u001b[38;5;132;43;01m%s\u001b[39;49;00m\u001b[38;5;124;43m>\u001b[39;49m\u001b[38;5;124;43m\"\u001b[39;49m\u001b[43m \u001b[49m\u001b[38;5;241;43m%\u001b[39;49m\u001b[43m \u001b[49m\u001b[43mnum\u001b[49m\u001b[43m)\u001b[49m\n\u001b[1;32m    670\u001b[0m \u001b[38;5;28;01melse\u001b[39;00m:\n\u001b[1;32m    671\u001b[0m     \u001b[38;5;28;01mdef\u001b[39;00m\u001b[38;5;250m \u001b[39m\u001b[38;5;21meventfun\u001b[39m(event):\n",
      "File \u001b[0;32m/Library/Developer/CommandLineTools/Library/Frameworks/Python3.framework/Versions/3.9/lib/python3.9/turtle.py:422\u001b[0m, in \u001b[0;36mScrolledCanvas.unbind\u001b[0;34m(self, *args, **kwargs)\u001b[0m\n\u001b[1;32m    419\u001b[0m \u001b[38;5;28;01mdef\u001b[39;00m\u001b[38;5;250m \u001b[39m\u001b[38;5;21munbind\u001b[39m(\u001b[38;5;28mself\u001b[39m, \u001b[38;5;241m*\u001b[39margs, \u001b[38;5;241m*\u001b[39m\u001b[38;5;241m*\u001b[39mkwargs):\n\u001b[1;32m    420\u001b[0m \u001b[38;5;250m    \u001b[39m\u001b[38;5;124;03m\"\"\" 'forward' method, which canvas itself has inherited...\u001b[39;00m\n\u001b[1;32m    421\u001b[0m \u001b[38;5;124;03m    \"\"\"\u001b[39;00m\n\u001b[0;32m--> 422\u001b[0m     \u001b[38;5;28;43mself\u001b[39;49m\u001b[38;5;241;43m.\u001b[39;49m\u001b[43m_canvas\u001b[49m\u001b[38;5;241;43m.\u001b[39;49m\u001b[43munbind\u001b[49m\u001b[43m(\u001b[49m\u001b[38;5;241;43m*\u001b[39;49m\u001b[43margs\u001b[49m\u001b[43m,\u001b[49m\u001b[43m \u001b[49m\u001b[38;5;241;43m*\u001b[39;49m\u001b[38;5;241;43m*\u001b[39;49m\u001b[43mkwargs\u001b[49m\u001b[43m)\u001b[49m\n",
      "File \u001b[0;32m/Library/Developer/CommandLineTools/Library/Frameworks/Python3.framework/Versions/3.9/lib/python3.9/tkinter/__init__.py:1397\u001b[0m, in \u001b[0;36mMisc.unbind\u001b[0;34m(self, sequence, funcid)\u001b[0m\n\u001b[1;32m   1394\u001b[0m \u001b[38;5;28;01mdef\u001b[39;00m\u001b[38;5;250m \u001b[39m\u001b[38;5;21munbind\u001b[39m(\u001b[38;5;28mself\u001b[39m, sequence, funcid\u001b[38;5;241m=\u001b[39m\u001b[38;5;28;01mNone\u001b[39;00m):\n\u001b[1;32m   1395\u001b[0m \u001b[38;5;250m    \u001b[39m\u001b[38;5;124;03m\"\"\"Unbind for this widget for event SEQUENCE  the\u001b[39;00m\n\u001b[1;32m   1396\u001b[0m \u001b[38;5;124;03m    function identified with FUNCID.\"\"\"\u001b[39;00m\n\u001b[0;32m-> 1397\u001b[0m     \u001b[38;5;28;43mself\u001b[39;49m\u001b[38;5;241;43m.\u001b[39;49m\u001b[43mtk\u001b[49m\u001b[38;5;241;43m.\u001b[39;49m\u001b[43mcall\u001b[49m\u001b[43m(\u001b[49m\u001b[38;5;124;43m'\u001b[39;49m\u001b[38;5;124;43mbind\u001b[39;49m\u001b[38;5;124;43m'\u001b[39;49m\u001b[43m,\u001b[49m\u001b[43m \u001b[49m\u001b[38;5;28;43mself\u001b[39;49m\u001b[38;5;241;43m.\u001b[39;49m\u001b[43m_w\u001b[49m\u001b[43m,\u001b[49m\u001b[43m \u001b[49m\u001b[43msequence\u001b[49m\u001b[43m,\u001b[49m\u001b[43m \u001b[49m\u001b[38;5;124;43m'\u001b[39;49m\u001b[38;5;124;43m'\u001b[39;49m\u001b[43m)\u001b[49m\n\u001b[1;32m   1398\u001b[0m     \u001b[38;5;28;01mif\u001b[39;00m funcid:\n\u001b[1;32m   1399\u001b[0m         \u001b[38;5;28mself\u001b[39m\u001b[38;5;241m.\u001b[39mdeletecommand(funcid)\n",
      "\u001b[0;31mTclError\u001b[0m: can't invoke \"bind\" command:  application has been destroyed"
     ]
    }
   ],
   "source": [
    "import turtle\n",
    "\n",
    "# Create a turtle object\n",
    "t = turtle.Turtle()\n",
    "\n",
    "# Move the turtle forward\n",
    "t.forward(100)\n",
    "\n",
    "# Turn the turtle right\n",
    "t.right(90)\n",
    "\n",
    "# Move the turtle forward\n",
    "t.forward(100)\n",
    "\n",
    "\n",
    "# End the turtle graphics session\n",
    "turtle.done()\n",
    "\n"
   ]
  },
  {
   "cell_type": "markdown",
   "id": "d7fd3234-ad56-46c3-b0a0-c1144b8d4777",
   "metadata": {},
   "source": [
    "---\n",
    "\n",
    "## Exercises\n",
    "\n",
    "1. **Design a Program**: Write a program that asks the user for their name and age, then prints a message saying how old they will be next year.\n",
    "2. **Input, Processing, Output**: Write a program that calculates the area of a rectangle. The program should ask the user for the width and height of the rectangle, then display the area.\n",
    "3. **String Concatenation**: Write a program that asks the user for their first and last name separately, then prints a message saying their full name.\n",
    "4. **Formatted Output**: Write a program that asks the user for the price of an item and the sales tax rate. The program should display the total price with tax included, formatted to two decimal places.\n",
    "5. **Turtle Graphics**: Write a program that uses turtle graphics to draw a square.\n",
    "\n",
    "---"
   ]
  }
 ],
 "metadata": {
  "kernelspec": {
   "display_name": "Python 3 (ipykernel)",
   "language": "python",
   "name": "python3"
  },
  "language_info": {
   "codemirror_mode": {
    "name": "ipython",
    "version": 3
   },
   "file_extension": ".py",
   "mimetype": "text/x-python",
   "name": "python",
   "nbconvert_exporter": "python",
   "pygments_lexer": "ipython3",
   "version": "3.9.6"
  }
 },
 "nbformat": 4,
 "nbformat_minor": 5
}
